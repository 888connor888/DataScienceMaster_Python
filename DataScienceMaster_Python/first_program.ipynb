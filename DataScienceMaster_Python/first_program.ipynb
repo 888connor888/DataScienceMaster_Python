{
 "cells": [
  {
   "cell_type": "code",
   "execution_count": null,
   "metadata": {},
   "outputs": [],
   "source": []
  },
  {
   "cell_type": "code",
   "execution_count": 7,
   "metadata": {},
   "outputs": [
    {
     "name": "stdout",
     "output_type": "stream",
     "text": [
      "['10', '20', '30', '40']\n"
     ]
    }
   ],
   "source": [
    "lst = \"10 20 30 40\".split()\n",
    "print(lst)"
   ]
  },
  {
   "cell_type": "code",
   "execution_count": 6,
   "metadata": {},
   "outputs": [
    {
     "name": "stdout",
     "output_type": "stream",
     "text": [
      "[10, 20, 30, 40]\n"
     ]
    }
   ],
   "source": [
    "numbers=[int(no) for no in lst]\n",
    "print(numbers)"
   ]
  },
  {
   "cell_type": "code",
   "execution_count": 23,
   "metadata": {},
   "outputs": [
    {
     "name": "stdout",
     "output_type": "stream",
     "text": [
      "lenth  of the rectangel...2\n",
      "breadth of the rectangel...2\n",
      "area and peremeter are 4 and 8\n"
     ]
    }
   ],
   "source": [
    "l=int(input(\"lenth  of the rectangel...\"))\n",
    "b=int(input(\"breadth of the rectangel...\"))\n",
    "area=l*b\n",
    "peremeter=2*(l+b)\n",
    "print(\"area and peremeter are \" +str(area) + \" and \"+str(peremeter))\n",
    "    "
   ]
  },
  {
   "cell_type": "code",
   "execution_count": 25,
   "metadata": {},
   "outputs": [
    {
     "name": "stdout",
     "output_type": "stream",
     "text": [
      "0,1,2,3,4,5,6,7,8,9,"
     ]
    }
   ],
   "source": [
    "for j in range(0,10):\n",
    "    print(j,end=\",\")"
   ]
  },
  {
   "cell_type": "code",
   "execution_count": 22,
   "metadata": {},
   "outputs": [
    {
     "name": "stdout",
     "output_type": "stream",
     "text": [
      "Number5\n",
      "120\n"
     ]
    }
   ],
   "source": [
    "x=int(input(\"Number\"))\n",
    "ans=1\n",
    "for i in range(1,x+1):\n",
    "    ans*=i\n",
    "print(ans)"
   ]
  },
  {
   "cell_type": "code",
   "execution_count": 28,
   "metadata": {},
   "outputs": [
    {
     "name": "stdout",
     "output_type": "stream",
     "text": [
      "5 5 5 5 5 \n",
      "5 4 4 4 5 \n",
      "5 4 4 5 6 \n",
      "5 4 5 6 7 \n",
      "5 5 6 7 8 \n"
     ]
    }
   ],
   "source": [
    "#5x5 matrix\n",
    "n=5\n",
    "for e in range(0,5):\n",
    "    for f in range(0,5):\n",
    "        print(max(e+f,n-e,n-f,e-f),end=\" \")\n",
    "    print()"
   ]
  },
  {
   "cell_type": "markdown",
   "metadata": {},
   "source": [
    "# all prime nos upto n\n"
   ]
  },
  {
   "cell_type": "code",
   "execution_count": null,
   "metadata": {},
   "outputs": [],
   "source": [
    "n=int(input(\"Enter the value of n:\"))\n",
    "print(\"2\")\n",
    "for i in range (2,n+1):\n",
    "   for j in range(2,i):\n",
    "     if i%j==0:\n",
    "        break\n",
    "   else:\n",
    "      print(i)\n",
    "    \n",
    "    \n",
    "        "
   ]
  },
  {
   "cell_type": "markdown",
   "metadata": {},
   "source": [
    "##Python strings are not mutable.\n"
   ]
  },
  {
   "cell_type": "code",
   "execution_count": 1,
   "metadata": {},
   "outputs": [
    {
     "name": "stdout",
     "output_type": "stream",
     "text": [
      "mangojuice\n"
     ]
    }
   ],
   "source": [
    "#concatination\n",
    "a=\"mango\"\n",
    "b=\"juice\"\n",
    "print(a+b)"
   ]
  },
  {
   "cell_type": "code",
   "execution_count": 3,
   "metadata": {},
   "outputs": [
    {
     "name": "stdout",
     "output_type": "stream",
     "text": [
      "mangomangomangomangomango\n"
     ]
    }
   ],
   "source": [
    "print(a*5)"
   ]
  },
  {
   "cell_type": "code",
   "execution_count": 5,
   "metadata": {},
   "outputs": [
    {
     "data": {
      "text/plain": [
       "'ang'"
      ]
     },
     "execution_count": 5,
     "metadata": {},
     "output_type": "execute_result"
    }
   ],
   "source": [
    "#range slicing\n",
    "a[1:-1]"
   ]
  },
  {
   "cell_type": "code",
   "execution_count": 7,
   "metadata": {},
   "outputs": [
    {
     "name": "stdout",
     "output_type": "stream",
     "text": [
      "yes\n"
     ]
    },
    {
     "data": {
      "text/plain": [
       "True"
      ]
     },
     "execution_count": 7,
     "metadata": {},
     "output_type": "execute_result"
    }
   ],
   "source": [
    "#membership\n",
    "a=\"Coding Blocks\"\n",
    "b=\"Co\"\n",
    "if b in a:\n",
    "    print(\"yes\")\n",
    "else:\n",
    "    print(\"no\")\n",
    "\"ing\" in a"
   ]
  },
  {
   "cell_type": "code",
   "execution_count": 16,
   "metadata": {},
   "outputs": [
    {
     "name": "stdout",
     "output_type": "stream",
     "text": [
      "['This', 'is', 'a', 'random', 'paragraph', 'for', 'my', 'python', 'program']\n",
      "<class 'list'>\n",
      "['This is a random ', 'paragraph for my ', 'python program']\n"
     ]
    },
    {
     "data": {
      "text/plain": [
       "'This_is_a_random_paragraph_for_my_python_program'"
      ]
     },
     "execution_count": 16,
     "metadata": {},
     "output_type": "execute_result"
    }
   ],
   "source": [
    "#spliting\n",
    "para=\"\"\"This is a random \n",
    "paragraph for my \n",
    "python program\"\"\"\n",
    "#This creates a list of strings\n",
    "l=para.split()\n",
    "print(l)\n",
    "print(type(l))\n",
    "m=para.splitlines()\n",
    "print(m)\n",
    "para.find(\"random\")#find function,if the string is not present it returns -1\n",
    "para.replace(\"program\",\"code\")#replace function\n",
    "\"_\".join(l)##Join Function\n",
    "\n"
   ]
  },
  {
   "cell_type": "code",
   "execution_count": 13,
   "metadata": {},
   "outputs": [
    {
     "name": "stdout",
     "output_type": "stream",
     "text": [
      "MANGO\n"
     ]
    }
   ],
   "source": [
    "frute=\"mango\"\n",
    "frute=frute.upper()\n",
    "print(frute)"
   ]
  },
  {
   "cell_type": "code",
   "execution_count": null,
   "metadata": {},
   "outputs": [],
   "source": []
  },
  {
   "cell_type": "code",
   "execution_count": 8,
   "metadata": {},
   "outputs": [
    {
     "name": "stdout",
     "output_type": "stream",
     "text": [
      "My Fav frute is Mango\n"
     ]
    }
   ],
   "source": [
    "#string formating\n",
    "print(\"My Fav frute is %s\"%(\"Mango\"))"
   ]
  }
 ],
 "metadata": {
  "kernelspec": {
   "display_name": "Python 3",
   "language": "python",
   "name": "python3"
  },
  "language_info": {
   "codemirror_mode": {
    "name": "ipython",
    "version": 3
   },
   "file_extension": ".py",
   "mimetype": "text/x-python",
   "name": "python",
   "nbconvert_exporter": "python",
   "pygments_lexer": "ipython3",
   "version": "3.6.8"
  }
 },
 "nbformat": 4,
 "nbformat_minor": 2
}
