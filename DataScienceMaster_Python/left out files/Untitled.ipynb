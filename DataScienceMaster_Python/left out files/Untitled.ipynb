{
 "cells": [
  {
   "cell_type": "code",
   "execution_count": null,
   "metadata": {},
   "outputs": [],
   "source": []
  },
  {
   "cell_type": "markdown",
   "metadata": {},
   "source": [
    "# print prime numbers till n"
   ]
  },
  {
   "cell_type": "code",
   "execution_count": 33,
   "metadata": {},
   "outputs": [],
   "source": [
    "def check_func(i):\n",
    "    if n<=1:\n",
    "        return False\n",
    "    for i in range(2, n): \n",
    "        if n % i == 0: \n",
    "            return False\n",
    "    return True    \n",
    "def printPrime(n): \n",
    "    for i in range(2, n + 1): \n",
    "        if check_func(i): \n",
    "            print(i, end = \" \") \n",
    "if __name__ == \"__main__\" : \n",
    "    n = 10\n",
    "\n",
    "    printPrime(n) \n",
    "                 "
   ]
  },
  {
   "cell_type": "code",
   "execution_count": 34,
   "metadata": {},
   "outputs": [
    {
     "name": "stdout",
     "output_type": "stream",
     "text": [
      "2 3 5 7 11 13 17 19 "
     ]
    }
   ],
   "source": [
    "# Python3 program to print \n",
    "# all primes less than N \n",
    "\n",
    "# Function to check whether \n",
    "# a number is prime or not . \n",
    "def isPrime(n): \n",
    "\t\n",
    "\t# Corner case \n",
    "\tif n <= 1 : \n",
    "\t\treturn False\n",
    "\n",
    "\t# check from 2 to n-1 \n",
    "\tfor i in range(2, n): \n",
    "\t\tif n % i == 0: \n",
    "\t\t\treturn False\n",
    "\n",
    "\treturn True\n",
    "\n",
    "# Function to print primes \n",
    "def printPrime(n): \n",
    "\tfor i in range(2, n + 1): \n",
    "\t\tif isPrime(i): \n",
    "\t\t\tprint(i, end = \" \") \n",
    "\n",
    "# Driver code \n",
    "if __name__ == \"__main__\" : \n",
    "\tn = 20\n",
    "\t# function calling \n",
    "\tprintPrime(n) \n",
    "\t\n",
    "# This code is contributed \n",
    "# by Ankit Rai \n"
   ]
  },
  {
   "cell_type": "code",
   "execution_count": 12,
   "metadata": {},
   "outputs": [
    {
     "ename": "IndentationError",
     "evalue": "unindent does not match any outer indentation level (<tokenize>, line 6)",
     "output_type": "error",
     "traceback": [
      "\u001b[1;36m  File \u001b[1;32m\"<tokenize>\"\u001b[1;36m, line \u001b[1;32m6\u001b[0m\n\u001b[1;33m    for k in range(0,i):\u001b[0m\n\u001b[1;37m    ^\u001b[0m\n\u001b[1;31mIndentationError\u001b[0m\u001b[1;31m:\u001b[0m unindent does not match any outer indentation level\n"
     ]
    }
   ],
   "source": [
    "n=int(input())\n",
    "def pattern(n):\n",
    "    for i in range(0,n):\n",
    "\t    for j in range(1,n-i):\n",
    "\t\t    print(j,end=' ')\n",
    "        for k in range(0,i):\n",
    "\t\t    print('*',end=' ')\n",
    "        print('\\n')   "
   ]
  },
  {
   "cell_type": "code",
   "execution_count": null,
   "metadata": {},
   "outputs": [],
   "source": []
  }
 ],
 "metadata": {
  "kernelspec": {
   "display_name": "Python 3",
   "language": "python",
   "name": "python3"
  },
  "language_info": {
   "codemirror_mode": {
    "name": "ipython",
    "version": 3
   },
   "file_extension": ".py",
   "mimetype": "text/x-python",
   "name": "python",
   "nbconvert_exporter": "python",
   "pygments_lexer": "ipython3",
   "version": "3.7.3"
  }
 },
 "nbformat": 4,
 "nbformat_minor": 2
}
