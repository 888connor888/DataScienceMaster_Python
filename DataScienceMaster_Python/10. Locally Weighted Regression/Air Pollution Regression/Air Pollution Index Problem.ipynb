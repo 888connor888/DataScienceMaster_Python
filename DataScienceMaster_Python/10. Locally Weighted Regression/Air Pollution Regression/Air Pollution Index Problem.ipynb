{
 "cells": [
  {
   "cell_type": "code",
   "execution_count": 1,
   "metadata": {},
   "outputs": [],
   "source": [
    "import pandas as pd\n",
    "import numpy as np\n",
    "import matplotlib.pyplot as plt\n",
    "%matplotlib inline"
   ]
  },
  {
   "cell_type": "code",
   "execution_count": 2,
   "metadata": {},
   "outputs": [],
   "source": [
    "dfx=pd.read_csv('Train.csv')\n",
    "df_test=pd.read_csv('Test.csv')"
   ]
  },
  {
   "cell_type": "code",
   "execution_count": 3,
   "metadata": {},
   "outputs": [
    {
     "data": {
      "text/html": [
       "<div>\n",
       "<style scoped>\n",
       "    .dataframe tbody tr th:only-of-type {\n",
       "        vertical-align: middle;\n",
       "    }\n",
       "\n",
       "    .dataframe tbody tr th {\n",
       "        vertical-align: top;\n",
       "    }\n",
       "\n",
       "    .dataframe thead th {\n",
       "        text-align: right;\n",
       "    }\n",
       "</style>\n",
       "<table border=\"1\" class=\"dataframe\">\n",
       "  <thead>\n",
       "    <tr style=\"text-align: right;\">\n",
       "      <th></th>\n",
       "      <th>feature_1</th>\n",
       "      <th>feature_2</th>\n",
       "      <th>feature_3</th>\n",
       "      <th>feature_4</th>\n",
       "      <th>feature_5</th>\n",
       "      <th>target</th>\n",
       "    </tr>\n",
       "  </thead>\n",
       "  <tbody>\n",
       "    <tr>\n",
       "      <th>0</th>\n",
       "      <td>0.293416</td>\n",
       "      <td>-0.945599</td>\n",
       "      <td>-0.421105</td>\n",
       "      <td>0.406816</td>\n",
       "      <td>0.525662</td>\n",
       "      <td>-82.154667</td>\n",
       "    </tr>\n",
       "    <tr>\n",
       "      <th>1</th>\n",
       "      <td>-0.836084</td>\n",
       "      <td>-0.189228</td>\n",
       "      <td>-0.776403</td>\n",
       "      <td>-1.053831</td>\n",
       "      <td>0.597997</td>\n",
       "      <td>-48.897960</td>\n",
       "    </tr>\n",
       "    <tr>\n",
       "      <th>2</th>\n",
       "      <td>0.236425</td>\n",
       "      <td>0.132836</td>\n",
       "      <td>-0.147723</td>\n",
       "      <td>0.699854</td>\n",
       "      <td>-0.187364</td>\n",
       "      <td>77.270371</td>\n",
       "    </tr>\n",
       "    <tr>\n",
       "      <th>3</th>\n",
       "      <td>0.175312</td>\n",
       "      <td>0.143194</td>\n",
       "      <td>-0.581111</td>\n",
       "      <td>-0.122107</td>\n",
       "      <td>-1.292168</td>\n",
       "      <td>-2.988581</td>\n",
       "    </tr>\n",
       "    <tr>\n",
       "      <th>4</th>\n",
       "      <td>-1.693011</td>\n",
       "      <td>0.542712</td>\n",
       "      <td>-2.798729</td>\n",
       "      <td>-0.686723</td>\n",
       "      <td>1.244077</td>\n",
       "      <td>-37.596722</td>\n",
       "    </tr>\n",
       "  </tbody>\n",
       "</table>\n",
       "</div>"
      ],
      "text/plain": [
       "   feature_1  feature_2  feature_3  feature_4  feature_5     target\n",
       "0   0.293416  -0.945599  -0.421105   0.406816   0.525662 -82.154667\n",
       "1  -0.836084  -0.189228  -0.776403  -1.053831   0.597997 -48.897960\n",
       "2   0.236425   0.132836  -0.147723   0.699854  -0.187364  77.270371\n",
       "3   0.175312   0.143194  -0.581111  -0.122107  -1.292168  -2.988581\n",
       "4  -1.693011   0.542712  -2.798729  -0.686723   1.244077 -37.596722"
      ]
     },
     "execution_count": 3,
     "metadata": {},
     "output_type": "execute_result"
    }
   ],
   "source": [
    "dfx.head()"
   ]
  },
  {
   "cell_type": "code",
   "execution_count": 4,
   "metadata": {},
   "outputs": [
    {
     "data": {
      "text/html": [
       "<div>\n",
       "<style scoped>\n",
       "    .dataframe tbody tr th:only-of-type {\n",
       "        vertical-align: middle;\n",
       "    }\n",
       "\n",
       "    .dataframe tbody tr th {\n",
       "        vertical-align: top;\n",
       "    }\n",
       "\n",
       "    .dataframe thead th {\n",
       "        text-align: right;\n",
       "    }\n",
       "</style>\n",
       "<table border=\"1\" class=\"dataframe\">\n",
       "  <thead>\n",
       "    <tr style=\"text-align: right;\">\n",
       "      <th></th>\n",
       "      <th>feature_1</th>\n",
       "      <th>feature_2</th>\n",
       "      <th>feature_3</th>\n",
       "      <th>feature_4</th>\n",
       "      <th>feature_5</th>\n",
       "    </tr>\n",
       "  </thead>\n",
       "  <tbody>\n",
       "    <tr>\n",
       "      <th>0</th>\n",
       "      <td>1.015254</td>\n",
       "      <td>2.076209</td>\n",
       "      <td>-0.266435</td>\n",
       "      <td>-2.418088</td>\n",
       "      <td>-0.980503</td>\n",
       "    </tr>\n",
       "    <tr>\n",
       "      <th>1</th>\n",
       "      <td>-0.375021</td>\n",
       "      <td>0.953185</td>\n",
       "      <td>0.626719</td>\n",
       "      <td>0.704406</td>\n",
       "      <td>-0.355489</td>\n",
       "    </tr>\n",
       "    <tr>\n",
       "      <th>2</th>\n",
       "      <td>-1.024452</td>\n",
       "      <td>0.962991</td>\n",
       "      <td>-0.407942</td>\n",
       "      <td>-1.861274</td>\n",
       "      <td>0.455201</td>\n",
       "    </tr>\n",
       "    <tr>\n",
       "      <th>3</th>\n",
       "      <td>-2.489841</td>\n",
       "      <td>0.544802</td>\n",
       "      <td>0.601219</td>\n",
       "      <td>-0.607021</td>\n",
       "      <td>-1.314286</td>\n",
       "    </tr>\n",
       "    <tr>\n",
       "      <th>4</th>\n",
       "      <td>-0.384675</td>\n",
       "      <td>-0.833624</td>\n",
       "      <td>1.358552</td>\n",
       "      <td>-0.547932</td>\n",
       "      <td>0.411925</td>\n",
       "    </tr>\n",
       "  </tbody>\n",
       "</table>\n",
       "</div>"
      ],
      "text/plain": [
       "   feature_1  feature_2  feature_3  feature_4  feature_5\n",
       "0   1.015254   2.076209  -0.266435  -2.418088  -0.980503\n",
       "1  -0.375021   0.953185   0.626719   0.704406  -0.355489\n",
       "2  -1.024452   0.962991  -0.407942  -1.861274   0.455201\n",
       "3  -2.489841   0.544802   0.601219  -0.607021  -1.314286\n",
       "4  -0.384675  -0.833624   1.358552  -0.547932   0.411925"
      ]
     },
     "execution_count": 4,
     "metadata": {},
     "output_type": "execute_result"
    }
   ],
   "source": [
    "df_test.head()"
   ]
  },
  {
   "cell_type": "code",
   "execution_count": 5,
   "metadata": {},
   "outputs": [],
   "source": [
    "x=dfx.values\n",
    "X=x[:,:-1]\n",
    "Y=x[:,-1]\n",
    "X_test=df_test.values\n",
    "\n",
    "# Normalise\n",
    "X=(X-X.mean())/X.std()\n",
    "X_test=(X_test-X_test.mean())/X_test.std()"
   ]
  },
  {
   "cell_type": "code",
   "execution_count": 6,
   "metadata": {},
   "outputs": [
    {
     "data": {
      "image/png": "[encoded data removed]",
      "text/plain": [
       "<Figure size 576x396 with 1 Axes>"
      ]
     },
     "metadata": {},
     "output_type": "display_data"
    }
   ],
   "source": [
    "plt.style.use('seaborn')\n",
    "plt.scatter(X[:,1],Y)\n",
    "plt.show()"
   ]
  },
  {
   "cell_type": "code",
   "execution_count": 7,
   "metadata": {},
   "outputs": [],
   "source": [
    "X=X[:,1]\n",
    "X_test=X_test[:,1]"
   ]
  },
  {
   "cell_type": "code",
   "execution_count": 8,
   "metadata": {},
   "outputs": [
    {
     "data": {
      "text/html": [
       "<div>\n",
       "<style scoped>\n",
       "    .dataframe tbody tr th:only-of-type {\n",
       "        vertical-align: middle;\n",
       "    }\n",
       "\n",
       "    .dataframe tbody tr th {\n",
       "        vertical-align: top;\n",
       "    }\n",
       "\n",
       "    .dataframe thead th {\n",
       "        text-align: right;\n",
       "    }\n",
       "</style>\n",
       "<table border=\"1\" class=\"dataframe\">\n",
       "  <thead>\n",
       "    <tr style=\"text-align: right;\">\n",
       "      <th></th>\n",
       "      <th>feature_1</th>\n",
       "      <th>feature_2</th>\n",
       "      <th>feature_3</th>\n",
       "      <th>feature_4</th>\n",
       "      <th>feature_5</th>\n",
       "    </tr>\n",
       "  </thead>\n",
       "  <tbody>\n",
       "    <tr>\n",
       "      <th>0</th>\n",
       "      <td>1.015254</td>\n",
       "      <td>2.076209</td>\n",
       "      <td>-0.266435</td>\n",
       "      <td>-2.418088</td>\n",
       "      <td>-0.980503</td>\n",
       "    </tr>\n",
       "    <tr>\n",
       "      <th>1</th>\n",
       "      <td>-0.375021</td>\n",
       "      <td>0.953185</td>\n",
       "      <td>0.626719</td>\n",
       "      <td>0.704406</td>\n",
       "      <td>-0.355489</td>\n",
       "    </tr>\n",
       "    <tr>\n",
       "      <th>2</th>\n",
       "      <td>-1.024452</td>\n",
       "      <td>0.962991</td>\n",
       "      <td>-0.407942</td>\n",
       "      <td>-1.861274</td>\n",
       "      <td>0.455201</td>\n",
       "    </tr>\n",
       "    <tr>\n",
       "      <th>3</th>\n",
       "      <td>-2.489841</td>\n",
       "      <td>0.544802</td>\n",
       "      <td>0.601219</td>\n",
       "      <td>-0.607021</td>\n",
       "      <td>-1.314286</td>\n",
       "    </tr>\n",
       "    <tr>\n",
       "      <th>4</th>\n",
       "      <td>-0.384675</td>\n",
       "      <td>-0.833624</td>\n",
       "      <td>1.358552</td>\n",
       "      <td>-0.547932</td>\n",
       "      <td>0.411925</td>\n",
       "    </tr>\n",
       "  </tbody>\n",
       "</table>\n",
       "</div>"
      ],
      "text/plain": [
       "   feature_1  feature_2  feature_3  feature_4  feature_5\n",
       "0   1.015254   2.076209  -0.266435  -2.418088  -0.980503\n",
       "1  -0.375021   0.953185   0.626719   0.704406  -0.355489\n",
       "2  -1.024452   0.962991  -0.407942  -1.861274   0.455201\n",
       "3  -2.489841   0.544802   0.601219  -0.607021  -1.314286\n",
       "4  -0.384675  -0.833624   1.358552  -0.547932   0.411925"
      ]
     },
     "execution_count": 8,
     "metadata": {},
     "output_type": "execute_result"
    }
   ],
   "source": [
    "df_test.head()"
   ]
  },
  {
   "cell_type": "code",
   "execution_count": null,
   "metadata": {},
   "outputs": [],
   "source": []
  },
  {
   "cell_type": "code",
   "execution_count": 9,
   "metadata": {},
   "outputs": [],
   "source": [
    "# replace zero by mean\n",
    "X_test=[]\n",
    "X_test.append(df_test['feature_2'])\n",
    "    "
   ]
  },
  {
   "cell_type": "code",
   "execution_count": 10,
   "metadata": {},
   "outputs": [],
   "source": [
    "X_test=np.array(X_test).reshape((-1,1))"
   ]
  },
  {
   "cell_type": "code",
   "execution_count": 11,
   "metadata": {},
   "outputs": [
    {
     "data": {
      "text/plain": [
       "array([[ 2.07620944e+00],\n",
       "       [ 9.53184528e-01],\n",
       "       [ 9.62991107e-01],\n",
       "       [ 5.44801734e-01],\n",
       "       [-8.33624211e-01],\n",
       "       [-2.76118873e-01],\n",
       "       [-1.06703493e+00],\n",
       "       [ 1.22180716e+00],\n",
       "       [ 1.50486389e+00],\n",
       "       [ 1.18334885e+00],\n",
       "       [-3.28367074e-01],\n",
       "       [ 2.45295074e-01],\n",
       "       [-3.85654827e-01],\n",
       "       [ 9.29012258e-01],\n",
       "       [-7.19747037e-02],\n",
       "       [ 1.06708778e-01],\n",
       "       [-2.11034778e+00],\n",
       "       [ 2.06996750e-01],\n",
       "       [ 8.19485028e-01],\n",
       "       [ 7.44893982e-01],\n",
       "       [ 6.56494665e-01],\n",
       "       [-1.00128476e+00],\n",
       "       [-7.33564908e-01],\n",
       "       [-2.49285638e-01],\n",
       "       [-3.79529024e-01],\n",
       "       [ 4.20670861e-01],\n",
       "       [-2.42462742e-01],\n",
       "       [ 9.18856393e-01],\n",
       "       [-6.42955729e-03],\n",
       "       [-5.07093080e-01],\n",
       "       [ 9.54570300e-01],\n",
       "       [-1.05739041e+00],\n",
       "       [ 1.50352331e+00],\n",
       "       [-9.52275555e-01],\n",
       "       [-2.42220319e+00],\n",
       "       [ 5.16415706e-01],\n",
       "       [-2.12288866e-01],\n",
       "       [ 8.63637701e-01],\n",
       "       [-2.92544552e+00],\n",
       "       [ 9.39046973e-01],\n",
       "       [-1.09912951e+00],\n",
       "       [-1.70505652e+00],\n",
       "       [-1.74506799e+00],\n",
       "       [ 7.82637709e-01],\n",
       "       [-2.12626103e+00],\n",
       "       [-5.98841043e-02],\n",
       "       [-6.51914576e-01],\n",
       "       [-7.57564883e-01],\n",
       "       [-6.70583454e-01],\n",
       "       [-3.60569488e-01],\n",
       "       [ 8.21095316e-01],\n",
       "       [-2.99284908e+00],\n",
       "       [ 3.02149191e-01],\n",
       "       [-7.44280655e-01],\n",
       "       [-1.22084889e+00],\n",
       "       [-4.90396453e-01],\n",
       "       [-1.01954267e-01],\n",
       "       [ 1.66968979e+00],\n",
       "       [ 1.47028088e-01],\n",
       "       [ 5.84903925e-01],\n",
       "       [ 1.31620192e-01],\n",
       "       [-3.32829995e-01],\n",
       "       [ 9.88263069e-01],\n",
       "       [ 5.45066988e-01],\n",
       "       [ 2.19212965e-01],\n",
       "       [-5.64329923e-01],\n",
       "       [ 5.84211792e-01],\n",
       "       [-9.07945572e-01],\n",
       "       [ 2.16888863e-02],\n",
       "       [-6.55991020e-01],\n",
       "       [ 1.69162744e-03],\n",
       "       [ 1.28705107e+00],\n",
       "       [ 3.82485316e-01],\n",
       "       [ 9.28814929e-01],\n",
       "       [-5.99032049e-01],\n",
       "       [-1.58753259e+00],\n",
       "       [ 7.32881940e-01],\n",
       "       [-1.43388299e+00],\n",
       "       [ 2.72426364e-01],\n",
       "       [ 1.03838749e+00],\n",
       "       [-2.22622488e-01],\n",
       "       [-1.28160387e+00],\n",
       "       [-5.82085637e-01],\n",
       "       [ 7.75878318e-01],\n",
       "       [ 1.07570076e+00],\n",
       "       [ 2.59172311e+00],\n",
       "       [-1.79880072e+00],\n",
       "       [-1.43340623e+00],\n",
       "       [ 9.36057371e-01],\n",
       "       [-6.33445024e-01],\n",
       "       [-5.35300738e-01],\n",
       "       [ 3.88654057e-01],\n",
       "       [-1.42523082e+00],\n",
       "       [-5.44779928e-01],\n",
       "       [ 1.31186773e+00],\n",
       "       [-1.24181307e-01],\n",
       "       [-1.78663795e+00],\n",
       "       [-1.03812765e+00],\n",
       "       [-2.32356619e+00],\n",
       "       [-2.04989708e-01],\n",
       "       [ 6.06663271e-01],\n",
       "       [-2.87108038e-01],\n",
       "       [ 1.33728038e+00],\n",
       "       [ 3.72892386e-01],\n",
       "       [-2.77853605e-01],\n",
       "       [ 1.17765627e+00],\n",
       "       [ 3.41481910e-01],\n",
       "       [ 8.13344577e-01],\n",
       "       [-1.02850162e-01],\n",
       "       [-1.50092270e+00],\n",
       "       [ 1.47157604e-01],\n",
       "       [ 2.72443174e-01],\n",
       "       [ 5.78058273e-01],\n",
       "       [-4.07612025e-01],\n",
       "       [ 9.83857333e-01],\n",
       "       [ 1.01411231e-01],\n",
       "       [-6.64142050e-01],\n",
       "       [-7.89522026e-02],\n",
       "       [ 4.94157010e-01],\n",
       "       [ 1.45207957e-01],\n",
       "       [-2.38482383e-01],\n",
       "       [-2.03496552e+00],\n",
       "       [ 1.42603047e+00],\n",
       "       [ 1.23604759e+00],\n",
       "       [-1.17202520e-01],\n",
       "       [ 1.64593286e+00],\n",
       "       [-3.40052327e-01],\n",
       "       [-1.67995279e+00],\n",
       "       [ 1.45275948e+00],\n",
       "       [-1.52422625e-01],\n",
       "       [-1.68926970e+00],\n",
       "       [ 8.31183491e-01],\n",
       "       [-1.14577735e-01],\n",
       "       [-3.84599766e-03],\n",
       "       [ 8.75530187e-01],\n",
       "       [ 4.00002725e-01],\n",
       "       [ 7.96253533e-01],\n",
       "       [-1.43986414e-01],\n",
       "       [-3.86267266e-01],\n",
       "       [-1.79241747e+00],\n",
       "       [ 6.89903901e-01],\n",
       "       [-1.31304700e+00],\n",
       "       [ 2.23483622e+00],\n",
       "       [ 1.85368831e+00],\n",
       "       [-1.16796582e+00],\n",
       "       [-8.76758407e-01],\n",
       "       [-9.90310893e-01],\n",
       "       [ 1.56886272e+00],\n",
       "       [ 1.04986466e+00],\n",
       "       [-1.52852090e-01],\n",
       "       [ 2.34950941e-01],\n",
       "       [-5.80207567e-01],\n",
       "       [ 1.38363322e+00],\n",
       "       [ 4.64141555e-02],\n",
       "       [-3.06138356e-02],\n",
       "       [ 1.02100854e+00],\n",
       "       [ 2.37587278e+00],\n",
       "       [ 9.10143608e-01],\n",
       "       [ 4.41585655e-01],\n",
       "       [-6.73579715e-01],\n",
       "       [-1.51543208e+00],\n",
       "       [-7.54197673e-02],\n",
       "       [ 2.03758241e+00],\n",
       "       [ 6.60553463e-01],\n",
       "       [-5.64184825e-01],\n",
       "       [ 1.17318638e+00],\n",
       "       [-1.62405210e+00],\n",
       "       [ 7.90758217e-01],\n",
       "       [ 1.07218854e+00],\n",
       "       [-1.15275686e-01],\n",
       "       [-1.40375584e-02],\n",
       "       [ 1.39717928e+00],\n",
       "       [ 7.17814393e-01],\n",
       "       [ 6.34215645e-01],\n",
       "       [ 9.09357171e-01],\n",
       "       [-6.54437665e-01],\n",
       "       [-3.88932105e-01],\n",
       "       [-1.28293397e+00],\n",
       "       [ 1.26244245e-01],\n",
       "       [-5.32756197e-01],\n",
       "       [-3.63235435e-01],\n",
       "       [-2.78654436e-01],\n",
       "       [-5.81981086e-01],\n",
       "       [ 3.42216575e-01],\n",
       "       [-5.15684147e-01],\n",
       "       [ 1.07071669e+00],\n",
       "       [-3.96692551e-01],\n",
       "       [-3.59894026e-01],\n",
       "       [-5.55522552e-03],\n",
       "       [ 2.24304854e+00],\n",
       "       [ 4.45024954e-01],\n",
       "       [ 1.12887646e+00],\n",
       "       [-3.03118936e-01],\n",
       "       [-8.41992605e-01],\n",
       "       [ 7.52800991e-01],\n",
       "       [-4.56132643e-01],\n",
       "       [ 7.79028807e-01],\n",
       "       [-8.16108941e-01],\n",
       "       [ 1.51217148e+00],\n",
       "       [-1.15407348e+00],\n",
       "       [-5.23723919e-01],\n",
       "       [-2.60320443e-01],\n",
       "       [ 2.68616321e-01],\n",
       "       [ 9.21311034e-01],\n",
       "       [ 9.35183654e-01],\n",
       "       [ 1.04049611e+00],\n",
       "       [ 1.12336525e+00],\n",
       "       [ 2.66723103e-01],\n",
       "       [-1.83861611e+00],\n",
       "       [-1.42912957e+00],\n",
       "       [-3.97930049e-01],\n",
       "       [-2.83656431e-01],\n",
       "       [ 6.20485408e-01],\n",
       "       [-1.02551127e+00],\n",
       "       [ 2.45287146e-01],\n",
       "       [ 2.52955249e-01],\n",
       "       [-4.34661176e-01],\n",
       "       [-1.09649432e+00],\n",
       "       [ 4.38154591e-01],\n",
       "       [ 4.79163112e-01],\n",
       "       [-1.14353778e+00],\n",
       "       [-4.41788528e-01],\n",
       "       [ 5.22765614e-01],\n",
       "       [ 1.54376811e+00],\n",
       "       [ 5.24101342e-02],\n",
       "       [-2.70925220e-01],\n",
       "       [ 2.48665103e-01],\n",
       "       [-4.12676850e-01],\n",
       "       [ 3.16777594e-01],\n",
       "       [ 5.39883463e-01],\n",
       "       [ 1.65498421e+00],\n",
       "       [ 3.71487735e-01],\n",
       "       [-9.50466976e-01],\n",
       "       [ 5.16384192e-01],\n",
       "       [-2.17826733e-01],\n",
       "       [-1.80064526e+00],\n",
       "       [-1.33533451e+00],\n",
       "       [ 6.83536498e-01],\n",
       "       [ 2.17457486e-01],\n",
       "       [ 7.26305027e-01],\n",
       "       [-4.29566891e-01],\n",
       "       [-4.43555215e-01],\n",
       "       [ 5.18696131e-01],\n",
       "       [-1.36870634e+00],\n",
       "       [-1.69752950e-02],\n",
       "       [-3.07625660e-01],\n",
       "       [-9.22313857e-01],\n",
       "       [ 4.18253028e-01],\n",
       "       [ 3.40620634e-01],\n",
       "       [-8.59139848e-01],\n",
       "       [ 1.67358067e-01],\n",
       "       [-2.36348388e-01],\n",
       "       [-2.21665971e+00],\n",
       "       [-2.64223927e+00],\n",
       "       [-1.85240314e+00],\n",
       "       [ 4.02969849e-01],\n",
       "       [ 3.70120465e-02],\n",
       "       [ 1.36102252e+00],\n",
       "       [ 1.30049010e+00],\n",
       "       [ 1.09644234e+00],\n",
       "       [-5.61642153e-01],\n",
       "       [-2.79755887e+00],\n",
       "       [ 2.16478239e+00],\n",
       "       [-4.83879452e-01],\n",
       "       [-1.72060670e-01],\n",
       "       [-1.21892046e+00],\n",
       "       [-1.04496926e+00],\n",
       "       [ 1.31314448e+00],\n",
       "       [ 1.08705519e+00],\n",
       "       [-1.89287659e-01],\n",
       "       [-5.77329209e-01],\n",
       "       [ 7.36082802e-01],\n",
       "       [ 3.87903180e-01],\n",
       "       [ 9.52451306e-01],\n",
       "       [ 9.15991777e-01],\n",
       "       [ 4.92714737e-01],\n",
       "       [-1.89274614e-01],\n",
       "       [-4.67704825e-01],\n",
       "       [-1.08632304e-01],\n",
       "       [ 1.47383393e+00],\n",
       "       [-3.23485867e-01],\n",
       "       [-1.24677734e+00],\n",
       "       [-4.39473965e-01],\n",
       "       [-6.16551592e-01],\n",
       "       [-1.09993205e+00],\n",
       "       [ 9.76429970e-01],\n",
       "       [-2.46970939e-01],\n",
       "       [-3.94756853e-01],\n",
       "       [ 1.58413295e+00],\n",
       "       [ 2.14661777e-01],\n",
       "       [ 3.78682452e-01],\n",
       "       [-4.40235706e-02],\n",
       "       [ 1.19522092e+00],\n",
       "       [-7.05286170e-01],\n",
       "       [-5.78334186e-01],\n",
       "       [-1.14811327e+00],\n",
       "       [ 8.51136307e-02],\n",
       "       [-1.23113076e+00],\n",
       "       [ 1.97987163e+00],\n",
       "       [-8.91774943e-01],\n",
       "       [-6.78899570e-01],\n",
       "       [-3.86016480e-01],\n",
       "       [-8.57661056e-01],\n",
       "       [-3.45380922e-01],\n",
       "       [ 1.04640810e+00],\n",
       "       [-1.54332106e+00],\n",
       "       [-9.36308660e-01],\n",
       "       [-6.46123853e-01],\n",
       "       [-1.74912252e+00],\n",
       "       [-8.69390752e-02],\n",
       "       [ 2.75863877e-01],\n",
       "       [ 2.37469152e+00],\n",
       "       [ 9.85160755e-01],\n",
       "       [ 4.56812334e-01],\n",
       "       [-5.68168398e-01],\n",
       "       [-4.49685836e-01],\n",
       "       [ 1.10191284e+00],\n",
       "       [-8.23320154e-02],\n",
       "       [-2.48013201e-01],\n",
       "       [ 1.25851604e+00],\n",
       "       [-2.86912927e-01],\n",
       "       [-1.46425109e+00],\n",
       "       [-1.07465988e+00],\n",
       "       [ 1.18191490e+00],\n",
       "       [ 3.59080325e-01],\n",
       "       [ 2.16654376e-01],\n",
       "       [ 2.38985791e+00],\n",
       "       [ 8.98263476e-01],\n",
       "       [ 1.52608245e-01],\n",
       "       [-1.16423999e+00],\n",
       "       [ 1.34217383e+00],\n",
       "       [-1.13177602e-01],\n",
       "       [ 4.52920764e-01],\n",
       "       [-5.14474708e-01],\n",
       "       [ 1.80303278e+00],\n",
       "       [-7.66287624e-01],\n",
       "       [ 4.09975970e-01],\n",
       "       [-3.28076597e-01],\n",
       "       [ 5.46389384e-01],\n",
       "       [ 5.18756721e-01],\n",
       "       [-9.31035197e-01],\n",
       "       [ 1.69833702e+00],\n",
       "       [-5.91779545e-01],\n",
       "       [-7.23196422e-01],\n",
       "       [ 1.61285488e+00],\n",
       "       [ 9.94228277e-01],\n",
       "       [-1.36174023e+00],\n",
       "       [-2.69228006e-01],\n",
       "       [ 3.06418132e-01],\n",
       "       [-8.13508807e-01],\n",
       "       [-5.35878331e-01],\n",
       "       [-1.72928949e+00],\n",
       "       [-5.51841096e-01],\n",
       "       [-1.97138107e+00],\n",
       "       [-1.92703575e+00],\n",
       "       [-3.80973337e-01],\n",
       "       [-1.61076088e+00],\n",
       "       [ 1.31232018e+00],\n",
       "       [-1.89958490e-01],\n",
       "       [ 1.86707924e-01],\n",
       "       [ 1.06803518e+00],\n",
       "       [ 1.86638943e+00],\n",
       "       [-6.03169521e-01],\n",
       "       [ 1.20039030e+00],\n",
       "       [ 7.30782390e-01],\n",
       "       [ 4.46968350e-01],\n",
       "       [-9.28028832e-01],\n",
       "       [-7.30279175e-01],\n",
       "       [ 2.41002676e+00],\n",
       "       [-3.88480259e-01],\n",
       "       [-1.05356789e+00],\n",
       "       [-1.96843148e-01],\n",
       "       [-5.63728080e-01],\n",
       "       [-7.45899243e-01],\n",
       "       [-6.41440929e-01],\n",
       "       [ 1.00812937e-01],\n",
       "       [-6.40643829e-01],\n",
       "       [-1.22673689e+00],\n",
       "       [-1.17165550e+00],\n",
       "       [ 3.27917942e-01],\n",
       "       [-5.37664894e-01],\n",
       "       [-1.30987036e+00],\n",
       "       [ 1.31779241e+00],\n",
       "       [-4.12535554e-01],\n",
       "       [ 1.16498221e+00],\n",
       "       [ 1.18885348e-01],\n",
       "       [ 6.06863031e-01],\n",
       "       [ 1.19728013e+00],\n",
       "       [ 1.25434379e+00],\n",
       "       [-4.58354332e-02],\n",
       "       [-8.38568441e-01],\n",
       "       [ 6.26945454e-01],\n",
       "       [ 6.80349289e-01],\n",
       "       [-7.12051372e-01],\n",
       "       [-5.80950615e-01],\n",
       "       [-5.75844264e-01],\n",
       "       [-2.41754335e+00],\n",
       "       [ 1.76824345e+00],\n",
       "       [ 8.56470994e-01],\n",
       "       [ 5.31597186e-01]])"
      ]
     },
     "execution_count": 11,
     "metadata": {},
     "output_type": "execute_result"
    }
   ],
   "source": [
    "X_test"
   ]
  },
  {
   "cell_type": "code",
   "execution_count": 12,
   "metadata": {},
   "outputs": [],
   "source": [
    "X=X.reshape(-1,1)"
   ]
  },
  {
   "cell_type": "code",
   "execution_count": 13,
   "metadata": {},
   "outputs": [
    {
     "data": {
      "text/plain": [
       "((1600, 1), (400, 1))"
      ]
     },
     "execution_count": 13,
     "metadata": {},
     "output_type": "execute_result"
    }
   ],
   "source": [
    "X.shape,X_test.shape"
   ]
  },
  {
   "cell_type": "code",
   "execution_count": 14,
   "metadata": {},
   "outputs": [
    {
     "data": {
      "text/plain": [
       "(1600, 1)"
      ]
     },
     "execution_count": 14,
     "metadata": {},
     "output_type": "execute_result"
    }
   ],
   "source": [
    "Y=Y.reshape(-1,1)\n",
    "Y.shape"
   ]
  },
  {
   "cell_type": "code",
   "execution_count": 15,
   "metadata": {},
   "outputs": [],
   "source": [
    "X_test=(X_test-X_test.mean())/X_test.std()"
   ]
  },
  {
   "cell_type": "code",
   "execution_count": 16,
   "metadata": {},
   "outputs": [
    {
     "data": {
      "image/png": "[encoded data removed]",
      "text/plain": [
       "<Figure size 576x396 with 1 Axes>"
      ]
     },
     "metadata": {},
     "output_type": "display_data"
    }
   ],
   "source": [
    "plt.scatter(X,Y)\n",
    "plt.show()"
   ]
  },
  {
   "cell_type": "code",
   "execution_count": 17,
   "metadata": {},
   "outputs": [
    {
     "name": "stdout",
     "output_type": "stream",
     "text": [
      "(1600, 2)\n",
      "[[-0.92093003  1.        ]\n",
      " [-0.16864243  1.        ]\n",
      " [ 0.15168305  1.        ]\n",
      " [ 0.16198536  1.        ]]\n"
     ]
    }
   ],
   "source": [
    "# Inserting dummy variable\n",
    "ones=np.ones((X.shape[0],1))\n",
    "X=np.hstack((X,ones))\n",
    "print(X.shape)\n",
    "print(X[:4,])"
   ]
  },
  {
   "cell_type": "code",
   "execution_count": 18,
   "metadata": {},
   "outputs": [
    {
     "data": {
      "text/plain": [
       "numpy.ndarray"
      ]
     },
     "execution_count": 18,
     "metadata": {},
     "output_type": "execute_result"
    }
   ],
   "source": [
    "type(X_test)"
   ]
  },
  {
   "cell_type": "code",
   "execution_count": 19,
   "metadata": {},
   "outputs": [
    {
     "name": "stdout",
     "output_type": "stream",
     "text": [
      "(400, 2)\n",
      "[[2.04744832 1.        ]\n",
      " [0.94676928 1.        ]\n",
      " [0.95638073 1.        ]\n",
      " [0.54651246 1.        ]]\n"
     ]
    }
   ],
   "source": [
    "ones1=np.ones((X_test.shape[0],1))\n",
    "X_test=np.hstack((X_test,ones1))\n",
    "print(X_test.shape)\n",
    "print(X_test[:4,])"
   ]
  },
  {
   "cell_type": "code",
   "execution_count": 20,
   "metadata": {},
   "outputs": [],
   "source": [
    "# closed form algorithm\n",
    "def predictions(X,theta):\n",
    "    return np.dot(X,theta)\n",
    "\n",
    "def getTheta_closedForm(X,Y):\n",
    "    Y=np.mat(Y)\n",
    "    firstPart=np.dot(X.T,X)\n",
    "    secondPart=np.dot(X.T,Y)\n",
    "    # using the linear algebra psudo inverse method\n",
    "    theta=np.linalg.pinv(firstPart)*secondPart\n",
    "    return theta"
   ]
  },
  {
   "cell_type": "code",
   "execution_count": 21,
   "metadata": {},
   "outputs": [],
   "source": [
    "theta=getTheta_closedForm(X,Y)"
   ]
  },
  {
   "cell_type": "code",
   "execution_count": 27,
   "metadata": {},
   "outputs": [],
   "source": [
    "Y_=predictions(X,theta)"
   ]
  },
  {
   "cell_type": "code",
   "execution_count": 28,
   "metadata": {},
   "outputs": [],
   "source": [
    "def r2_score(y,y_):\n",
    "    num=np.sum((y-y_)**2)\n",
    "    denom=np.sum((y-y.mean())**2)\n",
    "    score=(1 - num/denom)\n",
    "    return score*100"
   ]
  },
  {
   "cell_type": "code",
   "execution_count": 31,
   "metadata": {},
   "outputs": [
    {
     "data": {
      "text/plain": [
       "73.1633368433276"
      ]
     },
     "execution_count": 31,
     "metadata": {},
     "output_type": "execute_result"
    }
   ],
   "source": [
    "r2_score(Y,np.array(Y_))"
   ]
  },
  {
   "cell_type": "code",
   "execution_count": 32,
   "metadata": {},
   "outputs": [],
   "source": [
    "Y1_=predictions(X_test,theta)"
   ]
  },
  {
   "cell_type": "code",
   "execution_count": 33,
   "metadata": {},
   "outputs": [],
   "source": [
    "df=pd.DataFrame(data=np.array(Y1_),columns=['target'])\n",
    "df.to_csv('y_predictions.csv',index=True)"
   ]
  },
  {
   "cell_type": "code",
   "execution_count": null,
   "metadata": {},
   "outputs": [],
   "source": []
  },
  {
   "cell_type": "code",
   "execution_count": null,
   "metadata": {},
   "outputs": [],
   "source": []
  },
  {
   "cell_type": "code",
   "execution_count": null,
   "metadata": {},
   "outputs": [],
   "source": []
  },
  {
   "cell_type": "code",
   "execution_count": null,
   "metadata": {},
   "outputs": [],
   "source": []
  },
  {
   "cell_type": "code",
   "execution_count": null,
   "metadata": {},
   "outputs": [],
   "source": []
  },
  {
   "cell_type": "code",
   "execution_count": null,
   "metadata": {},
   "outputs": [],
   "source": []
  },
  {
   "cell_type": "code",
   "execution_count": null,
   "metadata": {},
   "outputs": [],
   "source": []
  },
  {
   "cell_type": "code",
   "execution_count": null,
   "metadata": {},
   "outputs": [],
   "source": []
  },
  {
   "cell_type": "code",
   "execution_count": null,
   "metadata": {},
   "outputs": [],
   "source": []
  },
  {
   "cell_type": "code",
   "execution_count": null,
   "metadata": {},
   "outputs": [],
   "source": []
  },
  {
   "cell_type": "code",
   "execution_count": null,
   "metadata": {},
   "outputs": [],
   "source": []
  },
  {
   "cell_type": "code",
   "execution_count": null,
   "metadata": {},
   "outputs": [],
   "source": []
  },
  {
   "cell_type": "code",
   "execution_count": null,
   "metadata": {},
   "outputs": [],
   "source": []
  },
  {
   "cell_type": "code",
   "execution_count": null,
   "metadata": {},
   "outputs": [],
   "source": []
  },
  {
   "cell_type": "code",
   "execution_count": null,
   "metadata": {},
   "outputs": [],
   "source": []
  },
  {
   "cell_type": "code",
   "execution_count": null,
   "metadata": {},
   "outputs": [],
   "source": []
  },
  {
   "cell_type": "code",
   "execution_count": null,
   "metadata": {},
   "outputs": [],
   "source": []
  },
  {
   "cell_type": "code",
   "execution_count": null,
   "metadata": {},
   "outputs": [],
   "source": []
  },
  {
   "cell_type": "code",
   "execution_count": null,
   "metadata": {},
   "outputs": [],
   "source": []
  },
  {
   "cell_type": "code",
   "execution_count": null,
   "metadata": {},
   "outputs": [],
   "source": []
  },
  {
   "cell_type": "code",
   "execution_count": null,
   "metadata": {},
   "outputs": [],
   "source": []
  },
  {
   "cell_type": "code",
   "execution_count": null,
   "metadata": {},
   "outputs": [],
   "source": []
  },
  {
   "cell_type": "code",
   "execution_count": null,
   "metadata": {},
   "outputs": [],
   "source": []
  },
  {
   "cell_type": "code",
   "execution_count": null,
   "metadata": {},
   "outputs": [],
   "source": []
  },
  {
   "cell_type": "code",
   "execution_count": null,
   "metadata": {},
   "outputs": [],
   "source": []
  },
  {
   "cell_type": "code",
   "execution_count": null,
   "metadata": {},
   "outputs": [],
   "source": []
  },
  {
   "cell_type": "code",
   "execution_count": null,
   "metadata": {},
   "outputs": [],
   "source": []
  },
  {
   "cell_type": "code",
   "execution_count": null,
   "metadata": {},
   "outputs": [],
   "source": []
  }
 ],
 "metadata": {
  "kernelspec": {
   "display_name": "Python 3",
   "language": "python",
   "name": "python3"
  },
  "language_info": {
   "codemirror_mode": {
    "name": "ipython",
    "version": 3
   },
   "file_extension": ".py",
   "mimetype": "text/x-python",
   "name": "python",
   "nbconvert_exporter": "python",
   "pygments_lexer": "ipython3",
   "version": "3.7.3"
  }
 },
 "nbformat": 4,
 "nbformat_minor": 2
}
