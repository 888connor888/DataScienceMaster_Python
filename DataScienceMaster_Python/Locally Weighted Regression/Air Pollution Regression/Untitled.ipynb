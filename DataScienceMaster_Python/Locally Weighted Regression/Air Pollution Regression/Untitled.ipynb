{
 "cells": [
  {
   "cell_type": "code",
   "execution_count": 141,
   "metadata": {},
   "outputs": [],
   "source": [
    "import pandas as pd\n",
    "import numpy as np\n",
    "import matplotlib.pyplot as plt\n",
    "%matplotlib inline"
   ]
  },
  {
   "cell_type": "code",
   "execution_count": 142,
   "metadata": {},
   "outputs": [],
   "source": [
    "dfx=pd.read_csv('Train.csv')\n",
    "df_test=pd.read_csv('Test.csv')"
   ]
  },
  {
   "cell_type": "code",
   "execution_count": 143,
   "metadata": {},
   "outputs": [
    {
     "data": {
      "text/html": [
       "<div>\n",
       "<style scoped>\n",
       "    .dataframe tbody tr th:only-of-type {\n",
       "        vertical-align: middle;\n",
       "    }\n",
       "\n",
       "    .dataframe tbody tr th {\n",
       "        vertical-align: top;\n",
       "    }\n",
       "\n",
       "    .dataframe thead th {\n",
       "        text-align: right;\n",
       "    }\n",
       "</style>\n",
       "<table border=\"1\" class=\"dataframe\">\n",
       "  <thead>\n",
       "    <tr style=\"text-align: right;\">\n",
       "      <th></th>\n",
       "      <th>feature_1</th>\n",
       "      <th>feature_2</th>\n",
       "      <th>feature_3</th>\n",
       "      <th>feature_4</th>\n",
       "      <th>feature_5</th>\n",
       "      <th>target</th>\n",
       "    </tr>\n",
       "  </thead>\n",
       "  <tbody>\n",
       "    <tr>\n",
       "      <th>0</th>\n",
       "      <td>0.293416</td>\n",
       "      <td>-0.945599</td>\n",
       "      <td>-0.421105</td>\n",
       "      <td>0.406816</td>\n",
       "      <td>0.525662</td>\n",
       "      <td>-82.154667</td>\n",
       "    </tr>\n",
       "    <tr>\n",
       "      <th>1</th>\n",
       "      <td>-0.836084</td>\n",
       "      <td>-0.189228</td>\n",
       "      <td>-0.776403</td>\n",
       "      <td>-1.053831</td>\n",
       "      <td>0.597997</td>\n",
       "      <td>-48.897960</td>\n",
       "    </tr>\n",
       "    <tr>\n",
       "      <th>2</th>\n",
       "      <td>0.236425</td>\n",
       "      <td>0.132836</td>\n",
       "      <td>-0.147723</td>\n",
       "      <td>0.699854</td>\n",
       "      <td>-0.187364</td>\n",
       "      <td>77.270371</td>\n",
       "    </tr>\n",
       "    <tr>\n",
       "      <th>3</th>\n",
       "      <td>0.175312</td>\n",
       "      <td>0.143194</td>\n",
       "      <td>-0.581111</td>\n",
       "      <td>-0.122107</td>\n",
       "      <td>-1.292168</td>\n",
       "      <td>-2.988581</td>\n",
       "    </tr>\n",
       "    <tr>\n",
       "      <th>4</th>\n",
       "      <td>-1.693011</td>\n",
       "      <td>0.542712</td>\n",
       "      <td>-2.798729</td>\n",
       "      <td>-0.686723</td>\n",
       "      <td>1.244077</td>\n",
       "      <td>-37.596722</td>\n",
       "    </tr>\n",
       "  </tbody>\n",
       "</table>\n",
       "</div>"
      ],
      "text/plain": [
       "   feature_1  feature_2  feature_3  feature_4  feature_5     target\n",
       "0   0.293416  -0.945599  -0.421105   0.406816   0.525662 -82.154667\n",
       "1  -0.836084  -0.189228  -0.776403  -1.053831   0.597997 -48.897960\n",
       "2   0.236425   0.132836  -0.147723   0.699854  -0.187364  77.270371\n",
       "3   0.175312   0.143194  -0.581111  -0.122107  -1.292168  -2.988581\n",
       "4  -1.693011   0.542712  -2.798729  -0.686723   1.244077 -37.596722"
      ]
     },
     "execution_count": 143,
     "metadata": {},
     "output_type": "execute_result"
    }
   ],
   "source": [
    "dfx.head()\n",
    "#dfy.head()"
   ]
  },
  {
   "cell_type": "code",
   "execution_count": 144,
   "metadata": {},
   "outputs": [
    {
     "data": {
      "text/html": [
       "<div>\n",
       "<style scoped>\n",
       "    .dataframe tbody tr th:only-of-type {\n",
       "        vertical-align: middle;\n",
       "    }\n",
       "\n",
       "    .dataframe tbody tr th {\n",
       "        vertical-align: top;\n",
       "    }\n",
       "\n",
       "    .dataframe thead th {\n",
       "        text-align: right;\n",
       "    }\n",
       "</style>\n",
       "<table border=\"1\" class=\"dataframe\">\n",
       "  <thead>\n",
       "    <tr style=\"text-align: right;\">\n",
       "      <th></th>\n",
       "      <th>feature_1</th>\n",
       "      <th>feature_2</th>\n",
       "      <th>feature_3</th>\n",
       "      <th>feature_4</th>\n",
       "      <th>feature_5</th>\n",
       "    </tr>\n",
       "  </thead>\n",
       "  <tbody>\n",
       "    <tr>\n",
       "      <th>0</th>\n",
       "      <td>1.015254</td>\n",
       "      <td>2.076209</td>\n",
       "      <td>-0.266435</td>\n",
       "      <td>-2.418088</td>\n",
       "      <td>-0.980503</td>\n",
       "    </tr>\n",
       "    <tr>\n",
       "      <th>1</th>\n",
       "      <td>-0.375021</td>\n",
       "      <td>0.953185</td>\n",
       "      <td>0.626719</td>\n",
       "      <td>0.704406</td>\n",
       "      <td>-0.355489</td>\n",
       "    </tr>\n",
       "    <tr>\n",
       "      <th>2</th>\n",
       "      <td>-1.024452</td>\n",
       "      <td>0.962991</td>\n",
       "      <td>-0.407942</td>\n",
       "      <td>-1.861274</td>\n",
       "      <td>0.455201</td>\n",
       "    </tr>\n",
       "    <tr>\n",
       "      <th>3</th>\n",
       "      <td>-2.489841</td>\n",
       "      <td>0.544802</td>\n",
       "      <td>0.601219</td>\n",
       "      <td>-0.607021</td>\n",
       "      <td>-1.314286</td>\n",
       "    </tr>\n",
       "    <tr>\n",
       "      <th>4</th>\n",
       "      <td>-0.384675</td>\n",
       "      <td>-0.833624</td>\n",
       "      <td>1.358552</td>\n",
       "      <td>-0.547932</td>\n",
       "      <td>0.411925</td>\n",
       "    </tr>\n",
       "  </tbody>\n",
       "</table>\n",
       "</div>"
      ],
      "text/plain": [
       "   feature_1  feature_2  feature_3  feature_4  feature_5\n",
       "0   1.015254   2.076209  -0.266435  -2.418088  -0.980503\n",
       "1  -0.375021   0.953185   0.626719   0.704406  -0.355489\n",
       "2  -1.024452   0.962991  -0.407942  -1.861274   0.455201\n",
       "3  -2.489841   0.544802   0.601219  -0.607021  -1.314286\n",
       "4  -0.384675  -0.833624   1.358552  -0.547932   0.411925"
      ]
     },
     "execution_count": 144,
     "metadata": {},
     "output_type": "execute_result"
    }
   ],
   "source": [
    "df_test.head()"
   ]
  },
  {
   "cell_type": "code",
   "execution_count": 145,
   "metadata": {},
   "outputs": [
    {
     "data": {
      "text/plain": [
       "(1600, 6)"
      ]
     },
     "execution_count": 145,
     "metadata": {},
     "output_type": "execute_result"
    }
   ],
   "source": [
    "dfx.values.shape"
   ]
  },
  {
   "cell_type": "code",
   "execution_count": 146,
   "metadata": {},
   "outputs": [],
   "source": [
    "x=dfx.values\n",
    "X=x[:,:-1]\n",
    "Y=x[:,-1]\n",
    "#X_test=df_test.values\n",
    "#X_test=X_test[:,1]\n",
    "\n",
    "\n",
    "\n",
    "# Normalise\n",
    "X=(X-X.mean())/X.std()\n",
    "X_test=(X_test-X_test.mean())/X_test.std()"
   ]
  },
  {
   "cell_type": "code",
   "execution_count": 147,
   "metadata": {},
   "outputs": [
    {
     "ename": "IndexError",
     "evalue": "too many indices for array",
     "output_type": "error",
     "traceback": [
      "\u001b[1;31m---------------------------------------------------------------------------\u001b[0m",
      "\u001b[1;31mIndexError\u001b[0m                                Traceback (most recent call last)",
      "\u001b[1;32m<ipython-input-147-5e61075d9e86>\u001b[0m in \u001b[0;36m<module>\u001b[1;34m\u001b[0m\n\u001b[1;32m----> 1\u001b[1;33m \u001b[0mX_test\u001b[0m\u001b[1;33m[\u001b[0m\u001b[1;33m:\u001b[0m\u001b[1;33m,\u001b[0m\u001b[1;36m1\u001b[0m\u001b[1;33m]\u001b[0m\u001b[1;33m\u001b[0m\u001b[1;33m\u001b[0m\u001b[0m\n\u001b[0m",
      "\u001b[1;31mIndexError\u001b[0m: too many indices for array"
     ]
    }
   ],
   "source": [
    "X_test[:,1]"
   ]
  },
  {
   "cell_type": "code",
   "execution_count": 148,
   "metadata": {},
   "outputs": [
    {
     "data": {
      "text/plain": [
       "<matplotlib.collections.PathCollection at 0x25fe33eaeb8>"
      ]
     },
     "execution_count": 148,
     "metadata": {},
     "output_type": "execute_result"
    },
    {
     "data": {
      "image/png": "[encoded data removed]",
      "text/plain": [
       "<Figure size 432x288 with 1 Axes>"
      ]
     },
     "metadata": {
      "needs_background": "light"
     },
     "output_type": "display_data"
    }
   ],
   "source": [
    "plt.scatter(X[:,1],Y)"
   ]
  },
  {
   "cell_type": "code",
   "execution_count": null,
   "metadata": {},
   "outputs": [],
   "source": []
  },
  {
   "cell_type": "code",
   "execution_count": 149,
   "metadata": {},
   "outputs": [],
   "source": [
    "# we are going to use the second feature as it is the\n",
    "X=X[:,1]"
   ]
  },
  {
   "cell_type": "code",
   "execution_count": null,
   "metadata": {},
   "outputs": [],
   "source": []
  },
  {
   "cell_type": "code",
   "execution_count": 150,
   "metadata": {},
   "outputs": [],
   "source": [
    "X=X.reshape((-1,1))\n",
    "Y=Y.reshape((-1,1))"
   ]
  },
  {
   "cell_type": "code",
   "execution_count": 151,
   "metadata": {},
   "outputs": [
    {
     "name": "stdout",
     "output_type": "stream",
     "text": [
      "(1600, 2)\n",
      "[[-0.92093003  1.        ]\n",
      " [-0.16864243  1.        ]\n",
      " [ 0.15168305  1.        ]\n",
      " [ 0.16198536  1.        ]]\n"
     ]
    }
   ],
   "source": [
    "# Inserting dummy variable\n",
    "ones=np.ones((X.shape[0],1))\n",
    "X=np.hstack((X,ones))\n",
    "print(X.shape)\n",
    "print(X[:4,])"
   ]
  },
  {
   "cell_type": "code",
   "execution_count": 152,
   "metadata": {},
   "outputs": [],
   "source": [
    "# closed form algorithm\n",
    "def predictions(X,theta):\n",
    "    return np.dot(X,theta)\n",
    "\n",
    "def getTheta_closedForm(X,Y):\n",
    "    Y=np.mat(Y)\n",
    "    firstPart=np.dot(X.T,X)\n",
    "    secondPart=np.dot(X.T,Y)\n",
    "    # using the linear algebra psudo inverse method\n",
    "    theta=np.linalg.pinv(firstPart)*secondPart\n",
    "    return theta"
   ]
  },
  {
   "cell_type": "code",
   "execution_count": 153,
   "metadata": {},
   "outputs": [],
   "source": [
    "theta=getTheta_closedForm(X,Y)"
   ]
  },
  {
   "cell_type": "code",
   "execution_count": 154,
   "metadata": {},
   "outputs": [
    {
     "data": {
      "text/plain": [
       "[<matplotlib.lines.Line2D at 0x25fe3456550>]"
      ]
     },
     "execution_count": 154,
     "metadata": {},
     "output_type": "execute_result"
    },
    {
     "data": {
      "image/png": "[encoded data removed]",
      "text/plain": [
       "<Figure size 432x288 with 1 Axes>"
      ]
     },
     "metadata": {
      "needs_background": "light"
     },
     "output_type": "display_data"
    }
   ],
   "source": [
    "#Y.shape,X.shape\n",
    "predictions(X,theta)\n",
    "plt.plot(predictions(X,theta))"
   ]
  },
  {
   "cell_type": "code",
   "execution_count": 155,
   "metadata": {},
   "outputs": [
    {
     "data": {
      "image/png": "[encoded data removed]",
      "text/plain": [
       "<Figure size 576x396 with 1 Axes>"
      ]
     },
     "metadata": {},
     "output_type": "display_data"
    }
   ],
   "source": [
    "#plt.figure()\n",
    "plt.style.use('seaborn')\n",
    "plt.scatter(X[:,0],Y)\n",
    "plt.plot(X,np.array(predictions(X,theta)),c='Black',label='Prediction')\n",
    "plt.legend()\n",
    "plt.title(\"Normalised Data\")\n",
    "plt.xlabel('X')\n",
    "plt.ylabel('Y')\n",
    "plt.show()"
   ]
  },
  {
   "cell_type": "code",
   "execution_count": 156,
   "metadata": {},
   "outputs": [
    {
     "ename": "ValueError",
     "evalue": "shapes (400,) and (2,1) not aligned: 400 (dim 0) != 2 (dim 0)",
     "output_type": "error",
     "traceback": [
      "\u001b[1;31m---------------------------------------------------------------------------\u001b[0m",
      "\u001b[1;31mValueError\u001b[0m                                Traceback (most recent call last)",
      "\u001b[1;32m<ipython-input-156-a8ba1f8df228>\u001b[0m in \u001b[0;36m<module>\u001b[1;34m\u001b[0m\n\u001b[1;32m----> 1\u001b[1;33m \u001b[0mY_\u001b[0m\u001b[1;33m=\u001b[0m\u001b[0mpredictions\u001b[0m\u001b[1;33m(\u001b[0m\u001b[0mX_test\u001b[0m\u001b[1;33m,\u001b[0m\u001b[0mtheta\u001b[0m\u001b[1;33m)\u001b[0m\u001b[1;33m\u001b[0m\u001b[1;33m\u001b[0m\u001b[0m\n\u001b[0m",
      "\u001b[1;32m<ipython-input-152-61120206a5d9>\u001b[0m in \u001b[0;36mpredictions\u001b[1;34m(X, theta)\u001b[0m\n\u001b[0;32m      1\u001b[0m \u001b[1;31m# closed form algorithm\u001b[0m\u001b[1;33m\u001b[0m\u001b[1;33m\u001b[0m\u001b[1;33m\u001b[0m\u001b[0m\n\u001b[0;32m      2\u001b[0m \u001b[1;32mdef\u001b[0m \u001b[0mpredictions\u001b[0m\u001b[1;33m(\u001b[0m\u001b[0mX\u001b[0m\u001b[1;33m,\u001b[0m\u001b[0mtheta\u001b[0m\u001b[1;33m)\u001b[0m\u001b[1;33m:\u001b[0m\u001b[1;33m\u001b[0m\u001b[1;33m\u001b[0m\u001b[0m\n\u001b[1;32m----> 3\u001b[1;33m     \u001b[1;32mreturn\u001b[0m \u001b[0mnp\u001b[0m\u001b[1;33m.\u001b[0m\u001b[0mdot\u001b[0m\u001b[1;33m(\u001b[0m\u001b[0mX\u001b[0m\u001b[1;33m,\u001b[0m\u001b[0mtheta\u001b[0m\u001b[1;33m)\u001b[0m\u001b[1;33m\u001b[0m\u001b[1;33m\u001b[0m\u001b[0m\n\u001b[0m\u001b[0;32m      4\u001b[0m \u001b[1;33m\u001b[0m\u001b[0m\n\u001b[0;32m      5\u001b[0m \u001b[1;32mdef\u001b[0m \u001b[0mgetTheta_closedForm\u001b[0m\u001b[1;33m(\u001b[0m\u001b[0mX\u001b[0m\u001b[1;33m,\u001b[0m\u001b[0mY\u001b[0m\u001b[1;33m)\u001b[0m\u001b[1;33m:\u001b[0m\u001b[1;33m\u001b[0m\u001b[1;33m\u001b[0m\u001b[0m\n",
      "\u001b[1;31mValueError\u001b[0m: shapes (400,) and (2,1) not aligned: 400 (dim 0) != 2 (dim 0)"
     ]
    }
   ],
   "source": [
    "Y_=predictions(X_test,theta)"
   ]
  },
  {
   "cell_type": "code",
   "execution_count": 157,
   "metadata": {},
   "outputs": [],
   "source": [
    "def r2_score(y,y_):\n",
    "    num=np.sum((y-y_)**2)\n",
    "    denom=np.sum((y-y.mean())**2)\n",
    "    score=(1 - num/denom)\n",
    "    return score*100"
   ]
  },
  {
   "cell_type": "code",
   "execution_count": 158,
   "metadata": {},
   "outputs": [
    {
     "data": {
      "text/plain": [
       "73.1633368433276"
      ]
     },
     "execution_count": 158,
     "metadata": {},
     "output_type": "execute_result"
    }
   ],
   "source": [
    "r2_score(Y,np.array(Y_))"
   ]
  },
  {
   "cell_type": "code",
   "execution_count": 159,
   "metadata": {},
   "outputs": [
    {
     "data": {
      "text/plain": [
       "matrix([[-84.78362096],\n",
       "        [-14.66449353],\n",
       "        [ 15.19236299],\n",
       "        ...,\n",
       "        [-80.4828427 ],\n",
       "        [  2.40947887],\n",
       "        [-75.86808958]])"
      ]
     },
     "execution_count": 159,
     "metadata": {},
     "output_type": "execute_result"
    }
   ],
   "source": [
    "Y_"
   ]
  },
  {
   "cell_type": "code",
   "execution_count": 160,
   "metadata": {},
   "outputs": [],
   "source": [
    "df=pd.DataFrame(data=np.array(Y_),columns=['target'])\n",
    "df.to_csv('y_predictions.csv',index=True)"
   ]
  },
  {
   "cell_type": "code",
   "execution_count": 165,
   "metadata": {},
   "outputs": [
    {
     "data": {
      "text/plain": [
       "array([ 2.04744832e+00,  9.46769283e-01,  9.56380732e-01,  5.46512461e-01,\n",
       "       -8.04485663e-01, -2.58073527e-01, -1.03325199e+00,  1.21004688e+00,\n",
       "        1.48747137e+00,  1.17235381e+00, -3.09282096e-01,  2.52965364e-01,\n",
       "       -3.65429942e-01,  9.23077992e-01, -5.79914033e-02,  1.17136647e-01,\n",
       "       -2.05580508e+00,  2.15429097e-01,  8.15730127e-01,  7.42623288e-01,\n",
       "        6.55982934e-01, -9.68810115e-01, -7.06417333e-01, -2.31774217e-01,\n",
       "       -3.59426029e-01,  4.24851535e-01, -2.25087083e-01,  9.13124208e-01,\n",
       "        6.24953055e-03, -4.84451825e-01,  9.48127482e-01, -1.02379938e+00,\n",
       "        1.48615746e+00, -9.20776091e-01, -2.36145521e+00,  5.18691256e-01,\n",
       "       -1.95513605e-01,  8.59004252e-01, -2.85468406e+00,  9.32913036e-01,\n",
       "       -1.06470795e+00, -1.65857827e+00, -1.69779360e+00,  7.79615993e-01,\n",
       "       -2.07140169e+00, -4.61413817e-02, -6.26391674e-01, -7.29939758e-01,\n",
       "       -6.44689080e-01, -3.40843749e-01,  8.17308374e-01, -2.92074643e+00,\n",
       "        3.08688201e-01, -7.16919859e-01, -1.18400538e+00, -4.68087427e-01,\n",
       "       -8.73744349e-02,  1.64901758e+00,  1.56653686e-01,  5.85816702e-01,\n",
       "        1.41552376e-01, -3.13656215e-01,  9.81149834e-01,  5.46772437e-01,\n",
       "        2.27402234e-01, -5.40549774e-01,  5.85138340e-01, -8.77328183e-01,\n",
       "        3.38084754e-02, -6.30387005e-01,  1.42091205e-02,  1.27399257e+00,\n",
       "        3.87425804e-01,  9.22884589e-01, -5.74561399e-01, -1.54339283e+00,\n",
       "        7.30850261e-01, -1.39280054e+00,  2.79556797e-01,  1.03027689e+00,\n",
       "       -2.05641608e-01, -1.24355145e+00, -5.57952185e-01,  7.72991100e-01,\n",
       "        1.06684770e+00,  2.55270434e+00, -1.75045715e+00, -1.39233326e+00,\n",
       "        9.29982921e-01, -6.08289627e-01, -5.12098209e-01,  3.93471799e-01,\n",
       "       -1.38432053e+00, -5.21388783e-01,  1.29831544e+00, -1.09159204e-01,\n",
       "       -1.73853641e+00, -1.00491991e+00, -2.26478089e+00, -1.88359684e-01,\n",
       "        6.07143081e-01, -2.68844030e-01,  1.32322243e+00,  3.78023753e-01,\n",
       "       -2.59773740e-01,  1.16677450e+00,  3.47238281e-01,  8.09711858e-01,\n",
       "       -8.82525043e-02, -1.45850630e+00,  1.56780626e-01,  2.79573272e-01,\n",
       "        5.79107264e-01, -3.86950237e-01,  9.76831763e-01,  1.11944511e-01,\n",
       "       -6.38375846e-01, -6.48300643e-02,  4.96875462e-01,  1.54869772e-01,\n",
       "       -2.21185925e-01, -1.98192277e+00,  1.41020657e+00,  1.22400396e+00,\n",
       "       -1.02319279e-01,  1.62573336e+00, -3.20734837e-01, -1.63397406e+00,\n",
       "        1.43640373e+00, -1.36838578e-01, -1.64310558e+00,  8.27195815e-01,\n",
       "       -9.97467224e-02,  8.78168270e-03,  8.70660103e-01,  4.04594652e-01,\n",
       "        7.92960890e-01, -1.28570230e-01, -3.66030195e-01, -1.74420092e+00,\n",
       "        6.88727396e-01, -1.27436894e+00,  2.20291876e+00,  1.82935490e+00,\n",
       "       -1.13217457e+00, -8.46761579e-01, -9.58054605e-01,  1.55019676e+00,\n",
       "        1.04152568e+00, -1.37259497e-01,  2.42827057e-01, -5.56111485e-01,\n",
       "        1.36865294e+00,  5.80417629e-02, -1.74535307e-02,  1.01324374e+00,\n",
       "        2.34114899e+00,  9.04584789e-01,  4.45350169e-01, -6.47625721e-01,\n",
       "       -1.47272697e+00, -6.13679172e-02,  2.00958990e+00,  6.59960970e-01,\n",
       "       -5.40407562e-01,  1.16239355e+00, -1.57918568e+00,  7.87574919e-01,\n",
       "        1.06340536e+00, -1.00430786e-01, -1.20708713e-03,  1.38192946e+00,\n",
       "        7.16082527e-01,  6.34147221e-01,  9.03814000e-01, -6.28864558e-01,\n",
       "       -3.68642009e-01, -1.24485509e+00,  1.36283399e-01, -5.09604300e-01,\n",
       "       -3.43456650e-01, -2.60558637e-01, -5.57849715e-01,  3.47958327e-01,\n",
       "       -4.92871948e-01,  1.06196280e+00, -3.76248038e-01, -3.40181727e-01,\n",
       "        7.10646493e-03,  2.21096767e+00,  4.48721032e-01,  1.11896531e+00,\n",
       "       -2.84536344e-01, -8.12687543e-01,  7.50372963e-01, -4.34505395e-01,\n",
       "        7.76078900e-01, -7.87318911e-01,  1.49463355e+00, -1.11855866e+00,\n",
       "       -5.00751745e-01, -2.42589452e-01,  2.75822566e-01,  9.15530006e-01,\n",
       "        9.29126589e-01,  1.03234355e+00,  1.11356376e+00,  2.73967018e-01,\n",
       "       -1.78948030e+00, -1.38814170e+00, -3.77460912e-01, -2.65461103e-01,\n",
       "        6.20690187e-01, -9.92554570e-01,  2.52957593e-01,  2.60473117e-01,\n",
       "       -4.13461166e-01, -1.06212520e+00,  4.41987376e-01,  4.82179911e-01,\n",
       "       -1.10823260e+00, -4.20446699e-01,  5.24914815e-01,  1.52560148e+00,\n",
       "        6.39184340e-02, -2.52983217e-01,  2.56268336e-01, -3.91914282e-01,\n",
       "        3.23025529e-01,  5.41692054e-01,  1.63460460e+00,  3.76647051e-01,\n",
       "       -9.19003500e-01,  5.18660369e-01, -2.00941279e-01, -1.75226500e+00,\n",
       "       -1.29621297e+00,  6.82486690e-01,  2.25681685e-01,  7.24404215e-01,\n",
       "       -4.08468247e-01, -4.22178232e-01,  5.20926305e-01, -1.32892076e+00,\n",
       "       -4.08636883e-03, -2.88953394e-01, -8.91410569e-01,  4.22481812e-01,\n",
       "        3.46394142e-01, -8.29493592e-01,  1.76579142e-01, -2.19094391e-01,\n",
       "       -2.16000162e+00, -2.57711303e+00, -1.80299301e+00,  4.07502737e-01,\n",
       "        4.88267365e-02,  1.34649215e+00,  1.28716419e+00,  1.08717656e+00,\n",
       "       -5.37915485e-01, -2.72934209e+00,  2.13425885e+00, -4.61700100e-01,\n",
       "       -1.56085866e-01, -1.18211532e+00, -1.01162538e+00,  1.29956677e+00,\n",
       "        1.07797620e+00, -1.72970073e-01, -5.53290401e-01,  7.33987432e-01,\n",
       "        3.92735863e-01,  9.46050651e-01,  9.10316591e-01,  4.95461888e-01,\n",
       "       -1.72957288e-01, -4.45847315e-01, -9.39195927e-02,  1.45705884e+00,\n",
       "       -3.04498015e-01, -1.20941790e+00, -4.18178190e-01, -5.91732340e-01,\n",
       "       -1.06549453e+00,  9.69552189e-01, -2.29505576e-01, -3.74350856e-01,\n",
       "        1.56516314e+00,  2.22941606e-01,  3.83698609e-01, -3.05964398e-02,\n",
       "        1.18398966e+00, -6.78701284e-01, -5.54275381e-01, -1.11271704e+00,\n",
       "        9.59711987e-02, -1.19408265e+00,  1.95302743e+00, -8.61479316e-01,\n",
       "       -6.52839722e-01, -3.65784398e-01, -8.28044225e-01, -3.25957404e-01,\n",
       "        1.03813790e+00, -1.50006102e+00, -9.05126904e-01, -6.20716174e-01,\n",
       "       -1.70176745e+00, -7.26580147e-02,  2.82925910e-01,  2.33999123e+00,\n",
       "        9.78109250e-01,  4.60273868e-01, -5.44311870e-01, -4.28186866e-01,\n",
       "        1.09253821e+00, -6.81426259e-02, -2.30527099e-01,  1.24602533e+00,\n",
       "       -2.68652801e-01, -1.42256438e+00, -1.04072523e+00,  1.17094839e+00,\n",
       "        3.64486523e-01,  2.24894556e-01,  2.35485584e+00,  8.92941046e-01,\n",
       "        1.62122810e-01, -1.12852287e+00,  1.32801850e+00, -9.83744488e-02,\n",
       "        4.56459732e-01, -4.91686574e-01,  1.77970732e+00, -7.38488935e-01,\n",
       "        4.14369451e-01, -3.08997400e-01,  5.48068520e-01,  5.20985690e-01,\n",
       "       -8.99958373e-01,  1.67709478e+00, -5.67453205e-01, -6.96255159e-01,\n",
       "        1.59331356e+00,  9.86996347e-01, -1.32209327e+00, -2.51319773e-01,\n",
       "        3.12872199e-01, -7.84770514e-01, -5.12664309e-01, -1.68232906e+00,\n",
       "       -5.28309448e-01, -1.91960352e+00, -1.87614058e+00, -3.60841604e-01,\n",
       "       -1.56615892e+00,  1.29875888e+00, -1.73627557e-01,  1.95543976e-01,\n",
       "        1.05933464e+00,  1.84180330e+00, -5.78616544e-01,  1.18905618e+00,\n",
       "        7.28792487e-01,  4.50625759e-01, -8.97011828e-01, -7.03196979e-01,\n",
       "        2.37462338e+00, -3.68199154e-01, -1.02005291e+00, -1.80375224e-01,\n",
       "       -5.39959906e-01, -7.18506241e-01, -6.16126430e-01,  1.11358121e-01,\n",
       "       -6.15345191e-01, -1.18977622e+00, -1.13579083e+00,  3.33944207e-01,\n",
       "       -5.14415324e-01, -1.27125550e+00,  1.30412223e+00, -3.91775799e-01,\n",
       "        1.15435263e+00,  1.29070929e-01,  6.07338867e-01,  1.18600789e+00,\n",
       "        1.24193610e+00, -3.23722501e-02, -8.09331513e-01,  6.27021691e-01,\n",
       "        6.79362901e-01, -6.85331872e-01, -5.56839748e-01, -5.51835003e-01,\n",
       "       -2.35688809e+00,  1.74561022e+00,  8.51980149e-01,  5.33570656e-01])"
      ]
     },
     "execution_count": 165,
     "metadata": {},
     "output_type": "execute_result"
    }
   ],
   "source": [
    "X_test[:,]"
   ]
  },
  {
   "cell_type": "code",
   "execution_count": null,
   "metadata": {},
   "outputs": [],
   "source": []
  },
  {
   "cell_type": "code",
   "execution_count": null,
   "metadata": {},
   "outputs": [],
   "source": []
  },
  {
   "cell_type": "code",
   "execution_count": null,
   "metadata": {},
   "outputs": [],
   "source": []
  },
  {
   "cell_type": "code",
   "execution_count": null,
   "metadata": {},
   "outputs": [],
   "source": []
  },
  {
   "cell_type": "code",
   "execution_count": null,
   "metadata": {},
   "outputs": [],
   "source": []
  },
  {
   "cell_type": "code",
   "execution_count": null,
   "metadata": {},
   "outputs": [],
   "source": []
  },
  {
   "cell_type": "code",
   "execution_count": null,
   "metadata": {},
   "outputs": [],
   "source": []
  },
  {
   "cell_type": "code",
   "execution_count": null,
   "metadata": {},
   "outputs": [],
   "source": []
  },
  {
   "cell_type": "code",
   "execution_count": null,
   "metadata": {},
   "outputs": [],
   "source": []
  },
  {
   "cell_type": "code",
   "execution_count": null,
   "metadata": {},
   "outputs": [],
   "source": []
  },
  {
   "cell_type": "code",
   "execution_count": null,
   "metadata": {},
   "outputs": [],
   "source": []
  },
  {
   "cell_type": "code",
   "execution_count": null,
   "metadata": {},
   "outputs": [],
   "source": []
  },
  {
   "cell_type": "code",
   "execution_count": null,
   "metadata": {},
   "outputs": [],
   "source": []
  },
  {
   "cell_type": "code",
   "execution_count": null,
   "metadata": {},
   "outputs": [],
   "source": []
  },
  {
   "cell_type": "code",
   "execution_count": null,
   "metadata": {},
   "outputs": [],
   "source": []
  },
  {
   "cell_type": "code",
   "execution_count": 31,
   "metadata": {},
   "outputs": [],
   "source": [
    "x=dfx.values\n",
    "X=x[:,:-1]\n",
    "Y=x[:,-1]"
   ]
  },
  {
   "cell_type": "code",
   "execution_count": 32,
   "metadata": {},
   "outputs": [
    {
     "data": {
      "text/plain": [
       "(1600, 5)"
      ]
     },
     "execution_count": 32,
     "metadata": {},
     "output_type": "execute_result"
    }
   ],
   "source": [
    "X.shape"
   ]
  },
  {
   "cell_type": "code",
   "execution_count": 33,
   "metadata": {},
   "outputs": [
    {
     "data": {
      "text/plain": [
       "(1600,)"
      ]
     },
     "execution_count": 33,
     "metadata": {},
     "output_type": "execute_result"
    }
   ],
   "source": [
    "Y.shape"
   ]
  },
  {
   "cell_type": "code",
   "execution_count": 27,
   "metadata": {},
   "outputs": [
    {
     "data": {
      "text/plain": [
       "<matplotlib.collections.PathCollection at 0x28e8a086390>"
      ]
     },
     "execution_count": 27,
     "metadata": {},
     "output_type": "execute_result"
    },
    {
     "data": {
      "image/png": "[encoded data removed]",
      "text/plain": [
       "<Figure size 432x288 with 1 Axes>"
      ]
     },
     "metadata": {
      "needs_background": "light"
     },
     "output_type": "display_data"
    }
   ],
   "source": [
    "plt.scatter(X[:,4],Y)"
   ]
  },
  {
   "cell_type": "code",
   "execution_count": 34,
   "metadata": {},
   "outputs": [
    {
     "name": "stdout",
     "output_type": "stream",
     "text": [
      "(1600, 6)\n"
     ]
    }
   ],
   "source": [
    "# make a numpy arreay of ones\n",
    "ones=np.ones((x.shape[0],1))\n",
    "#print(ones)\n",
    "X=np.hstack((ones,X))\n",
    "print(X.shape)"
   ]
  },
  {
   "cell_type": "code",
   "execution_count": 35,
   "metadata": {},
   "outputs": [],
   "source": [
    "X=(X-X.mean())/X.std()"
   ]
  },
  {
   "cell_type": "code",
   "execution_count": 36,
   "metadata": {},
   "outputs": [],
   "source": []
  },
  {
   "cell_type": "code",
   "execution_count": 37,
   "metadata": {},
   "outputs": [],
   "source": []
  },
  {
   "cell_type": "code",
   "execution_count": null,
   "metadata": {},
   "outputs": [],
   "source": [
    "\n"
   ]
  },
  {
   "cell_type": "code",
   "execution_count": null,
   "metadata": {},
   "outputs": [],
   "source": [
    "\n"
   ]
  },
  {
   "cell_type": "code",
   "execution_count": null,
   "metadata": {},
   "outputs": [],
   "source": []
  },
  {
   "cell_type": "code",
   "execution_count": 42,
   "metadata": {},
   "outputs": [],
   "source": [
    "X_=pd.read_csv('Test.csv')\n",
    "X_=X_.values\n",
    "ones=np.ones((X_.shape[0],1))\n",
    "#print(ones)\n",
    "X_=np.hstack((ones,X_))\n",
    "X_=(X_-X_.mean())/X_.std()"
   ]
  },
  {
   "cell_type": "code",
   "execution_count": 46,
   "metadata": {},
   "outputs": [],
   "source": [
    "m=X_.shape[0]\n",
    "y_=[]\n",
    "for i in range(m):\n",
    "    pred=hypothesis(X_[i],theta)\n",
    "    y_.append(pred)\n",
    "y_ =np.array(y_)"
   ]
  },
  {
   "cell_type": "code",
   "execution_count": 44,
   "metadata": {},
   "outputs": [],
   "source": [
    "def r2_score(y,y_):\n",
    "    num=np.sum((y-y_)**2)\n",
    "    denom=np.sum((y-y.mean())**2)\n",
    "    score=(1 - num/denom)\n",
    "    return score*100"
   ]
  },
  {
   "cell_type": "code",
   "execution_count": null,
   "metadata": {},
   "outputs": [],
   "source": [
    "r2_score(y,y_)"
   ]
  },
  {
   "cell_type": "code",
   "execution_count": null,
   "metadata": {},
   "outputs": [],
   "source": [
    "df=pd.DataFrame(data=y_test,columns=['y'])\n",
    "df.to_csv('y_predictions.csv',index=False)"
   ]
  },
  {
   "cell_type": "code",
   "execution_count": null,
   "metadata": {},
   "outputs": [],
   "source": []
  },
  {
   "cell_type": "code",
   "execution_count": null,
   "metadata": {},
   "outputs": [],
   "source": []
  },
  {
   "cell_type": "code",
   "execution_count": null,
   "metadata": {},
   "outputs": [],
   "source": []
  },
  {
   "cell_type": "code",
   "execution_count": null,
   "metadata": {},
   "outputs": [],
   "source": []
  },
  {
   "cell_type": "code",
   "execution_count": null,
   "metadata": {},
   "outputs": [],
   "source": []
  },
  {
   "cell_type": "code",
   "execution_count": null,
   "metadata": {},
   "outputs": [],
   "source": []
  },
  {
   "cell_type": "code",
   "execution_count": null,
   "metadata": {},
   "outputs": [],
   "source": []
  },
  {
   "cell_type": "code",
   "execution_count": null,
   "metadata": {},
   "outputs": [],
   "source": []
  },
  {
   "cell_type": "code",
   "execution_count": null,
   "metadata": {},
   "outputs": [],
   "source": []
  },
  {
   "cell_type": "code",
   "execution_count": null,
   "metadata": {},
   "outputs": [],
   "source": []
  },
  {
   "cell_type": "code",
   "execution_count": null,
   "metadata": {},
   "outputs": [],
   "source": []
  },
  {
   "cell_type": "code",
   "execution_count": null,
   "metadata": {},
   "outputs": [],
   "source": []
  }
 ],
 "metadata": {
  "kernelspec": {
   "display_name": "Python 3",
   "language": "python",
   "name": "python3"
  },
  "language_info": {
   "codemirror_mode": {
    "name": "ipython",
    "version": 3
   },
   "file_extension": ".py",
   "mimetype": "text/x-python",
   "name": "python",
   "nbconvert_exporter": "python",
   "pygments_lexer": "ipython3",
   "version": "3.7.3"
  }
 },
 "nbformat": 4,
 "nbformat_minor": 2
}
