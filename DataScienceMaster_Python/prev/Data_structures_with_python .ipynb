{
 "cells": [
  {
   "cell_type": "markdown",
   "metadata": {},
   "source": [
    "# Data_structures\n",
    "##Stings \n",
    "##List\n",
    "##Touples\n",
    "##Dictionary\n",
    "##Sets"
   ]
  },
  {
   "cell_type": "code",
   "execution_count": 1,
   "metadata": {},
   "outputs": [
    {
     "name": "stdout",
     "output_type": "stream",
     "text": [
      "<class 'list'>\n"
     ]
    }
   ],
   "source": [
    "my_list=[1,2,3.4,'hello']\n",
    "print(type(my_list))"
   ]
  },
  {
   "cell_type": "code",
   "execution_count": 2,
   "metadata": {},
   "outputs": [
    {
     "name": "stdout",
     "output_type": "stream",
     "text": [
      "[1, 2, 3.4, 'hello']\n"
     ]
    }
   ],
   "source": [
    "l2=list(my_list)\n",
    "print(l2)"
   ]
  },
  {
   "cell_type": "code",
   "execution_count": 4,
   "metadata": {},
   "outputs": [
    {
     "name": "stdout",
     "output_type": "stream",
     "text": [
      "[5, 6, 7]\n"
     ]
    }
   ],
   "source": [
    "l3=list([5,6,7])\n",
    "print(l3)"
   ]
  },
  {
   "cell_type": "code",
   "execution_count": 5,
   "metadata": {},
   "outputs": [
    {
     "name": "stdout",
     "output_type": "stream",
     "text": [
      "[1, 2, 3.4, 'hello', 5, 6, 7]\n"
     ]
    }
   ],
   "source": [
    "l2=l2+l3\n",
    "print(l2)"
   ]
  },
  {
   "cell_type": "code",
   "execution_count": 7,
   "metadata": {},
   "outputs": [
    {
     "name": "stdout",
     "output_type": "stream",
     "text": [
      "[1, 2, 3.4, 'hello', 5, 6, 7, 5, 6, 7, 5, 6, 7]\n"
     ]
    }
   ],
   "source": [
    "l2.extend(l3)\n",
    "print(l2)"
   ]
  },
  {
   "cell_type": "code",
   "execution_count": 8,
   "metadata": {},
   "outputs": [
    {
     "name": "stdout",
     "output_type": "stream",
     "text": [
      "[1, 4, 9, 16, 25]\n"
     ]
    }
   ],
   "source": [
    "l4=[i*i for i in range(1,6)]\n",
    "print(l4)"
   ]
  },
  {
   "cell_type": "markdown",
   "metadata": {},
   "source": [
    "## Insertion and Deletion\n",
    " -append\n",
    " -insert\n",
    " -remove\n",
    " -pop\n",
    " -del"
   ]
  },
  {
   "cell_type": "code",
   "execution_count": 9,
   "metadata": {},
   "outputs": [
    {
     "name": "stdout",
     "output_type": "stream",
     "text": [
      "[1, 2, 3, [2, 3, 4]]\n"
     ]
    }
   ],
   "source": [
    "l=[1,2]\n",
    "l.append(3)\n",
    "l.append([2,3,4])#Mulidimentional Arrays\n",
    "print(l)"
   ]
  },
  {
   "cell_type": "code",
   "execution_count": 10,
   "metadata": {},
   "outputs": [
    {
     "name": "stdout",
     "output_type": "stream",
     "text": [
      "[2, 3, 4]\n"
     ]
    }
   ],
   "source": [
    "print(l[3])"
   ]
  },
  {
   "cell_type": "code",
   "execution_count": 12,
   "metadata": {},
   "outputs": [
    {
     "name": "stdout",
     "output_type": "stream",
     "text": [
      "2\n"
     ]
    }
   ],
   "source": [
    "print(l[3][0])"
   ]
  },
  {
   "cell_type": "code",
   "execution_count": 14,
   "metadata": {},
   "outputs": [
    {
     "name": "stdout",
     "output_type": "stream",
     "text": [
      "[1, [2, 3, 4]]\n"
     ]
    }
   ],
   "source": [
    "del l[1]\n",
    "print(l)"
   ]
  },
  {
   "cell_type": "code",
   "execution_count": 15,
   "metadata": {},
   "outputs": [
    {
     "name": "stdout",
     "output_type": "stream",
     "text": [
      "[1, [2, 3, 4], 2]\n"
     ]
    }
   ],
   "source": [
    "l.append(2)\n",
    "print(l)"
   ]
  },
  {
   "cell_type": "code",
   "execution_count": 16,
   "metadata": {},
   "outputs": [
    {
     "name": "stdout",
     "output_type": "stream",
     "text": [
      "[1, [2, 3, 4]]\n"
     ]
    }
   ],
   "source": [
    "l.pop()#Removes the last element\n",
    "print(l)"
   ]
  },
  {
   "cell_type": "code",
   "execution_count": 17,
   "metadata": {},
   "outputs": [
    {
     "name": "stdout",
     "output_type": "stream",
     "text": [
      "[1, [2, 3, 4], 30]\n"
     ]
    }
   ],
   "source": [
    "l.insert(2,30)#First argument is position and next is data\n",
    "print(l)"
   ]
  },
  {
   "cell_type": "markdown",
   "metadata": {},
   "source": [
    "# More_functions_for_list Searching and sorting"
   ]
  },
  {
   "cell_type": "code",
   "execution_count": 25,
   "metadata": {},
   "outputs": [
    {
     "name": "stdout",
     "output_type": "stream",
     "text": [
      "72 4\n"
     ]
    }
   ],
   "source": [
    "my_list1=[4,5,6,72,4,5]\n",
    "print(max(my_list1),min(my_list1))"
   ]
  },
  {
   "cell_type": "code",
   "execution_count": 31,
   "metadata": {},
   "outputs": [
    {
     "name": "stdout",
     "output_type": "stream",
     "text": [
      "[4, 4, 5, 5, 6, 72]\n"
     ]
    }
   ],
   "source": [
    "my_list1=sorted(my_list1)#returns a copy of the sorted list\n",
    "print(my_list1)"
   ]
  },
  {
   "cell_type": "code",
   "execution_count": 33,
   "metadata": {},
   "outputs": [
    {
     "name": "stdout",
     "output_type": "stream",
     "text": [
      "[72, 6, 5, 5, 4, 4]\n"
     ]
    }
   ],
   "source": [
    "my_list1.sort(reverse=True)\n",
    "print(my_list1)"
   ]
  },
  {
   "cell_type": "code",
   "execution_count": 35,
   "metadata": {},
   "outputs": [
    {
     "name": "stdout",
     "output_type": "stream",
     "text": [
      "1 78 454 6 2 185 6 5 6 6\n",
      "[1, 78, 454, 6, 2, 185, 6, 5, 6, 6]\n",
      "<class 'list'>\n"
     ]
    }
   ],
   "source": [
    "#Read a list of numbers\n",
    "numbers=[int(number) for number in input().split()]#gives a list of intergers\n",
    "print(numbers)\n",
    "print(type(numbers))"
   ]
  },
  {
   "cell_type": "markdown",
   "metadata": {},
   "source": [
    "# Dictionaries "
   ]
  },
  {
   "cell_type": "code",
   "execution_count": 5,
   "metadata": {},
   "outputs": [
    {
     "name": "stdout",
     "output_type": "stream",
     "text": [
      "{'mango': 10, 'Guava': 20, 'Pineapple': 40}\n",
      "<class 'dict'>\n",
      "{'mango': 10, 'Guava': 20, 'Pineapple': 40, 'apple': 70}\n",
      "30\n"
     ]
    }
   ],
   "source": [
    "d={\"mango\":10,\"Guava\":20,\"Pineapple\":40}\n",
    "print(d)\n",
    "print(type(d))\n",
    "d[\"apple\"]= 70\n",
    "print(d)\n",
    "d[\"Strawberries\"]={\"small\":30,\"large\":50}\n",
    "print(d[\"Strawberries\"][\"small\"])\n",
    "\n",
    "\n",
    "\n",
    "\n"
   ]
  },
  {
   "cell_type": "code",
   "execution_count": 6,
   "metadata": {},
   "outputs": [
    {
     "name": "stdout",
     "output_type": "stream",
     "text": [
      "dict_keys(['mango', 'Guava', 'Pineapple', 'apple', 'Strawberries'])\n"
     ]
    }
   ],
   "source": [
    "print(d.keys())"
   ]
  },
  {
   "cell_type": "code",
   "execution_count": 7,
   "metadata": {},
   "outputs": [
    {
     "name": "stdout",
     "output_type": "stream",
     "text": [
      "dict_values([10, 20, 40, 70, {'small': 30, 'large': 50}])\n"
     ]
    }
   ],
   "source": [
    "print(d.values())"
   ]
  },
  {
   "cell_type": "code",
   "execution_count": 8,
   "metadata": {},
   "outputs": [
    {
     "name": "stdout",
     "output_type": "stream",
     "text": [
      "{'mango': 100, 'banana': 200, 'orange': 300}\n"
     ]
    }
   ],
   "source": [
    "h1=[\"mango\",\"banana\",\"orange\"]\n",
    "h2=[100,200,300]\n",
    "dic=dict(zip(h1,h2))\n",
    "print(dic)"
   ]
  },
  {
   "cell_type": "code",
   "execution_count": 9,
   "metadata": {},
   "outputs": [
    {
     "name": "stdout",
     "output_type": "stream",
     "text": [
      "mango\n",
      "banana\n",
      "orange\n"
     ]
    }
   ],
   "source": [
    "for k in dic:\n",
    "    print(k)"
   ]
  },
  {
   "cell_type": "code",
   "execution_count": 10,
   "metadata": {},
   "outputs": [
    {
     "name": "stdout",
     "output_type": "stream",
     "text": [
      "100\n",
      "200\n",
      "300\n"
     ]
    }
   ],
   "source": [
    "for k in dic.values():\n",
    "    print(k)"
   ]
  },
  {
   "cell_type": "markdown",
   "metadata": {},
   "source": [
    "# Tuples"
   ]
  },
  {
   "cell_type": "code",
   "execution_count": 12,
   "metadata": {},
   "outputs": [
    {
     "name": "stdout",
     "output_type": "stream",
     "text": [
      "(8, 1, 2, 3, 43, 'hello') [8, 1, 2, 3, 43, 'hello']\n"
     ]
    }
   ],
   "source": [
    "t=(1,1,2,3,43,\"hello\")#they are immutable\n",
    "l=list(t)\n",
    "l[0]=8\n",
    "t=tuple(l)\n",
    "print(t,l)\n",
    "#they can be used in case of loops due to fast iteration\n",
    "#also support concatenation and repeatations\n",
    "\n",
    "\n",
    "\n"
   ]
  },
  {
   "cell_type": "markdown",
   "metadata": {},
   "source": [
    "# Sets\n",
    "## stores unordered and unique elements "
   ]
  },
  {
   "cell_type": "code",
   "execution_count": 13,
   "metadata": {},
   "outputs": [
    {
     "name": "stdout",
     "output_type": "stream",
     "text": [
      "{1, 2, 3, 4, 55, 23}\n"
     ]
    }
   ],
   "source": [
    "s=set([1,1,2,23,3,3,3,3,4,4,55,])\n",
    "print(s)#stores in an order compatible with the process "
   ]
  },
  {
   "cell_type": "code",
   "execution_count": 15,
   "metadata": {},
   "outputs": [
    {
     "name": "stdout",
     "output_type": "stream",
     "text": [
      "{1, 2, 3, 4, 16, 55, 23}\n"
     ]
    }
   ],
   "source": [
    "s.add(16)\n",
    "print(s)"
   ]
  },
  {
   "cell_type": "code",
   "execution_count": 16,
   "metadata": {},
   "outputs": [
    {
     "name": "stdout",
     "output_type": "stream",
     "text": [
      "{1, 2, 4, 5, 9}\n"
     ]
    }
   ],
   "source": [
    "s2={1,2,3,4,6,4}\n",
    "s3={9,5,6,3}\n",
    "print(s2^s3)#prints the elements only in one of the sets "
   ]
  },
  {
   "cell_type": "code",
   "execution_count": null,
   "metadata": {},
   "outputs": [],
   "source": []
  }
 ],
 "metadata": {
  "kernelspec": {
   "display_name": "Python 3",
   "language": "python",
   "name": "python3"
  },
  "language_info": {
   "codemirror_mode": {
    "name": "ipython",
    "version": 3
   },
   "file_extension": ".py",
   "mimetype": "text/x-python",
   "name": "python",
   "nbconvert_exporter": "python",
   "pygments_lexer": "ipython3",
   "version": "3.7.3"
  }
 },
 "nbformat": 4,
 "nbformat_minor": 2
}
