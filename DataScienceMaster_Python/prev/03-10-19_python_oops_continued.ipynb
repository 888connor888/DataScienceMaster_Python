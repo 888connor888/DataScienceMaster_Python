{
 "cells": [
  {
   "cell_type": "markdown",
   "metadata": {},
   "source": [
    "# Inheritance"
   ]
  },
  {
   "cell_type": "code",
   "execution_count": 9,
   "metadata": {},
   "outputs": [],
   "source": [
    "class school_member:#This is the base class\n",
    "    def __init__(self,name,age):\n",
    "        self.name=name\n",
    "        self.age=age\n",
    "    def introduce(self):\n",
    "        print(\"Name:{}\\tAge:{}\".format(self.name,self.age))\n",
    "class Teacher(school_member):#This is the derived class(derived from the base class)\n",
    "    def __init__(self,name,age,salary):\n",
    "        school_member.__init__(self,name,age)\n",
    "        self.salary=salary\n",
    "    def introduce(self):\n",
    "        school_member.introduce(self)\n",
    "        print(\"Salary:{}\".format(self.salary))\n",
    "class student(school_member):\n",
    "    def __init__(self,name,age,std):\n",
    "        school_member.__init__(self,name,age)\n",
    "        self.std=std\n",
    "    def introduce(self):\n",
    "        school_member.introduce(self)\n",
    "        print(\"Standard:{}\".format(self.std))\n",
    "    "
   ]
  },
  {
   "cell_type": "code",
   "execution_count": 10,
   "metadata": {},
   "outputs": [
    {
     "name": "stdout",
     "output_type": "stream",
     "text": [
      "Name:Mr Bean\tAge:25\n",
      "Salary:45000\n",
      "Name:shubham\tAge:15\n",
      "Standard:10\n"
     ]
    }
   ],
   "source": [
    "t=Teacher(\"Mr Bean\",25,45000)\n",
    "t.introduce()\n",
    "s=student(\"shubham\",15,10)\n",
    "s.introduce()"
   ]
  },
  {
   "cell_type": "markdown",
   "metadata": {},
   "source": [
    "# File Handling \n",
    " -read only(r)\n",
    " -read and write(r+)\n",
    " -write only(w)\n",
    " -write and read(w+)\n",
    " -append only(a)\n",
    " -append and read(a+)"
   ]
  },
  {
   "cell_type": "code",
   "execution_count": 17,
   "metadata": {},
   "outputs": [
    {
     "data": {
      "text/plain": [
       "'this is some \\nrandom text \\ndocument'"
      ]
     },
     "execution_count": 17,
     "metadata": {},
     "output_type": "execute_result"
    }
   ],
   "source": [
    "f=open(\"sample.txt\",'r')\n",
    "f.read()"
   ]
  },
  {
   "cell_type": "code",
   "execution_count": 15,
   "metadata": {},
   "outputs": [],
   "source": [
    "f=open(\"sample.txt\",'w')\n",
    "content=\"hello world\\n\"\n",
    "l=[content]*3\n",
    "f.writelines(l)\n",
    "f.close()"
   ]
  },
  {
   "cell_type": "markdown",
   "metadata": {},
   "source": [
    "## reading through open"
   ]
  },
  {
   "cell_type": "code",
   "execution_count": 18,
   "metadata": {},
   "outputs": [
    {
     "name": "stdout",
     "output_type": "stream",
     "text": [
      "False\n",
      "this is some \n",
      "random text \n",
      "document\n"
     ]
    }
   ],
   "source": [
    "with open(\"sample.txt\",'r') as f:\n",
    "    print(f.closed)#to check whether the file is open or closed\n",
    "    print(f.read())"
   ]
  },
  {
   "cell_type": "markdown",
   "metadata": {},
   "source": [
    "# JSON(JavaScript Object Notation)\n",
    "## serialisation\n",
    "### json.dumps(obj),json.dump(obj.file)\n",
    "## Deserialisation\n",
    "### json.load(json file),json.loads(json file)"
   ]
  },
  {
   "cell_type": "code",
   "execution_count": 22,
   "metadata": {},
   "outputs": [
    {
     "name": "stdout",
     "output_type": "stream",
     "text": [
      "<class 'dict'>\n",
      "{'name': 'A1', 'age': 30}\n"
     ]
    }
   ],
   "source": [
    "import json\n",
    "book={\n",
    "    \"name\":\"Learning Python\",\n",
    "    \"page\":320,\n",
    "    \"authers\":\n",
    "    [\n",
    "        {\n",
    "            \"name\":\"A1\",\n",
    "            \"age\":30\n",
    "        },\n",
    "        {\n",
    "            \"name\":\"A2\",\n",
    "            \"age\":40\n",
    "        }\n",
    "    ]\n",
    "}\n",
    "print(type(book))\n",
    "print(book['authers'][0])"
   ]
  },
  {
   "cell_type": "code",
   "execution_count": 23,
   "metadata": {},
   "outputs": [],
   "source": [
    "with open(\"my_json_file.json\",'w') as f:\n",
    "    json.dump(book,f)#this automaticly closes the file"
   ]
  },
  {
   "cell_type": "code",
   "execution_count": 25,
   "metadata": {},
   "outputs": [
    {
     "name": "stdout",
     "output_type": "stream",
     "text": [
      "<class 'str'>\n"
     ]
    }
   ],
   "source": [
    "s=json.dumps(book)#this only returns a string\n",
    "print(type(s))"
   ]
  },
  {
   "cell_type": "code",
   "execution_count": 27,
   "metadata": {},
   "outputs": [
    {
     "name": "stdout",
     "output_type": "stream",
     "text": [
      "<class 'dict'>\n"
     ]
    }
   ],
   "source": [
    "obj=json.loads(s)#Deserialisation\n",
    "print(type(obj))"
   ]
  },
  {
   "cell_type": "code",
   "execution_count": 29,
   "metadata": {},
   "outputs": [
    {
     "name": "stdout",
     "output_type": "stream",
     "text": [
      "{'authers': [{'age': 30, 'name': 'A1'}, {'age': 40, 'name': 'A2'}],\n",
      " 'name': 'Learning Python',\n",
      " 'page': 320}\n"
     ]
    }
   ],
   "source": [
    "import pprint#to correctly interprate the data\n",
    "with open(\"my_json_file.json\",'r') as f:\n",
    "    data=json.load(f)\n",
    "    pprint.pprint(data)"
   ]
  },
  {
   "cell_type": "markdown",
   "metadata": {},
   "source": [
    "# Exception Handling\n",
    "#### Try and Except"
   ]
  },
  {
   "cell_type": "code",
   "execution_count": 37,
   "metadata": {},
   "outputs": [
    {
     "name": "stdout",
     "output_type": "stream",
     "text": [
      "Enter your nameshubham\n",
      "try executed without any error\n",
      " Form submitted sucessfully \n",
      "Its always there\n"
     ]
    }
   ],
   "source": [
    "try:\n",
    "    a=input('Enter your name')\n",
    "    if len(a)<3:\n",
    "        raise Exception\n",
    "    #f=open(\"somthingwentwrong.txt\",'r')#the file actually desnt exist.\n",
    "except FileNotFoundError:#FileNotFoundError is  in built class.\n",
    "    print('file not found')#this helps us to to point out the errors in execution.\n",
    "except Exception:#Exception is a built in class.\n",
    "    print('something went wrong')\n",
    "else:\n",
    "    print('try executed without any error\\n Form submitted sucessfully ')\n",
    "finally:#this block gets executed anyway.    \n",
    "    print('Its always there')"
   ]
  },
  {
   "cell_type": "code",
   "execution_count": null,
   "metadata": {},
   "outputs": [],
   "source": [
    "\n"
   ]
  },
  {
   "cell_type": "code",
   "execution_count": null,
   "metadata": {},
   "outputs": [],
   "source": []
  },
  {
   "cell_type": "code",
   "execution_count": null,
   "metadata": {},
   "outputs": [],
   "source": []
  },
  {
   "cell_type": "code",
   "execution_count": null,
   "metadata": {},
   "outputs": [],
   "source": []
  },
  {
   "cell_type": "code",
   "execution_count": null,
   "metadata": {},
   "outputs": [],
   "source": []
  },
  {
   "cell_type": "code",
   "execution_count": null,
   "metadata": {},
   "outputs": [],
   "source": []
  },
  {
   "cell_type": "code",
   "execution_count": null,
   "metadata": {},
   "outputs": [],
   "source": []
  },
  {
   "cell_type": "code",
   "execution_count": null,
   "metadata": {},
   "outputs": [],
   "source": []
  },
  {
   "cell_type": "code",
   "execution_count": null,
   "metadata": {},
   "outputs": [],
   "source": []
  },
  {
   "cell_type": "code",
   "execution_count": null,
   "metadata": {},
   "outputs": [],
   "source": []
  }
 ],
 "metadata": {
  "kernelspec": {
   "display_name": "Python 3",
   "language": "python",
   "name": "python3"
  },
  "language_info": {
   "codemirror_mode": {
    "name": "ipython",
    "version": 3
   },
   "file_extension": ".py",
   "mimetype": "text/x-python",
   "name": "python",
   "nbconvert_exporter": "python",
   "pygments_lexer": "ipython3",
   "version": "3.7.3"
  }
 },
 "nbformat": 4,
 "nbformat_minor": 2
}
