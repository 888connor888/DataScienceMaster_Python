{
 "cells": [
  {
   "cell_type": "code",
   "execution_count": 1,
   "metadata": {},
   "outputs": [
    {
     "name": "stdout",
     "output_type": "stream",
     "text": [
      "120\n"
     ]
    }
   ],
   "source": [
    "import math\n",
    "print(math.factorial(5))"
   ]
  },
  {
   "cell_type": "code",
   "execution_count": 2,
   "metadata": {},
   "outputs": [
    {
     "name": "stdout",
     "output_type": "stream",
     "text": [
      "2\n",
      "4.0\n",
      "2\n"
     ]
    }
   ],
   "source": [
    "print(math.floor(15/6))\n",
    "print(math.log(16,2))\n",
    "print(math.gcd(16,2))"
   ]
  },
  {
   "cell_type": "code",
   "execution_count": 5,
   "metadata": {},
   "outputs": [
    {
     "name": "stdout",
     "output_type": "stream",
     "text": [
      "21\n"
     ]
    }
   ],
   "source": [
    "print(sum([1,2,3,4,5,6]))"
   ]
  },
  {
   "cell_type": "markdown",
   "metadata": {},
   "source": [
    "# sys module\n",
    "some of the notes are in the_python_files folder"
   ]
  },
  {
   "cell_type": "code",
   "execution_count": 6,
   "metadata": {},
   "outputs": [
    {
     "name": "stdout",
     "output_type": "stream",
     "text": [
      "['C:\\\\Users\\\\Connor\\\\Anaconda3\\\\lib\\\\site-packages\\\\ipykernel_launcher.py', '-f', 'C:\\\\Users\\\\Connor\\\\AppData\\\\Roaming\\\\jupyter\\\\runtime\\\\kernel-9706f7c0-a86c-4131-9c8e-b415bd6689e4.json']\n"
     ]
    }
   ],
   "source": [
    "import sys\n",
    "def print_func():\n",
    "    print(sys.argv)#gives us the list of cmd arguements \n",
    "print_func()    "
   ]
  },
  {
   "cell_type": "code",
   "execution_count": 14,
   "metadata": {},
   "outputs": [],
   "source": [
    "class person():\n",
    "    def __init__(self,pname,clg):\n",
    "        self.name=pname\n",
    "        self.college=clg\n",
    "    def say_hi(self):\n",
    "        print(\"Hello \",self.name)\n",
    "    def Introduce(self):\n",
    "        print(\"My name is \",self.name)\n",
    "        print(\"I'm from\",self.college)\n",
    "        \n",
    "\n"
   ]
  },
  {
   "cell_type": "code",
   "execution_count": 15,
   "metadata": {},
   "outputs": [
    {
     "name": "stdout",
     "output_type": "stream",
     "text": [
      "Hello  Shubham\n",
      "My name is  Shubham\n",
      "I'm from NIT\n"
     ]
    }
   ],
   "source": [
    "p=person(\"Shubham\",\"NIT\")\n",
    "p.say_hi()\n",
    "p.Introduce()"
   ]
  },
  {
   "cell_type": "code",
   "execution_count": 18,
   "metadata": {},
   "outputs": [],
   "source": [
    "class Dog():\n",
    "    def __init__(self,breed):\n",
    "        self.activities=[]\n",
    "        self.breed=breed\n",
    "    def addactivities(self,act):\n",
    "        self.activities.append(act)\n",
    "    def showactivities(self):\n",
    "        print(self.breed)\n",
    "        print(self.activities)\n",
    "    "
   ]
  },
  {
   "cell_type": "code",
   "execution_count": 19,
   "metadata": {},
   "outputs": [
    {
     "name": "stdout",
     "output_type": "stream",
     "text": [
      "Bull Dog\n",
      "['Jumps', 'Sleeps', 'Shits']\n"
     ]
    }
   ],
   "source": [
    "d= Dog(\"Bull Dog\")\n",
    "d.addactivities(\"Jumps\")\n",
    "d.addactivities(\"Sleeps\")\n",
    "d.addactivities(\"Shits\")\n",
    "d.showactivities()"
   ]
  },
  {
   "cell_type": "code",
   "execution_count": null,
   "metadata": {},
   "outputs": [],
   "source": []
  },
  {
   "cell_type": "code",
   "execution_count": null,
   "metadata": {},
   "outputs": [],
   "source": []
  },
  {
   "cell_type": "code",
   "execution_count": null,
   "metadata": {},
   "outputs": [],
   "source": []
  }
 ],
 "metadata": {
  "kernelspec": {
   "display_name": "Python 3",
   "language": "python",
   "name": "python3"
  },
  "language_info": {
   "codemirror_mode": {
    "name": "ipython",
    "version": 3
   },
   "file_extension": ".py",
   "mimetype": "text/x-python",
   "name": "python",
   "nbconvert_exporter": "python",
   "pygments_lexer": "ipython3",
   "version": "3.7.3"
  }
 },
 "nbformat": 4,
 "nbformat_minor": 2
}
