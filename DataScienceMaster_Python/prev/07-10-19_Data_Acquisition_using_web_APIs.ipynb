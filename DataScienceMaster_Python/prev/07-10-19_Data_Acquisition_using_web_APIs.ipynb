{
 "cells": [
  {
   "cell_type": "markdown",
   "metadata": {},
   "source": [
    "# Data Acquisition using web APIs\n",
    "- Application Programming Interface - set of routines running over web server.\n",
    "- Connects application and database\n",
    "- Spacify data with URL\n",
    "- Retrive data and parse it\n",
    "- API may return data in JSON,XML data formats\n",
    "# JSON\n",
    "- Javascript Object Notation\n",
    "- Dictionary like Data-structure:key value pairs\n",
    "- Keys are strings, values can be anything\n",
    "- Easy to read and write\n",
    "# XML\n",
    "- eXtensible Markup Language\n",
    "- structure similar to XML\n",
    "- custom tags\n",
    "- No styles\n"
   ]
  },
  {
   "cell_type": "markdown",
   "metadata": {},
   "source": [
    "# Most popular python Library is Wrapper"
   ]
  },
  {
   "cell_type": "code",
   "execution_count": 1,
   "metadata": {},
   "outputs": [],
   "source": [
    "from urllib.request import urlopen"
   ]
  },
  {
   "cell_type": "code",
   "execution_count": 3,
   "metadata": {},
   "outputs": [],
   "source": [
    "api_url=\"https://samples.openweathermap.org/data/2.5/weather?q=London,uk&appid=b6907d289e10d714a6e88b30761fae22\""
   ]
  },
  {
   "cell_type": "code",
   "execution_count": 4,
   "metadata": {},
   "outputs": [
    {
     "name": "stdout",
     "output_type": "stream",
     "text": [
      "<http.client.HTTPResponse object at 0x00000197467B9B38>\n"
     ]
    }
   ],
   "source": [
    "url_result=urlopen(api_url)\n",
    "print(url_result)"
   ]
  },
  {
   "cell_type": "code",
   "execution_count": 5,
   "metadata": {},
   "outputs": [
    {
     "name": "stdout",
     "output_type": "stream",
     "text": [
      "b'{\"coord\":{\"lon\":-0.13,\"lat\":51.51},\"weather\":[{\"id\":300,\"main\":\"Drizzle\",\"description\":\"light intensity drizzle\",\"icon\":\"09d\"}],\"base\":\"stations\",\"main\":{\"temp\":280.32,\"pressure\":1012,\"humidity\":81,\"temp_min\":279.15,\"temp_max\":281.15},\"visibility\":10000,\"wind\":{\"speed\":4.1,\"deg\":80},\"clouds\":{\"all\":90},\"dt\":1485789600,\"sys\":{\"type\":1,\"id\":5091,\"message\":0.0103,\"country\":\"GB\",\"sunrise\":1485762037,\"sunset\":1485794875},\"id\":2643743,\"name\":\"London\",\"cod\":200}'\n"
     ]
    }
   ],
   "source": [
    "data=url_result.read()\n",
    "print(data)"
   ]
  },
  {
   "cell_type": "code",
   "execution_count": 6,
   "metadata": {},
   "outputs": [
    {
     "name": "stdout",
     "output_type": "stream",
     "text": [
      "<class 'bytes'>\n"
     ]
    }
   ],
   "source": [
    "print(type(data))"
   ]
  },
  {
   "cell_type": "code",
   "execution_count": 7,
   "metadata": {},
   "outputs": [],
   "source": [
    "#we need to convert this into json\n",
    "import json"
   ]
  },
  {
   "cell_type": "code",
   "execution_count": 9,
   "metadata": {},
   "outputs": [
    {
     "name": "stdout",
     "output_type": "stream",
     "text": [
      "{'coord': {'lon': -0.13, 'lat': 51.51}, 'weather': [{'id': 300, 'main': 'Drizzle', 'description': 'light intensity drizzle', 'icon': '09d'}], 'base': 'stations', 'main': {'temp': 280.32, 'pressure': 1012, 'humidity': 81, 'temp_min': 279.15, 'temp_max': 281.15}, 'visibility': 10000, 'wind': {'speed': 4.1, 'deg': 80}, 'clouds': {'all': 90}, 'dt': 1485789600, 'sys': {'type': 1, 'id': 5091, 'message': 0.0103, 'country': 'GB', 'sunrise': 1485762037, 'sunset': 1485794875}, 'id': 2643743, 'name': 'London', 'cod': 200}\n"
     ]
    }
   ],
   "source": [
    "json_data=json.loads(data)\n",
    "print(json_data)"
   ]
  },
  {
   "cell_type": "code",
   "execution_count": 10,
   "metadata": {},
   "outputs": [
    {
     "data": {
      "text/plain": [
       "{'lon': -0.13, 'lat': 51.51}"
      ]
     },
     "execution_count": 10,
     "metadata": {},
     "output_type": "execute_result"
    }
   ],
   "source": [
    "json_data['coord']"
   ]
  },
  {
   "cell_type": "code",
   "execution_count": 13,
   "metadata": {},
   "outputs": [
    {
     "name": "stdout",
     "output_type": "stream",
     "text": [
      "{\"coord\": {\"lon\": -0.13, \"lat\": 51.51}, \"weather\": [{\"id\": 300, \"main\": \"Drizzle\", \"description\": \"light intensity drizzle\", \"icon\": \"09d\"}], \"base\": \"stations\", \"main\": {\"temp\": 280.32, \"pressure\": 1012, \"humidity\": 81, \"temp_min\": 279.15, \"temp_max\": 281.15}, \"visibility\": 10000, \"wind\": {\"speed\": 4.1, \"deg\": 80}, \"clouds\": {\"all\": 90}, \"dt\": 1485789600, \"sys\": {\"type\": 1, \"id\": 5091, \"message\": 0.0103, \"country\": \"GB\", \"sunrise\": 1485762037, \"sunset\": 1485794875}, \"id\": 2643743, \"name\": \"London\", \"cod\": 200}\n",
      "<class 'str'>\n"
     ]
    }
   ],
   "source": [
    "# when we need to convert this into stings then\n",
    "json_string=json.dumps(json_data)\n",
    "print(json_string)\n",
    "print(type(json_string))"
   ]
  },
  {
   "cell_type": "markdown",
   "metadata": {},
   "source": [
    "# Google API"
   ]
  },
  {
   "cell_type": "code",
   "execution_count": 16,
   "metadata": {},
   "outputs": [],
   "source": [
    "import requests\n",
    "url=\" https://maps.googleapis.com/maps/api/geocode/json?\""
   ]
  },
  {
   "cell_type": "code",
   "execution_count": 15,
   "metadata": {},
   "outputs": [],
   "source": [
    "parameters={\n",
    "    \"address\": \"cooding blocks pitampura\",\n",
    "    \"key\":\n",
    "}"
   ]
  },
  {
   "cell_type": "code",
   "execution_count": 17,
   "metadata": {},
   "outputs": [],
   "source": [
    "r = requests.get(url,params=parameters)"
   ]
  },
  {
   "cell_type": "code",
   "execution_count": 18,
   "metadata": {},
   "outputs": [
    {
     "data": {
      "text/plain": [
       "'https://maps.googleapis.com/maps/api/geocode/json?address=cooding+blocks+pitampura'"
      ]
     },
     "execution_count": 18,
     "metadata": {},
     "output_type": "execute_result"
    }
   ],
   "source": [
    "r.url"
   ]
  },
  {
   "cell_type": "code",
   "execution_count": 20,
   "metadata": {},
   "outputs": [
    {
     "name": "stdout",
     "output_type": "stream",
     "text": [
      "{\n",
      "   \"error_message\" : \"You must use an API key to authenticate each request to Google Maps Platform APIs. For additional information, please refer to http://g.co/dev/maps-no-account\",\n",
      "   \"results\" : [],\n",
      "   \"status\" : \"REQUEST_DENIED\"\n",
      "}\n",
      "\n"
     ]
    }
   ],
   "source": [
    "print(r.content.decode('UTF-8'))\n",
    "# this will give error as we need key to authenticate"
   ]
  },
  {
   "cell_type": "code",
   "execution_count": null,
   "metadata": {},
   "outputs": [],
   "source": [
    "# you can also make a post request\n",
    "request.post(----url---,params)\n",
    "# try making post request for pastebin.com"
   ]
  },
  {
   "cell_type": "code",
   "execution_count": 25,
   "metadata": {},
   "outputs": [],
   "source": [
    "url=\"http://graph.facebook.com/4/picture?type=large\""
   ]
  },
  {
   "cell_type": "code",
   "execution_count": 26,
   "metadata": {},
   "outputs": [],
   "source": [
    "s=requests.get(url)"
   ]
  },
  {
   "cell_type": "code",
   "execution_count": 31,
   "metadata": {},
   "outputs": [
    {
     "name": "stdout",
     "output_type": "stream",
     "text": [
      "b'\\xff\\xd8\\xff\\xe0\\x00\\x10JFIF\\x00\\x01\\x02\\x00\\x00\\x01\\x00\\x01\\x00\\x00\\xff\\xed\\x00\\x9cPhotoshop 3.0\\x008BIM\\x04\\x04\\x00\\x00\\x00\\x00\\x00\\x80\\x1c\\x02g\\x00\\x14EijAN2tIMJ-3dRhxQN6D\\x1c\\x02(\\x00bFBMD01000ac0030000dc060000890b0000fe0c0000600e00001e1100005f1600000f17000066180000a619000065220000\\xff\\xe2\\x02\\x1cICC_PROFILE\\x00\\x01\\x01\\x00\\x00\\x02\\x0clcms\\x02\\x10\\x00\\x00mntrRGB XYZ \\x07\\xdc\\x00\\x01\\x00\\x19\\x00\\x03\\x00)\\x009acspAPPL\\x00\\x00\\x00\\x00\\x00\\x00\\x00\\x00\\x00\\x00\\x00\\x00\\x00\\x00\\x00\\x00\\x00\\x00\\x00\\x00\\x00\\x00\\x00\\x00\\x00\\x00\\xf6\\xd6\\x00\\x01\\x00\\x00\\x00\\x00\\xd3-lcms\\x00\\x00\\x00\\x00\\x00\\x00\\x00\\x00\\x00\\x00\\x00\\x00\\x00\\x00\\x00\\x00\\x00\\x00\\x00\\x00\\x00\\x00\\x00\\x00\\x00\\x00\\x00\\x00\\x00\\x00\\x00\\x00\\x00\\x00\\x00\\x00\\x00\\x00\\x00\\x00\\x00\\x00\\x00\\x00\\x00\\x00\\x00\\ndesc\\x00\\x00\\x00\\xfc\\x00\\x00\\x00^cprt\\x00\\x00\\x01\\\\\\x00\\x00\\x00\\x0bwtpt\\x00\\x00\\x01h\\x00\\x00\\x00\\x14bkpt\\x00\\x00\\x01|\\x00\\x00\\x00\\x14rXYZ\\x00\\x00\\x01\\x90\\x00\\x00\\x00\\x14gXYZ\\x00\\x00\\x01\\xa4\\x00\\x00\\x00\\x14bXYZ\\x00\\x00\\x01\\xb8\\x00\\x00\\x00\\x14rTRC\\x00\\x00\\x01\\xcc\\x00\\x00\\x00@gTRC\\x00\\x00\\x01\\xcc\\x00\\x00\\x00@bTRC\\x00\\x00\\x01\\xcc\\x00\\x00\\x00@desc\\x00\\x00\\x00\\x00\\x00\\x00\\x00\\x03c2\\x00\\x00\\x00\\x00\\x00\\x00\\x00\\x00\\x00\\x00\\x00\\x00\\x00\\x00\\x00\\x00\\x00\\x00\\x00\\x00\\x00\\x00\\x00\\x00\\x00\\x00\\x00\\x00\\x00\\x00\\x00\\x00\\x00\\x00\\x00\\x00\\x00\\x00\\x00\\x00\\x00\\x00\\x00\\x00\\x00\\x00\\x00\\x00\\x00\\x00\\x00\\x00\\x00\\x00\\x00\\x00\\x00\\x00\\x00\\x00\\x00\\x00\\x00\\x00\\x00\\x00\\x00\\x00\\x00\\x00\\x00\\x00\\x00\\x00\\x00\\x00\\x00\\x00\\x00\\x00\\x00\\x00text\\x00\\x00\\x00\\x00FB\\x00\\x00XYZ \\x00\\x00\\x00\\x00\\x00\\x00\\xf6\\xd6\\x00\\x01\\x00\\x00\\x00\\x00\\xd3-XYZ \\x00\\x00\\x00\\x00\\x00\\x00\\x03\\x16\\x00\\x00\\x033\\x00\\x00\\x02\\xa4XYZ \\x00\\x00\\x00\\x00\\x00\\x00o\\xa2\\x00\\x008\\xf5\\x00\\x00\\x03\\x90XYZ \\x00\\x00\\x00\\x00\\x00\\x00b\\x99\\x00\\x00\\xb7\\x85\\x00\\x00\\x18\\xdaXYZ \\x00\\x00\\x00\\x00\\x00\\x00$\\xa0\\x00\\x00\\x0f\\x84\\x00\\x00\\xb6\\xcfcurv\\x00\\x00\\x00\\x00\\x00\\x00\\x00\\x1a\\x00\\x00\\x00\\xcb\\x01\\xc9\\x03c\\x05\\x92\\x08k\\x0b\\xf6\\x10?\\x15Q\\x1b4!\\xf1)\\x902\\x18;\\x92F\\x05Qw]\\xedkpz\\x05\\x89\\xb1\\x9a|\\xaci\\xbf}\\xd3\\xc3\\xe90\\xff\\xff\\xff\\xdb\\x00C\\x00\\x06\\x04\\x05\\x06\\x05\\x04\\x06\\x06\\x05\\x06\\x07\\x07\\x06\\x08\\n\\x10\\n\\n\\t\\t\\n\\x14\\x0e\\x0f\\x0c\\x10\\x17\\x14\\x18\\x18\\x17\\x14\\x16\\x16\\x1a\\x1d%\\x1f\\x1a\\x1b#\\x1c\\x16\\x16 , #&\\')*)\\x19\\x1f-0-(0%()(\\xff\\xdb\\x00C\\x01\\x07\\x07\\x07\\n\\x08\\n\\x13\\n\\n\\x13(\\x1a\\x16\\x1a((((((((((((((((((((((((((((((((((((((((((((((((((\\xff\\xc2\\x00\\x11\\x08\\x00\\xc8\\x00\\xc8\\x03\\x00\"\\x00\\x01\\x11\\x01\\x02\\x11\\x01\\xff\\xc4\\x00\\x1b\\x00\\x00\\x01\\x05\\x01\\x01\\x00\\x00\\x00\\x00\\x00\\x00\\x00\\x00\\x00\\x00\\x00\\x05\\x00\\x02\\x03\\x04\\x06\\x01\\x07\\xff\\xc4\\x00\\x19\\x01\\x00\\x02\\x03\\x01\\x00\\x00\\x00\\x00\\x00\\x00\\x00\\x00\\x00\\x00\\x00\\x00\\x00\\x01\\x02\\x03\\x04\\x05\\xff\\xc4\\x00\\x19\\x01\\x00\\x02\\x03\\x01\\x00\\x00\\x00\\x00\\x00\\x00\\x00\\x00\\x00\\x00\\x00\\x00\\x00\\x01\\x02\\x03\\x04\\x05\\xff\\xda\\x00\\x0c\\x03\\x00\\x00\\x01\\x11\\x02\\x11\\x00\\x00\\x01\\xf3\\xdew\\x9b\\xb2vXe\"\\xd6\\xf5\\xc0\\xb8\\x9a\\x123\\x9c\\x1b\\xb8\\x93\\x12\\xeaO\\x89&\\x92H|]\\xe0$\\x90$\\x90$\\x92;\\xc5\\xd0RD\\x85#8\\x81$\\x9bR\\xad\\x0ek\\xc5\\xd8\\x96l\\x1a\\xd9D\\xfbj\\xb8K$e\\x954qG\\xddH>H\\xce\\x96.$\\x98\\x97x\\t$\\t$\\x84\\x92b]A\\xce\\xab\\xd0\\x95\\x82P\\xedx\\xfdH\\x8d=\\xf5j\\x96\\x95\\x84\\xd6J\\xb6\\xca\\xaa~h\\'\\xd10\\xd6\\xe7\\xa2\\x98\\xfe\\x9f7\\x9d\\xeftQ\\xc4\\xba\\x1c\\xe3\\xba\\x11\\xa4\\x93Iu\\x89$\\x08\\xf0-\\x06M\\x16\\xb7\\xd8}\\xaf3\\xa9fj\\x93\\x13\\x9a(-5N\\xa5\\xf8ah\\xe1\\x07\\x00%\\x82}\\xdb\\xfd>@N\\xe9\\xe5\\xbe\\x9c\\xb4\\xbaX@C\\xee\\xb0 \\x92H\"\\xe5\\xe40\\xb4U\\xf2\\xd3\\xaa\\xdbA\\xf5D\\xf3\\xeb\\xcf\\xee\\xb3z\\x8c\\xdaF\\xe7\\xb6\\x02\\xa6U>,\\xbce\\x9e\\x8ce\\x96[\\x04\\xda\\xae\\xb0\\xd7\\x02h\\xf6`Df\\x92Q\\xadH\\xacaA\\xcc\\xades\\xde\\xa6\\xc8J\\xfc0\\xd8\\x8c\\x9d\\x15;\\xcdj\\x8a\\xe4\\xf7yw\\x85.>\\xf5\\x17:8bn\\xe38\\xd8\\x99\\x03\\x01\\xcf\\x92\\xcc\\x86\\xde\\xe2l\\xab\\'\\xb0\\xcc\\xe8\\xb6\\xf3\\xa3\\xb5bI t\\xceKeT\\xadJ\\xd8N\\x95\\xca3\\xa7=q\\x96\\xa5\\x0e\\xdf\\xafv3\\xad\\xe9\\x1eY$,\\xf4.\\xf5\\xf8:`\\xb4 \\xacI\\xdb\\xc6\\xedA\\x06;\\xd02E\\x93\\'\\xe7\\xba\\x8c-\\x95I\\xa6\\xcd\\x90\\xdd\\xcc\\xd0\\x02\"A,\\xc1\\xe9\\xba\\xc0\\x02\\xf4\\xd1]LE3\\xdd\\xaeF(\\x07-(\\x94\\xa66\\x90j\\x99\\x9e\\xd2B\\xcd\\x95\\xe1\\x85y\\x9d~y\\xff\\x00\\xa3Ad|\\xca\\xd6\\xb38\\xdew\\xd0\\xc7X\\xaeY\\x00\\xd3\\xd7\\xd9\\x84\\xed\\xcc\\xaf6`\\xd2R\\x10\\xa4\\xac25ew\\xa6\\x16\\xa2\\xd3\\xb8\\x88\\xf3\\xa9\\xc2\\xb3\\x06\\x88-v\\xd5\\xd9\\xe3}\\x02\\xbbMYp\\xceW`\\xe5WI 8](\\xc5d8\\xf9\\xc1\\xd9Ak/\\x01\\xd1\\xe5FO\\xba)C\\r\\xd2Eg\\x1c\\xc3\\xe4\\xd0\\xc9f\\x1eX\\xf4%\\x911^\\xe5r\\xe4\\x02\\xcd)u48\\x1f\\xd2fv\\x99\\xb5\\x95\\x12n\\x0c\\xba\\xf2\\xd4\\xc9\\xe4\\xd4\\xca\\xe7Ui\\xc2\\x06\\xae\\xe9\\xcb\\xa5\\xb1\\x9e\\xd2h\\xc9\\x97\\xd2gt\\xb2\\x86C[\\x9d\\xd1\\xb3/\\xa6\\xadr.\\xa1l\\xd9\\xe8\\xcc\\x01<\\xcd\\xbb*%%w\\xd7>\\t\\x8fId&\\xdeQ\\'\\xcb\\xea\\xcc\\xf8^\\xa4\\xc1\\x05@\\xa9\\xe0Fo^<CM\\xe6te\\xd1\\xd4\\x14\\xde\\x8f3\\xb7\\xe8r\\xda\\xee\\xb2\\xaaN\\xfcU\\x90\\xba\\xe6)&\\x15\\xaef\\x8b\\xab[7>[\\xeb\\xca\\xeeUm\\xbd6\\x14\\xd5v\\x9b\\xeb\\xe3\\xafEq\\xa4\\x1f\\x1b(P\\xba\\x051\\x01\\xca\\xd7\\xd1\\x8a\\xabn\\xba\\xec\\xe1xr=Y\\xc3r\\xf5=\\x14\\xc8\\x97]q\\'\\xb1\\xcb\\xd1\\x93\\x99\\xc7\\xe9\\xb9\\xb3\\xc6\\x0c\\xe3\\x9a\\x1c\\x18P<\\x80\\x1b\\x1f9\\xa2\\x9f\\xb5W\\xc7\\xa52\\xf5\\xa1\\xbd(W\\x8ehZN\\xafq(\\xe4\\x95\\xe9\\xd7\\x8e\\xc3D n\\xab=\\xb3\\x1c\\x0cz\\xd5\\x9b\\xff\\xc4\\x00-\\x10\\x00\\x02\\x02\\x02\\x01\\x03\\x02\\x05\\x03\\x05\\x01\\x00\\x00\\x00\\x00\\x00\\x01\\x02\\x00\\x03\\x04\\x11\\x12\\x05\\x13!\\x10\"\\x14#013 2C\\x06$4@A\\x15\\xff\\xda\\x00\\x08\\x01\\x00\\x00\\x01\\x05\\x02\\xf4\\x1e\\x9b\\xff\\x00gS_\\xaf_\\xe8\\xeeo\\xf4%l\\xf11\\x1c\\xca\\xe9\\xd9pD`T\\xea\\x8b\\'n\\x98\\xd4)\\x8c\\xba?^\\xb5\\xe4\\xdc\\x99\\x17{\\x15\\xd7e\\xa7\\xff\\x00*\\xd6\\x03\\x00\\xac\\xc8\\x16!\\xad\\xc0\\x9c\\xb6md\\xe2\\xc3G\\xebc\\xa1I\\xc7\\xbe\\xd8\\xdd9+Z\\xaaD\\x9e%\\xb4Wdn\\x98C=\\n%\\xb4\\xb2Gr\\xd1[\\x7f[\\x15\\x01e\\xdd\\x8d\\xd3\\xf1\\x85\\x15\\x0fS7\\x1fFfVJ_\\x8e\\xd5\\x92\\x7fI\\xfa4{qq+?\\x11\\x16\\t\\xa8cC\\x1ee dd)o\\xdf\\xd7\\x83AK\\x98\\xb8\\xad\\xf4\\x13MF\\x05\\x9c\\xd8~\\xd5\\xe4c\\x07\\x01l;:a\\x18\\x08\\xe2e\\xb6\\x97,{\\xf1hSWf\\xb1\\x16\\xa4\\x8d\\xc1!\\xbe\\xb1\\x0eZ\\xc1\\x87>\\x0e\\x1c@\\x02c,\\x18\\xab>\\x1d\\x04J\\x15\\x9b.\\xbb1\\xed\\xe8\\xd5\\xeeks##\\xb72\\xba\\x9d\\x94>>WxT<_\\x91\\xc2\\xceVY>r\\x0c\\xd7\\xe42_\\xd9\\x8e\\x8e\\xd4\\xf6,\\x98\\xf5\\x94\\x97\\xd3\\xdc\\x9f\\x06\\'\\xc2\\xa4\\xbb \\xabw\\xec\\x86\\xcbHW\\xb4\\x9a9q\\xbdl\\'\\xa4c\\x1e\\x1dO\\rl\\xc4\\xe9@\\x00\\x9eAP\\xb3#\\x1d,8\\xd4\\x00\\xe7\\xf6\\x94\\xe7\\x91o:\\xb1\\xf1\\xfa\\x97)\\x9e}\\xf6\\x9d\\x9cgaR\\x18\\xae\\tw\\x0b\\x1b\\xdf,\\xae\\xc9\\xad\\xdc\\xfc\\x12/\\x16Z\\x80\\xe7e\\xa1\\t\\xbat\\x8b\\x05\\x94\\\\Z\\xc9EK\\\\A\\xe1\\xc4\\x03\\xd2\\xcf\\x15\\xaf\\xe6$\\x99\\x97M|r\\xb7\\xdbOu\\xa1\\xd2\\xa4\\xee\\x9b\\x8dI\\xda\\x99\\x96\\x86\\x95\\xdc\\xeb+\\xcb\\x9f\\xcd\\x9f\\xfbp\\xbf\\x1d_\\xbf\\'\\xf2\\xba\\x8e\\xcf@oz\\xfbkO\\xba\\xb6\\xa5\\xd7\\xe9kb\\xc1\\x1d\\x18\\xde@O\\xe7Q\\xe2\\xcf\\x03\\xa9[\\xe3\\x19y\\xdf\\xf0\\x9b\\x94\\xd2+\\x96\\x00\\xd3\\xb1\\\\Z+\\x86\\xa4Y\\xfc\\xd6\\xa8h8\\xd6\\xb47\\'\\xc9\\xfc\\xaf\\xf8z]\\xa6\\x9bV\\xd4z\\x97\\xec[IO,\\x8b\\x15N\\xaf\\xa4k7.\\xca\\xa5YV\\x13\\x8e\\xfc\\xab\\xb9\\xbcg\\xb7\\'\\xa4\\xf6\\xdf\\x15\\x99\\xe5\\xdb\\xd3\\x0b\\xe7\\xce&\\x85(\\xb9\\x97\\x12\\xdf\\xcf\\x94HP\\xb6Y(\\xf9E\\xbec\\xd8\\xbf.\\x9d\\xd3)\\xb7\\x9em\\x7fg_\\x97h\\xb6\\x9cL<l\\x97W[\\xeb\\x197\\x88x\\x16\\xc5c\\xbc\\xeb\\xb8\\xad\\xc7qQ\\x88\\xa9\\xadY[\\xbc\\x1eC\\x14\\x13\\x9a\\xb0lex\\xab\\xca\\xe6\\x03E\\xd5a\\xa8\\xda\\xe8\\xa2\\xb0\\xd9@8+`\\xc6\\xa0\\x0c\\xfaO\\x9f\\xf8\\xa9\\xf2s0rj\\x95uN\\xa1\\x86\\x07[[\\xa65v\\xdfu\\x18\\xcbU}F\\xcewh\\x99\\x8a\\xf5\\x8a\\xcd\\xf5\\x88\\xd9j#\\xe6\\x13\\x1e\\xd6h\\x1d\\x84\\\\\\x97\\x12\\xab\\xf8\\xb5\\xb9\\x04\\xceD\\x9a\\xb2x\\xad\\xb9\\x05\\xbd*\\xb0\\xa4\\xe8\\xecm\\xcc_\\x16\\xaf\\xa5\\x9a1\\xd7\\xc5\\xd8\\xd5\\xf2\\xc4\\x1bn\\xab\\x95\\xda\\xaa\\xdf\\x13\\x7f@z\\x7f\\xd3+\\xc7.\\xa4q\"\\x7fN\\xa4\\xb8jT\\xdb\\x12\\xd5\\xd9}\\x89hgu\\xd5+\\x95wr\\xcc:C%\\xd4\\xd7\\xc0\\r\\xb3\\xe3q\\xaek\\xd3\\x89\\xf5\\x10\\x8fL_\\xc3r\\xb1\\xb0\\xa3,\\xfe\\x9d\\x1f\\xd9\\xba\\xfbT\\xf1j\\xec\\x04;\\to\\xd9\\xecZ\\x86VWp\\x9fsd\\xd6\\xcbS\\x17\\x13\\rT\\x96\\x03\\x86@NmJ\\xf6*\\x1f7%\\x07c\\x02\\xaeE\\xd3OU*\\xab\\xc6\\xb69\\x88\\x150\\x7f\\x1b\\xba#X\\xaa\\xf5\\xf45\\xe3\\x83\\xaf\\x17,w\"\\x1c\\xf2\\r\\x9dG\\xc6E\\xefi?e:z\\xb2\\x95\\xa5\\x95%\\x88\\x01\\xae\\xfb\\x7f\\xc7\\x1f\\xbc\\xff\\x00\\x8fW\\xe6\\xc9\\xff\\x00\\x1f\\xa7\\xfe\\xcb\\x87\\xf7\\x19>*\\xc5\\'\\xbb\\x9b\\xf8\\xb0\\xbf\\x1eW\\xe5\\xa7\\xf0t\\xf4\\xed\\xe3\\x01,M\\xcc\\xacv\\x97x$,c\\x1aV\\x85\\xcf\\xc3Y\\xbaG\\n\\xaeo\\x9e\\x07r\\x8b\\xa955\\x04=+\\x8c\\x12\\xcc\\x9dvpm\\xe0\\xd9g\\x8d\\xc3V\\xd7]\\x0b[f~,\";y_\\x97\\xa7\\xd7\\xde\\x82,0\\xcc\\xbcz\\xacL\\xbaMNbP\\xc5k~\\xd5\\x9f\\x1a%\\xb9e\\x84\\xab%\\x90_y\\xb6UsW\\x1f%\\xda\\x1b\\x98\\xac\\xb6\\xce\\xe1\\xa4Y\\xaa\\x96\\xc6l\\xd6\\xd2T_\\x96>\\n\\xf1\\xc0\\x03\\xb5\\xa8=\\x0c\\xcd\\xc8\\x95\\xd4\\x0c8u\\t\\x95\\xed\\x8e\\x84\\xb9]}*rx\\x0f\\x8b\\xdc\\xab\\x05\\xee5T\\x95!\\x98V\\xf6\\xed#\\xd0\\x98\\xe65{\\x818\\x8b\\xac\\x97\\xfb\\xda\\xc1\\xee\\x03s\\xb3\\xb8\\xcaW\\xf4\\x08G\\xa5x\\xd7Y(\\xe9\\xbek\\xa6\\xaa\\xe6\\xe1\\xf0\\x0f\\xb8\\x19\\x87\\x99\\xa1\\xad\\x82<k\\xce\\xa6Cj[\\xf6\\xb5\\xa5u\\x938\\xb6\\xc2\\x905\\xb8q\\xc1\\x8fK\\x8fA\\xf6\\x10\\xcf\\'\\xd3\\xfek\\xc9\\xf4#r\\xf6\\xe2Nn@\\x9d;\\xae\\xd4q\\xe8\\xeax\\xf6WoS\\xdc\\xb3!\\xac<I%\\x14M\\xecO3S\\x8c\\xd7\\x97\\xad^Y\\x8aD\\xd6\\x8c\\xff\\xc4\\x00\\'\\x11\\x00\\x02\\x02\\x01\\x03\\x03\\x03\\x05\\x01\\x00\\x00\\x00\\x00\\x00\\x00\\x00\\x00\\x01\\x02\\x11\\x03\\x12!1\\x10\\x13A\\x04 Q\"#02Ba\\xff\\xda\\x00\\x08\\x01\\x02\\x11\\x01?\\x01\\x1fZ\\xfcTWLXu\\xeeC\\x04Q\\xdblx\\xa3{\\xa3\\'\\xa7O\\x8f\\xc1\\x18\\xeatb\\xc7J\\x8a\\xad\\x8a4\\x99!Fu\\xbd\\xfb\\xfd7\\xecc\\x1b.\\x84\\xc9pf\\x85\\xf0vY\\xdaK\\x96i\\xc7\\xf2}\\xb5\\xb1p\\xf8)%tb\\xc2\\xb4j\\xf2ETGo\\xf5\\x1f\\xc0\\xe5C\\x95\\xc6\\xd1\\x93r0KrP\\x8b6_\\xc9\\xc2l[\\xd3-\\xdb0\\xce\\xe0\\x98\\xf8\\xd8Qu\\xb9\\xe4\\xa3*\\xa4OR\\xe0Q|\\xb3\\xb76\\xec\\xfa\\x97,\\xbd\\x98\\xa7l^L\\x19T*,\\xb1\\xbf\\x96E\\xda\\xd9\\x91\\xff\\x00L\\xef\\xc1\\x97%N\\x86\\xb5\\x91\\x86\\x92X\\xe4\\xdd\\x8b,R;\\x8aN\\xa4K7\\x88\\x98\\xa6\\xa74\\x86l\\xf6\\x91\\xd8\\xad\\xd383\\xfa\\x85\\x16w\\x98\\xf2I\\xf4\\xd6\\xfa\\xca\\x1b&zH\\xfd\\xde\\x88\\xf0Nfio\\xc1\\x8f\\x1e\\xa5b\\x83vF6\\xac\\x8e-J\\xc8E+f\\xd2\\x8b\\x1c\\xb4\\xc1\\x1e\\x9d\\\\\\xb5\\t\\xef\\xd2M\\xb3+\\xd3\\x16\\xc87-\\xa4b\\xf2\\x8c\\\\\\xb4F.1vb\\x92\\xd2)\\xee\\x7f,W5H\\xc3\\x1d1\\x1a\"8Y\\xeac\\xf4\\xd2%9\\xf0\\xc4\\xeb\\x82\\xfc\\x96\\xdfH\\xc6^\\x0e\\xdd\\xfe\\xdd!:\\xd8N\\xce\\x0b\\xa3,\\xf5\\x12\\x8a\\x97$\\xb0?\\x06\\xeb\\x9fz\\x93GrLm\\xbe}\\x9c\\x99\\xf1\\xa8\\xee\\xba\\x7f\\xff\\xc4\\x00(\\x11\\x00\\x02\\x02\\x01\\x03\\x04\\x01\\x04\\x03\\x01\\x00\\x00\\x00\\x00\\x00\\x00\\x00\\x01\\x02\\x11\\x03\\x12!1\\x04\\x10\\x13A \"2BQ#@Ra\\xff\\xda\\x00\\x08\\x01\\x01\\x11\\x01?\\x01\\xfe\\x8e|\\xfe-\\x91>\\xa2r\\xf6)P\\xb2\\xce\\xb6f.\\xa6Ki\\t\\xdf\\xcerPV\\xcc\\x93\\xd6\\xf5\\x0b\\xbc%|\\x9d;\\xda\\xbe}_\\xd81&P\\xd0\\xb90\\xe4\\xd2y\\x91\\xe5o\\x84j\\xc8\\\\\\xd9\\xf5~\\xc4\\xdd\\xd5\\x99f\\xf5Qv\\xc4\\xff\\x00g\\x02V(nc\\xdb\\x82RlR\\x927~\\xceZCUe%FX\\xd4\\x9a\\x10\\xff\\x00\\xe7d\\xc8;d+\\xd8\\xe4\\xb8B\\x9cR\\xa3\\xe9en\\x87\\nC\\xf4f\\xc7\\xabu\\xd9*\\x1d\\x121/d!p\\x13\\xd0JZ\\x88\\xe4\\x8aC\\xc6\\xdb48\\xf0G\\x17\\xfa2A\\xc2-\\xf6Lm>G\\xb9\\x8b\\x03\\x92<\\x08X\\xa2iG\\x8e=\\xe3;t\\xce\\xa9\\xff\\x00\\x1fv\\xccp1F\\xd7&L\\x94\\xe8\\xf2Q)\\xd3\\xa2Y\\x94]\\x12\\x93t\\x8aq\\x92\\x14nl\\xce\\xea:J\\xed\\x13\\x12\\xb7D\\xd2\\x8e\\xf12zf]\\xe9\\xa2R\\xd5%FH\\xbdD\\xa1\\xb1\\xf9\\x0e\\xb1\\xbbfY\\xb9\\xc8C\\x14\\x8c\\x13\\xa7l\\x8c \\xf7CI\\x9aUQ\\xa5v\\xc9({\\x1eZ\\xfbNIF\\xf7+\\xbc#\\\\\\x91\\x9b\\x8f\\x04z\\x95\\xf9\\nJ\\\\|\\xf4\\xa6hEW\\xc1m\\xc1\\x83+\\x96\\xcf\\xb7\\xff\\xc4\\x002\\x10\\x00\\x01\\x03\\x02\\x05\\x02\\x04\\x04\\x06\\x03\\x01\\x00\\x00\\x00\\x00\\x00\\x01\\x00\\x02\\x11\\x10!\\x03\\x12 1A\"Q02q\\x81\\x04\\x13a\\x91#@Br\\xa1\\xc1\\x14Pb\\xd1\\xff\\xda\\x00\\x08\\x01\\x00\\x00\\x06?\\x02\\xff\\x00w\\xd2\\n\\xbc\\x05\\xd2\\x01\\x03\\x92\\xbc\\xe0z\\x053\\x9b\\xddu\\x07a\\x9fEi]\\x0b\\x9f\\xc8B\\xe9\\x19B\\xde\\xdc\\xa8\\xc3l7\\x80\\xba\\x9dt!F\\xea\\xff\\x00b\\xac\\x14s\\xf9\\x00O(5\\xb2P\\xcfw+\\n\\x19\\xfe\\x11\\x82\\\\\\xdfU\\x18\\xed\\r\\xfa\\xf7D\\xe1\\tf\\xeb\\xb2\\x83\\xe3fv\\xc1f*O\\x9d\\xdf\\xc6\\xab\\xa3\\xf2\\xc2\\x98B<f\\x9e\\xe50;o\\x04\\xca#F\\xcbo\\x06\\x01\\xf2\\xac\\xc7\\x82\\xa4\\xab)]WV\\xd2\\xd3\\xec\\xa5\\xd0\\xb8VW\\xa5\\xb5\\xe5h\\x92\\x8b^2\\xcao\\xdd}\\x10kVR/\\xfb\\x95\\xc4:\\x91\\xca\\x90\\xa5\\xc08)\\x14ii^e}\\x10\\x17\\x95l\\xac\\xae\\xbaS\\xdd\\x89r\\xee\\x94\\xd0\\xe19v(\\xc7\\x14\\xf2\\x02\\xa4\\xfc=\\xfb\\xa9\\xc9G\\x9d\\xdc\\xbec\\xed\\x1c\\x13\\xff\\x00\\x8b\\xad\\xb0\\x11\\xfa\\xd1\\xad\\n\\xf4\\xba\\xb2\\xb1W\\xa5\\xb4z\\x14\\x1a\\xc0\\x0b9\\x94\\xe6\\xb3\\xbc\\xe9*U\\xfa\\x87\\xd5t\\xe1\\x16\\xbb\\xe8\\x16b\"\\xc9\\xa3\\xba\\n\\x1a\\xa5\\xc5Z\\x97\\xd2)\\x88\\xde\\x08\\xa1\\xac\\xae\\x97\\x0b\"\\x89\\x1e^k\\x07d\\x15\\xe9\\xba\\xe2\\x97\\xa5\\xea)\\x9c,\\xcd6\\xa4\\x95\\x99\\xdb\\r\\x853@\\xcf\\xdc,\\xa5\\xa4(\\x8d\\xeaW\\xa2\\xba\\xb5e\\xca\\x05-K\\xd2\\x15\\xd6\\x0bA1\\x9cP\\x84\\xd7`q\\xba\\xcf\\x8d\\x8c\\x01<\\x04vx\\x08\\xb7\\x1f\\x0e\\x08\\xee\\x14\\xb6\\x86\\x93\\n\\xc1]^\\x9b\\xa9R\\xae\\xac\\xa6\\x91L(\\xef5\\xca\\x9e>\\x1b\\x1d\\xed\\xc1?\\xa2P\\xc3\\xc4\\x1f0o\\xd6?\\xb5\\x97\\xe2pCZo;\\xa2p\\xac\\xce\\xe5ID\\r\\x85!p\\xac\\xac\\xaeV\\xf4*\\xca\\xfa\\\\O\\xe9f\\x8b\\xa2\"Gcu\\'\\t\\xbfd\\x16F\\xee\\xb2\\xf3\\xb9\\xf1eE1\\xdf\\xe8\\x14\\x8d\\x17\\\\\\xab\\xee\\x8e!\\xf6G\\x11\\xfc\\xec\\xac\\xa1N\\x8d\\xb5\\x98\\n\\xe18\\xf7}#\\x8d\\x04\\x9d\\xd1\\x03\\xdd\\x00\\x83p\\xf8P\\xe9W\\xde\\x83.\\x89+*\\x93\\xa2\\xeaP\\xfd\\xc6\\xb2\\xd3u\\x0ej\\xe9[\\xd0\\x15\\x05YF\\x81P\\xad\\xa9\\x8d\\xf7\\xac\\x85\\x0f\\xb6\\x8bS\\xaa\\x91HY\\xa9\\x05\\x03\\xa9\\xac\\xe0\\xdc\\xfai9\\x82\\xb7\\x96\\x92\\xeb\\n\\xc0\\xd1jEzWR\\x85\\x95\\x92IY\\xbe\"\\xef\\xed\\xd9:\\x00\\xdfNVn\\xae3z\\xac\\xcdh\\x05]f\\x1e\\x1c\\x15\\r\\x12Vo\\x889\\x7f\\xe7\\x95\\x18m\\x84\\x14\\x1f+\\xbc(V\\xb2\\xb8\\xd7\\xd1\\x86\\xe5\\xf8\\xee\\xf6\\x0b\\xf0\\xda\\x06\\x90\\xccm\\xb8*E\\xf4@[\\xa2\\x1a\\xa4\\xa9\\x14\\xb8\\xb2\\xe9\\x90\\xbc\\xbfm=\\xe9\\xb6\\x8b\"\\xd0r\\x86\\x8c\\xcetl\\xbaq\\xb1\\x04v)\\xdf\\xe7;.#y\\x03\\xcc\\x8b\\xc0}\\x8a?-\\xad\\xf7+\\x7f\\xb2\\x92i\\xfdWj\\xf5\\x00W\\xe1\\xdf\\xe8\\xafO\\xff\\xc4\\x00\\'\\x10\\x01\\x00\\x02\\x02\\x01\\x04\\x02\\x03\\x01\\x00\\x03\\x01\\x00\\x00\\x00\\x00\\x01\\x00\\x11!1A\\x10Qaq\\x81\\xa1 \\x91\\xb10@\\xd1\\xf0\\xc1\\xff\\xda\\x00\\x08\\x01\\x00\\x00\\x01?!zo\\x18\\xc5\\xc3Pi\\x8e\\xa0\\xd3\\x16\\xe5\\xff\\x00\\xc0\\'\\x1dA\\xa8\\xcb\\xea\\x12\\xdd\\x9f\\xf5#\\tq\\x87\\xf0%\\x95\\xe6\\xa3:\\xa6\\xd7\\x88=\\xf85\\xc7\\xcd\\x9d\\x10\\xc7\\xac\\xb4\\x86\"\\xfa\\xc8c\\xa8|\\xdc\\xb0\\xebH\\xf6\\x8bEZ?\\x99\\x1e\\x97\\xf8\\xd7\\xf0\\xda\\xf6!G\\x83\\xa3\\xbc\\xb5N\\x9bS\\x08/\\xcc\\xf9\\x8d\\xc5\\x0by\\xcc\\x1fEc\\xd3+7\\x0enZ\\x8e\\xabA\\x89\\xda\\x9c\\xdf\\x11\\x05\\xa0\\x8aj`?\\xde\\xa6\\xd3\\x9ex\"\\xef#\\x83\\xcc\\xa2\\x83o\\xc7\\xa9\\x8d\\xc5\\r\\xf10j/*\\xa3j\\xa6\\xc3\\n\\x97\\xd5\\x8d\\rB5\\x07.\\'\\x1ax\\x12\\x87\\xeb\\x8fJ\\x95\\xd2\\xbf\\xc2\\x8a\\xdf\\x1dm\\x96\\xfd\\x88\\x00\\xec\\xb3\\xe1\\xdb\\xa3\\xd4\\x08#IC\\x0b%h\\x0b\\xba\\xe65T/$\\xcbFy\\xfc\\x0e\\x83\\xfc\\x05\\x80\\x02\\xaf\\x99\\xee\\x05\\x97\\x8e\\x81s\\xba\\x1e\\xd11\\xe6i\\xe2\\x11k;m\\xc9\\x0c.T\\x05\\xe2\\t\\xa5\\xd0\\t\\xfc\\xc1\\x88$\\xe5;\\xbe\\xa1\\xea,0bli(\\xc4\\xf5\\x07L\\x12\\x93!\\xe6b\\xd1\\xa8\\x86bf2\\x0f\\x0e\\xf2\\x7f\\x90V\\xe2\\xc3z\\x1b\\xc2\\x1di\\xa5\\xa8h\\xf6@s\\xd1\\x8es;2r\\xaa\\x1f\\xb5\\xe8#K\\xab\\\\$\\x1c\\xdc\\xdb\\x98\\xb3\\xa4\\xb6\\xaa}]\\xbd\\x82^\\xbe\\x86M\\xe7\\xc5A;;\\x11\\xd7p\\xde\\x06\\xf2Eo`/0O\\x059%\\x95\\x94H\\x12[\\xb5\\n\\xcdzC\\x95\\xfb\\x81v\\x95qY~\\x97V`\\xf730D-b\\x9e\\x03s\\xb8\\x01\\xf6\\x13\\x85\\xa0!\\x16\\xef2\\xdbbh\\xdb\\xaa@N\\x94U\\xb1\\xe7Z\\x88(\\xd9\\x82]0\\xa8Y\\xc7\\xc6\\x91w\\x17Y\\xb1\\x99CBS\\x06s\\r\\\\\\x04@\\xb9\\xa5\\x11H\\xc1\\x9c\\x1c\\xab\\x85(d%\\xb5\\t\\xc4JTZ\\xba\\x9b\\x86\\\\|^bf\\x97\\xe2\\x8c\\x02\\x86T\\xd3\\xa5\\xe5\\x94w\\x99\\xaf\\x11\\xe5\\xe4\\xcb0\\t\\xc7){\\xcc\\x08\\x15d\\x80S\\x0b\\x88\\xe1\\x061a\\x05tDPc^|O*K\\xa8,?\\xbe\\x8d\\xb6\\xed\\xd17\\x7fx\\x1bT\\xf7#\\xf71\\x04\\xf9#\\xcc\\xf7\\x94\\xa0\\xb5\\xa1,Q\\x0f1\\xb0\\x97b\\xf5\\x04,b\\xb6\\x06XLa1\\r\\x98\\x9d\\xe5\\x94\\xa9z\\x08\\x87\\x95\\xfc\\xc3\\xfbAj\\x93\\xbc\\xc25S\\x82G\\xfb\\xe9\\r*B\\xc3\\x0f\\xed\\xe8\\x90\\x1b\\xa5\\x13\\xb9\\r\\x05]\\x1b>(\\x11\\x99\\xa2\\x0e\\x17\\x14\\x89\\r`a\\xaa\\x05\\xc4\\xad\\x9d\\xac\\xb0\\x07\\xb9\\xdeWw\\x18\\xd4\\x00^\\xda\\x88)\\xbc\\xa1\\x03\\xd1\\xe0w\\x02\\xaeIa%\\xcb\\x8b7\\x1d\\xea\\x17\\x96\\x89Z\\xdc\\xa9\\xa4V\\xa9q\\xe1q\\x0c\\x8a\\xc0hfJ]2*\\x08\\xb1[f\\xc6\\xa0\\x1b\\x8f\\xe3\\x82\\xc6\\xd8\\x1a8#q> \\x88\\xb8H\\xd7%a\\xe5n\\x01\\t\\\\@\\xe9j.\\xab8\\x82#\\x9a\\x98\\x08y\\xc1^\\x90p\\x91\\xea\\x90\\xc5\\xb1-\\xee\\xe6p\\x9cZ0p_\\xa12\\x0ec\\x95\\x039\\xc4S\"\\xa5\\xc0f\\xeaT/\\xc2\\xe5\\x86\\x16%\\x87\\x86&Z\\xd7\\xc1/\\x1a\\xa1\\xb6{*\\xb0&\\xc3\\xdc\\x14\\xf3]\\xfa\\x13\\x86MF\\'\\x92k\\x14\\xdc\\xe6\\\\\\x19o\\xa92\\x8a\\xe6\\r\\x98s\\x04s\\x12\\xc3\\x89\\xa1\\x04\\x7fi\\x16(\\xe0\\xd2\\xcc\\xea\\x1e\\x99\\xc8\\x0f\\x00>\\xe7\\xb8\\xb8\\xd4\\x00\\xd0\\x18\\x9d\\xe1\\xe0\\x8a\\xb9[m\\xf3\\x15Y\\x97\\xf9\\xeb\\t\\xa8\\xd3\\xa4\\x17\\x8b\\xa2\\xff\\x00\\xfd<\\xcf(3\\x04\\x98\\xee$\\x02E{C\\x11e\\x0c3\\xe2.I\\xc4\\xf2\\xf2\\xabK\\x06\\x970\\xae\\xf3\\xe1s\\x99n\\xd0\\xdcC*\\x80\\xad\\x12\\xa5\\xae%\\xeaR\\x19#\\xfaK\\xd8\\x9b\\x80\\x94\\xf7\\xc7\\xf0\\x97)}\\xc92\\x87$\\xa9\\x00^\\xcc\\xf4\\x89\\xb2l^Q\\xa4s\\x82kX\\xd4\\xfe\\x90\\x97Hb\\x9dC\\x17&dj\\x12\\x07W\\x07`\\xe2\\x04\\'\\xe9\\xb6\\x9c\\x1c\\xc2fF\\xfbM%\\x98\\xec\\x12\\x87\\xdd~\\xe6QM\\xe33V\\x07\\x1d\\xe5\\x88\\x12\\xecM\\xf9\\x8amWi\\x84x\\xe9\\xb8?\\xf5\\x8e\\x91\\x00\\x17\\x98\\xdc\\x8d\\xd4j/\\xbc\\xca~\\xd4\\x1fI\\xbf\\xa0\\xb7\\xd2\\x94\\x99\\x99|g\\xf3\\x8d\\x95o\\xd4\\xcb\\xd7\\x8b>\\xf31L\\xb8\\xe1\\xcb\\xea\\x0bl^gyp8\\x8aPb\\xac#\\xfa\\x90\\x9b\\x9a\\xb8@;K\\xc3\\xab\\x80\\xed\\xc4\\xb6\"\\xb2\\x9e!\\xc2\\xf6\\x94\\xad/\\x89a\\x95~\\x10\\xd4Y\\x93\\xa8\\xc2\\xa6\\x8b+PkG\\xa8\\xb12%4\\xeeT\\xc5\\xf7\\xa8\\xab~\\x11,\\xf4\\x8e\\xbd\\xb0\\xd6\\xb8\\x85:\\xe9\\xa5m\\xb9R\\xd96\\x93\\x08\\xb1\\x04\\xddK\\xe5\\xc4\\x1al\\x89k\\x03}%\\xb7X\\x19Q\\x00x\"\\x0b5\\xb3W\\x1f\\xf6\\x87\";Wj\\xc4z\\x17\\x18o2\\xc1\\xbe\\xd8\\xba\\xd4\\xfd\\xcc\\x8b\\xdfE\\xcb\\xaa\\xdab\\x81\\xff\\x00\\xd8\\x80Z\\xf8\\xfc\\x82W\\\\I\\x1d\\xadt\\x04\\xb1\\x13\\xc0\\xdb\\xfe\\xa5X\\x1eWo\\xcc\\xe6\\xc9\\xcc\\x0cY\\x81\\xf1\\xd9\\xe88f\\th\\xc6Z-\\x85\"\\n%\\xdeQS\\'\\x88\\xe0c\\x9e*5]!\\nbTN\\x87\\x1dM\\xfa;\\xa5\\x1fs\\t\\x13\\xff\\x00{\\x95>\\xdc&\\x95\\x1eB\\xbb\\xcf\\x99\\xc4\\x17\\xce|\\xcb\\xa0\\xba\\xed\\xa8\\xd2p:N\\x9f.\\x8b\\x8eF0\\xcb\\xe4\\xc0\\xfa\\x1ec\\xc9`\\xca\\xc1(52\\x8b\\x98*\\xee\\xc6\\x7fh\\xeam\\xdb\\xe7(\\x94\\xd3\\xd0W\\x0c\\xc1\\xb8\\xe2\\xa0v#\\x82\\xf8\\xe6\\x0e\\xdf\\xb2i\\x05\\xf9\\x84\\xbb\\xeb\\xf7\\x17$h\\xb3\\xd8\\x1ee%*\\xb0\\xa7\\xf9\\t\\xc6\\x88YO\\xa3\\x98=\\xa5\\x14\\x85\\xbfp@7\\x9b\\xbe\\xa5\\x9bwt\\xa9q\\xfb\\\\\\xcc\\x8a]\\xf1\\xccUiA\\xa8\\x1f!\\xde9d\\xdc\\xad]\\xd9\\xf2\\xfdK^\\xb5?q\\x90\\x05_\\xd6^\\x81Of9\\x9f\\xff\\xda\\x00\\x0c\\x03\\x00\\x00\\x01\\x11\\x02\\x11\\x00\\x00\\x10*\\xb2\\xef\\x9bR\\x89\\x03O<\\x88\\xa5\\x93\\xf3M\\xff\\x00\\xe4\\xf4|\\xd0\\xc7\\xbc\\xc2)s*\\x92\\xdd\\x87\\xc4>\\xe0IS\\xa4\\xbf\\xfe\\xe5bZ\\xc8i\\xb91\\x97\\xe0\\x7f\\xdfM\\x90|\\x8f\\xf1\\xf7f\\x7f\\x01L\\xa2\\xac\\x15\\xc7\\x86Pz\\xc30\\xf9\\x8f4\\xc3.\\x06\\x8d\\x7f\\xd7\\xdfd3)\\xd8CZ\\xa14\\x96>\\x8c\\x0fZ\\x9f\\x113e7\\x93\\xcf\\x0f\\xe5\\x0b\\xe8k\\x97jG\\xf5H\\xf1J\\xa4\\xe6\\xa8YVI\\xb5\\x82\\xc5\\x16\\x96\\xd08F\\x1c\\xa7Is[\\xff\\xc4\\x00 \\x11\\x01\\x01\\x01\\x01\\x01\\x01\\x00\\x02\\x03\\x01\\x01\\x00\\x00\\x00\\x00\\x00\\x01\\x00\\x11!1A\\x10 Qaq\\x810\\xff\\xda\\x00\\x08\\x01\\x02\\x11\\x01?\\x10\\x1b\\xdd\\xa1\\x04b\\xc2\\xc7\\xff\\x00\\x07V?\\r\\xb4\\xe1=\\xc3g\\xe4\\x92\\xb0\\xba\\\\\\xc8\\x8e?\\xbb\\x11\\x80\\x0f\\x85\\x81\\x8b\\x03\\x01<\\x97\\xa2\\xc0\\x8b\\x7f\\x1b\\xfa\\x1e\\x9f\\xea\\x1c\\xd8\\xbc\\xdbK\\xb0YT\\xbc\\xfcC\\xfa\\xcd\\x0c}\\x88\\x9cX<\\x8ej`\\xf9_$\\x08\\x90`\\xff\\x00m\\xbcX\\x95\\xf9\\x1e\\x87&,d\\xf1\\xec\\x8e\\xa6\\xb26M3\\'\\x88\\xd8\\x0f\\x90*k\\xe4^?\\x0b\\x03\\x82\\x0b\\xb0\\xbaX\\x04\\xfb\\x18\\xfaOE\\xd89\\x04\\x01\\x19\\x03\\x98GTB},\\x01\\xc6<\\xdc\\xa4\\xf4\"\\xeeB\\xc2\\x00\\x8f\\x02>\\x85\"[\\xba\\xc9\\xa3-\\xf6\\xf8\\x81!\\xfc\\x12(\\xee\\xcb\\xec\\t\\x87!\\xe8\\xff\\x00\\xf6\\xff\\x00Rq\\xebo\\xe8_RUv\\x07\\x83?\\xcc\\xbfb\\t\\xf6\\xe4_\\x83zd\\xd2\\x12|\\x88v?\\xf5\\x02\\xa9\\x00|\\x95\\x87\\xc9\\xba2U\\xbeZ\\x96H\\x82\\xf3\\x7f!1jt\\x84\\xcf\\xc4\\x02\\xa1|QD\\xfb\\x9f\\x8c\\t\"\\xd9>h\\xca\\x0c\\x18@\\xa5\\xe4f\\x1d[\\xa4\\x19W\\x19\\xff\\x00\\x91\\x03\\xb4\\x8bT\\xbd\\xeb\\xb3\\xec\\x7f\\rt\\xc2Z\\xf6\\x00\\xe1{\\x10A\"F\\xac\\x0b\\x0b\\x8c\"\\xf7\\xb98\\x0c\\xbb\\xbb\\x0e\\xfe\\xbdBI\\xbbz\\xad\\xfd\\x10\\xe1\\xbf\\xb3ao\\xff\\xc4\\x00!\\x11\\x01\\x01\\x01\\x00\\x03\\x00\\x03\\x00\\x02\\x03\\x00\\x00\\x00\\x00\\x00\\x00\\x01\\x00\\x11!1A\\x10 Q0aq\\x81\\x91\\xff\\xda\\x00\\x08\\x01\\x01\\x11\\x01?\\x10\\xfbi\\xfcg\\x80\\xd6\\xefq\\xfe.\\xd6\\xdd\\x93\\xff\\x00e\\xfb \\x1a}\\xdc\\xf5\\x13*\\xed\\x87\\xb3\\xad\\xb9\\x142\\xff\\x00\\x13\\xf5\\xd9\\xb8\\x0f\\xd8c\\x8c\\x8e\\x8b\\x99\\xc4\\xb6\\xe6\\x8d}\\x92\\xf3\\xe1Zy\\x02\\xdd\\x81\\x9c\\xc4\\xe947\\xa1rb\\xee.5\\xb8\\x19e\\x98*\\r\\x91\\x99\\xb8B\\x1br\\xcd\\x03l\\x9a\\xf6\\xc9:\\x89\\xbc\\xc8\\x18\\xeal\\xa1\\x93\\x88A\\xf6\\xb4x\\\\1=\\xc0\\xca@\\xb49\\xd6X\\x06V\\xf9\\x16q\\xc5\\x83r\\x1a\\xd4\\xb1\\xd8\\\\\\xedd^\\xd98`\\xce88\\x8b\\x10I6\\xf3my\\xed\\x11\\x9e2\\x0b#\\x8b\\x82\\x13\\x1e\\x04]:\\xbf\\xb67\\x91\\x86Jr\\x9f,\\xbe\\x16O=K\\xaea;\\x93\\xa2\\xf4e\\x04\\xff\\x00ILH\\xc2\\x9d\\xc2_\\xaf\\x88\\x01\\xfd$\\x16\\xd9\\xc6\\xef\\x1e\\xcf\\x08\\xef\\x98\\x1b\\xb0\\x1a\\x96\\x12\\xf7H\\x1d(\\xe0\\xdcB\\xe1\\xf3\\x89\\x02\\x9dvmn\\xe4\\x0b\\xd1.,{\\t\\xc4\\x1e$Afc\\x1dG\\x10}\\x16\\x10\\x8cpp9j\\xb5m\\xd8\\xb4H\\xd8\\xae\\x13\\xf2\\x89\\xeb\\x9b\\xc7\\x08\\x8d[\\xf6$\\x1c\\xc5\\x83\\xa1\\xf1\\x93%o\\xc2\\xd2\\xff\\xc4\\x00\\'\\x10\\x01\\x00\\x02\\x02\\x02\\x02\\x01\\x04\\x03\\x01\\x01\\x01\\x00\\x00\\x00\\x00\\x01\\x00\\x11!1AQaq\\x81\\x10\\x91\\xa1\\xd1 \\xb1\\xc1\\xf0\\xe1\\xf1\\xff\\xda\\x00\\x08\\x01\\x00\\x00\\x01?\\x10\\x1fE\\x08\\x0b\\x9d1K3\\xcel#>\\xa0\\xd6\\xfeU+\\xf9\\xec\\xfao\\x12\\xe4k*\\x19\\x81\\x84v\\xcb}Q\\xf7\\xd4\\xbd\\xa1\\x9e\\x82\\xe54\\xb5\\x83\\x0b+\\xf8?\\xcfI\\xb4\\xdf0\\x01)\\xd4Fo\\xeb^7\\xa2H\\x94YE8z\\x892\\x8d,>.X\\xcc\\x14 \\xbe\\xaa\\x11BE\\x83_&s\\xe2\\x15h\\xd6W\\xdc2\\x7fR\\x88eek\\xfc\\x15\\x1b\\x02\\x166\\xef\\xe6&\\xc6n\\xca\\x9bc\\xf9W\\xd4\\x18\\xa7\\xe9_T\\xd7\\x7f\\xb41\\xb9\\xc6\\x83\\x85\\xe6S,yl\\xb9\\xc1\\xe5\\x96\\xe0\\xbaK\\xae\\x07\\xb7q\\xf0\\x01V\\xb2\\xfcL\\xae\\xb5\\x08h\\xf8\\xc6\\xa5\\xab\\xac\\x93a\\xf1\\xfb\\x80\\xd7\\xf9\\x1aj\\xea\\xf8\\xf9\\x97\\xd8\\x0b\\x03Iy\\xb5\\x03\\x16\\xf7\\xfa\\x97`\\xd7#c\\xe4\\x8f\\xf2%\\xff\\x00\\n\\x954J\\x0e\\xff\\x00,/\\x8d\\xc1\\xfd>\\xc5\\xff\\x00\\xdf\\x070\\x02\\x88[\\x93\\xc7\\xf6\\x98pB\\xc0\\x89\\xe6\\x06\\x15\\xf3[\\x97\\x96\\xf1\\xb9\\xfd\\xb2M\\xa9\\xe7P\\xd1\\x9e\\x1f\\xf6T2`,\\x1d\\x7f\\xec\\xc3\\x01\\xbat\\\\vV\\xcc\\xaa\\x94\\x1c*}\\x0bB+\\xb9\\x97\\xf0?\\x824\\xd7mc\\x83\\xf74@U\\xd6~\\x0e\\xa6M\\x8a\\xdc\\xd9\\xc3\\xfd\\x8e\\xdf\\x99\\x97\\x94F\\xc6P7\\xd6\\xa5KX\\xd4\\x1f\\x98\\xb9i\\x9e\\x03\\x0f\\x9cq9\\x15`; \\xa4\\x97T\\x11 w3S70u\\x07\\xf0>\\xa1l\\xb7\\x84\\x87t6\\xff\\x00D\\xa2\\xb9`0-\\x95\\xef\\x99\\x98\\xe3\\x18!*\\xcc\\xce\\x81\\x12]\\x92\\xb12Z\\xba)\\x88\\\\D\\x16]\\xcc\\xe8\\x85\\xb7\\x06AeW1\\x1bk\\xb3\\xc9\\xc4t\\x0c\\x8eb\\xab\\x13\\\\\\x9f\\x89\\xfej\\x9a\\xf6{\\x81\\xe7\\x1e\\xbe\\x95*\\x1f@\\xf0\\xfd\\xa5\\x8eK\\xe6\\xa1\\n4k\\x8a\\xce1\\xe8\\x82y\\x938(P\\x1e\\xd6W\\x83e\\rb\\x1a\\x96\\xd5\\xcc0\\xcd\\xdbP\\xb0d\\xcd\\xbcEq\\xe1\\x1d?0\\xaa\\x16\\x8b\\xb42\\x9a\\x0c\\x7fs\\x10\\xe7\\x1e\\xa2l\\xd4#.\\x936\\xf12\\xf8a\\xe0\\xb9\\xfa\\x02/\\x82\\xf4M\\x08{\\x9e\\t\\x82\\xb8|\\x11yc\\x96b\\x06\\xb4w\\x1a\\x95\\xf9g\\x05g\\x14~ \\x8b\\xb5Ku\\xdfG\\x98A\\xeb3\\x10j\\x93\\x0ce\\xe4j\\xeb\\x1a\\x08\\x1b\\xc5\\r\\xd3\\xcb\\xc4w\\x14\\xc2\\x97\\xa6\\xbb\\x1etLY\\x0b\\x0cH\\xb0\\xae_\\x18/q\\x86\\x97k\\xc5\\xf9\\xae\\xe2Cpm\\x8b\\xfbl\\x9b\\x95\\xc2.\\xad\\xa8_\\x01u\\xfcR\\xcb\\x95O\\xb1\\x86\\xabv\\xa7\\xbdL\\x84\\x9e\\x7f\\x9e\\x90F\\x13\\xb9^\\xad\\xab\\xe1\\x82\\xe2\\xf7\\x1bg\\xee\\x9e\\x83\\x87\\xd1\\x95\\x19\\x05r\\xc6\\x14\\xcf\\x9cD\\xbc,\\xcd\\x0f.\\'\\x1aWXM=\\xa9\\xf6\\x97N+\\xe26\\xcb\\xdb\\xadJdRS\\x95.\\x1b\\x9b\\'\\x1a\\xa8\\xc8\\x17\\xb5\\x82\\xbe\\xee\\x07\\xb0\\xb6\\x81D\\xd2#\\x176\\xf0\\xa2\\xba\\xa8\\xa6\\xb0\\x12Y\\xd35\\xdb\\\\\\x16\\xd4\\xb5\\xb8\\x02\\xa8\\x9bt\\n\\xf2\\xc1Cb\\x84\\x0ew\\x91\\x80 ty\\x1d2\\xd5So\\x11\\x07\\x85\\n74\\xdf\\xdc\\xbb#+j\\x88\\x0bO\\xef,\\x97\\x0f9\\x97\\xd93\\x1d\\xaa\\x81\\xccHiL\"\\x1d\\xc3\\x15\\x0c\\xd4\\x16=v\\xcb\\xb1J\\x17\\x80\\x03\\xf8`\\x11\\x95\\xf6t\\xa3\\xcc\\xb5a\\xab\\xe1\\xfdL#\\xe5\\x8b\\x81.%S\\x87]C\\xafG\\x071\\x01^4\\x08\\xe5&\\x9c\\xda\\xe6\\x0c>\\xd3\\xb4{\\x8f\\xdb\\x0c\\xa8\\'\\xacT\\x14V\\xbb\\x8a?\\xec\\xca\\xf3e\\xb6+\\xcc\\x06`\\x0bw\\x89~\\xb4\\xc5\\xc5H]\\xe6p\\x10\\xf2\\x8a\\x94\\xbd\\x0c\\xdb\\x176\\\\\\xc2\\r\\xd2\\xf8\\x8dl\\x85\\xf9@\\x06\\x9c!\\x8an\\xa5\\x8eR\\xc08\\xaa_\\xe6 \\r6\\xe4\\x94\\xe3-?\\x99h\\x89LT4\\xcd\\xb2\\xfe.Cd\\xf5\\x1e\\x1aQ\\x0b^N\"\\xa7\\x13\\x86b\\xb9\\'B\\xf2C\\xca\\xab\\x86bvxy\\x9c\\x00\\x05\\xaa\\xa2\\xaaP\\x85\\xe7\\x83\\xff\\x00bZ]E\\x88\\x08\\xb2\\x03\\xe6R\\xdb\\x1e\\xd9\\xa5\\xbf\\x89\\xaf\\x0f\\x88\\xaaC\\x85j\\xb3p\\xaf\\x89\\x14*\\xc1cXF\\xbb\\xea\\tk\\xc2\\xec\\xd9\\x0e\\xf5\\xde6=x\\x9b\\x93\\x98I\\x90\\x17G3A\\xe8Z3\\xb7\\xb6\\x18\\x06\\x939\\x99V8\\xac\\xf0\\xf6K&Q-\\x89\\xee H@]U\\xeed5!\\xac \\xa0ekl\\x83\\xa3\\xaa\\xf5p\\x03\\x12}\\xb10\\xd5y\\xdc-\\x8f5\\x8a\\x8e\\x12\\xde\\xa1\\x84\\xdc\\xd5\\xc3+h\\xfb\\xb1BJsSX\\xee\\x06\\x15\\x95Q\\xba{\\x87\\x19+\\x00\\x1e\\x07\\x10\\x87\\\\\\x15K\\xb1\\xb68\\x9b\\x9d\\xa0\\xdeNu,B\\xb7\\x06\\xa6\\xecq\\x18bS{\\xbc\\xae<\\xc1\\xb7\\xc6\\x94z\\xcd\\xea:\\x8b\\x19\\x83\\xa7\\x03\\xf6\\xdcj\\x99,\\x04/Y\\xd7q\\xee`\\xc1\\xa9\\x0f\\xa3P \\xa6\\x0ek;\\x8e\\xcd\\xb0\\x899Z\\xb5\\t\\xcaf\\xc9\\xf1\\tg\\xcc\\'&&\\x12\\x02\\x19\\x1e@c(y\\x83\\x88\\xc1Y\\x8d\\xb3\\x1cKC\\xf5\\x96\\xa7\\x03\\x99\\xc1\\x8b\\xaf\\x13\\x83\\x94\\xdc?\\xb2\\xcdy\\x18\\xe5\\xdb\\xb5\\xd4-~N\\xe3@Z\\xa0\\'Q\\x0e\\x80\\x87:\\x14\\xd0\\x0eM@X\\xac\\xb1.\\xf9\\x0b\\x9e\\xee\\xa2z\\xad\\x89S\\x02%\\xef\\x98\\xdd\\x8a\\xe3B_\\x06\\xd9j\\xae\\\\\\x17\\x8e\\xa0\\xa6\\xb3\\xb2\\xd2\\xf0FT-\\xa8\\xd4\\xa5U\\x92\\xf2{\\x83\\xe3\\xee\\x83!\\xf8\\x10$O\\x99p\\x16t1{?\\xcc\\xad\\xb5#e\\xc2\\xb5+\\xc9\\xf2L\\xd9W\\xdc\\x10\\xc6\\x85`\\xdc\\xb9U<\\xc1\\xbb\\xb9gg\\xa2\\xcd\\x13\\x8b\\xc2\\x0f\\xdc\\xa0\\xd2\\xf9\\x94:\\x1b\\x94.\\xb5\\x05E\\xa9\\x91\\xc4 D\\x14\\x15\\x1e(\\xd1\\x00\\x07E\\x16\\x02\\xfd\\x18\\x8b\\x92-%\\x03\\xd4\\xc8\\xf8h6\\xb2\\x9cvEk\\x8fDM\\x165\\xaa\\x96\\xe1b\\xae\\xd6\\x13\\x9f\\xe0*\\x15\\xc2\\x02\\xf0\\x8bKX\\xb2>\\xe0b*\\xb9EAl\\xef\\xe5\\x7f\\x90\\xa8Y~\\xc8r|0\\xdd\\xfcq.\\xc6N\\x07S2#W\\x86a5\\x88\\x1c\\xccj\\x1b|Q\\xca\\xb5\\xa4\\xff\\x00q\\x9d\\xbb\\xfb\\x01\\xb7\\xef\\xfd@\\xaai\\xb8\\xdd\\xdd%\\x01\\xb5\\xcaS\\xb4\\xc1v\\xae\\xea\\x05\\xa1\\xb8X \\xf2\\x90\\xd0\\xaa\\xf1\\n\\x10\\xacE\\x84\\x19\\x0f\\xa8\\x91q,U7<=L\\xd1\\x1d\\xcc\\x0fk\\xf5\\xba\\x08\\x8c\\xa3\\\\\\xf3\\x11\\xc5\\xb3\\x17\\x01\\x9cC\\x04\\x01\\x1f\\x98y#\\x0f\\x05R\\xf3+\\x88\\xb0^:\\x99\\xf1P}^%\\xb9\\x875\\xcd~\\xe1*\\x08\\x16\\xe6\\\\\\xc5\\x9aq\\x94\\x9b\\xa1\\tTM\\xd7P\\x0f\\xbc\\x15)\\xf6\\xf3\\xd4V6^%myh\\x87\\xcc\\xba\\xca\\xca\\x90:\\xc4\\xbf\\x1c\\x85\\x8c\\xa1\\xa0\\\\\\xc8\\xab<\\xc0!\\xae \\xf2\\x9f\\xd2?\\xc8\\xa6\\x0c\\xe3\\xb9\\x88\\xb0\\x1cTN\\x86\\xfa\\xd4\\x1dTm\\x1d\\xca\\xc3\\x0b\\xbd\\x89\\x9a%\\xc0`@}\\xa7r\\xed.\\xba\\xfa\\x84\\xe9]A\\x96q\\xf6\\x88\\x80\\xaa|J\\x04rf\\\\e\\xf3\\x83\\xecA\\x80\\x9b9o+A\\xbaaf\\xee\\x0f\\xd3\\xb1\\x07Rm\\xce`lw\\x0f\\xf3D;\\\\8\\x96\\x07;\\xc1\\xa7,@\\x82\\xb7\\x97\\xb9\\x80\\x9c\\xcak\\x17\\n\\xb5g\\xa2{\\x88L\\xee)\\x8f\\xbc\\xc8J\\xb8\\xb6\\x06\\xf7\\x969\\x94>\\xd8\\x10\\n\\x1eH\\xb4]3\\x11\\xb1A\\x98\\x80[\\x00\\xb3s@\\x00\\xb8b\\x9c\\xd9z#\\xcc\\xe8F\\xfcD\\x0bB\\xe2\\xe5\\x05\\xc6Q5\\x17\\x84\\xa4\\xea\\xd7\\xbdK\\n\\xd1\\xb4@\\x11\\xa6!\\n\\xc8h\\xe8\\x00\\x0eW\\xab\\xd1\\xdb\\xa85(8tu\\x05$\\xa7\\xf4@\\xae\\x81G\\xe2\\xe8@\\x19,\\xb6\\x1b\\t\\x8a\\xd0\\xf5-\\x12\\xf9\\x03\\x07\\xa9pl\\xd8wR\\x9a\\xf2\\xf5\\x18\\xda\\x0f1\\x956\\xb9\\xb9\\xbfCS\\x05\\x89\\x02\\xf8\\tD>\\tfo/1l)\\x9fb0r\\xb400\\x83P\\xd0Jd]T\\xc3\\x88\\x03\\xb5\\x8b\\x88\\xa4\\xe1\\xdekmx\\x94\\xe3a\\x03 }\\x86q(\\x0f\\x1c\\xc6\\x15Ljng1\\x19\\xf5*[\\xc8\\xcb\\x03\\x83[M\\x1f\\x89Zw#\\x90K@8X\\xcbb\\xa6)\\x8b\\xb8\\x0e/\\xb4>\\xae\\xfe\\x88\\xc5\\x1fJ\\xa8Gb\\xb1\\xa8\\xc8\\xc6\\x8be}L\\x93\\xbe_\\xb1\\xd7\\xe4\\xc7\\xdb\\xfb\\xf2\\r\\x98(\\x0c\\x06\\x1b\\xae\\x1f\\x8dK\\n\\x86Go\\xf8\\x1fr\\x88`\\x1d\\xa3\\x88\\xc7\\x92X\\xbc\\xc5T\\xb6 \\'QW\\xcc\\x92\\x89\\xa0\\xe3\\xfd\\x96\\xd4\\x95Z\\xb5\\x10J\\x99X<\\xb1\\x96\\xf34]\\x8f\\xeaYC\\xc5\\xe9\\xf4\\xcbD%@\\xda]\\x92UL\\xbf\\xff\\x00S\\xaaLM,[\\xf3\\xef\\xf5\\xfb\\xc7/.\\x1bk\\xeds6eM\\xed\\x84\\x04\\xbd5\\xfb\\x80V\\x90f\\x9c\\xe3\\x82;\\xcd9+\\xf3\\x04\\x94\\xa5Kx\\xae\\xd3\\xf2C\\x02+U\\x89\\xee8\\x94\\xe28X\\xde\\xe5B\\xd2\\xe5\\xc2\\r\\x96\\xea&\\x04]\\xa7\\xf9\\x06ZTv\\xcc\\x18\\xba\\xae\\x15}\\x04WH(\\xae{\\x96\\xe0\\x1b\\xc8J\\xe5\\xc66K\\xd6\\xc6\\xe8\\\\:\\x81\\x05\\xd1O\\xc4E\\x04G\"RN\\x89\\x902\\x96\\xe5\\'4j\\xd4\\xbfp\\xc1\\t\\xd5\\x075\\xdcAY\\xdf-\\xe7\\xe6-\\x15\\xca\\xfb\\x7f\\xdf\\xa9wf\\xf1\\xa0\\xb9\\xb5(\\xcb\\xc9\\x97{\\xd7+\\xd7\\xfe\\xe2I p\\x1b\\xa7\\xabS\\xbd|\\xc1[\\xf5\\xc9\\x1e\\xd2\\x82\\xfcE\\xce)\\x89^h\\xa0Vtdb+\\x81:\\x8ex\\x7f\\xb1.\\x01\\x84\\xb7\\xe1_\\xdcL@\\xda\\x04\\xaf;\\x97\\xc8\\x8bm\\x9f\\xbac\\xde\\xc3d\\xfa\\xe2\\x1dr\\x1a;;\\x86\\x16\\xb3\\x90\\xe5\\xfdK* \\xad\\r\\xcc\\xc3\\xc5\\xcbR\\xb6\\xb45gih:]\\xb57\\x83\\xa5\\x19>wr\\xa43*p\\xf4\\xf3\\x17\\xd0\\x0eB\\x92\\nT\\xff\\xd9'\n",
      "<class 'bytes'>\n"
     ]
    }
   ],
   "source": [
    "print(s.content)\n",
    "print(type(s.content))"
   ]
  },
  {
   "cell_type": "code",
   "execution_count": 30,
   "metadata": {},
   "outputs": [],
   "source": [
    "with open(\"sample_pic.jpg\",'wb') as f:\n",
    "    f.write(s.content)# as s.content is a binary file so we use wb(write binary)"
   ]
  },
  {
   "cell_type": "markdown",
   "metadata": {},
   "source": [
    "# Image Scraping"
   ]
  },
  {
   "cell_type": "code",
   "execution_count": 35,
   "metadata": {},
   "outputs": [],
   "source": [
    "import bs4\n",
    "import requests"
   ]
  },
  {
   "cell_type": "markdown",
   "metadata": {},
   "source": []
  },
  {
   "cell_type": "code",
   "execution_count": 33,
   "metadata": {},
   "outputs": [],
   "source": [
    "Iurl=\"https://www.passiton.com/inspirational-quotes\""
   ]
  },
  {
   "cell_type": "code",
   "execution_count": 36,
   "metadata": {},
   "outputs": [],
   "source": [
    "response=requests.get(Iurl)"
   ]
  },
  {
   "cell_type": "code",
   "execution_count": 37,
   "metadata": {},
   "outputs": [
    {
     "data": {
      "text/plain": [
       "b'<!DOCTYPE html>\\n<html class=\"no-js\" dir=\"ltr\" lang=\"en-US\">\\n    <head>\\n        <title>Inspirational Quotes - Motivational Quotes - Leadership Quotes | PassItOn.com</title>\\n        <meta charset=\"utf-8\">\\n        <meta http-equiv=\"content-type\" content=\"text/html; charset=utf-8\" />\\n        <meta http-equiv=\"X-UA-Compatible\" content=\"IE=edge\" />\\n        <meta name=\"viewport\" content=\"width=device-width,initial-scale=1.0,maximum-scale=1\" />\\n        <meta name=\"description\" content=\"The Foundation for a Better Life | Pass It On.com\">\\n        <link rel=\"apple-touch-icon\" sizes=\"180x180\" href=\"/apple-touch-icon.png\">\\n        <link rel=\"icon\" type=\"image/png\" sizes=\"32x32\" href=\"/favicon-32x32.png\">\\n        <link rel=\"icon\" type=\"image/png\" sizes=\"16x16\" href=\"/favicon-16x16.png\">\\n        <link rel=\"manifest\" href=\"/site.webmanifest\">\\n        <link rel=\"mask-icon\" href=\"/safari-pinned-tab.svg\" color=\"#c8102e\">\\n        <meta name=\"msapplication-TileColor\" content=\"#c8102e\">\\n        <meta name=\"theme-color\" content=\"#ffffff\">\\n        <link rel=\"stylesheet\" href=\"https://stackpath.bootstrapcdn.com/bootstrap/4.3.1/css/bootstrap.min.css\" integrity=\"sha384-ggOyR0iXCbMQv3Xipma34MD+dH/1fQ784/j6cY/iJTQUOhcWr7x9JvoRxT2MZw1T\" crossorigin=\"anonymous\">\\n        <link rel=\"stylesheet\" media=\"all\" href=\"/assets/pofo-37a5d7aa5ae64e3dfae4be1c91df4127.css\" />\\n        <meta name=\"csrf-param\" content=\"authenticity_token\" />\\n<meta name=\"csrf-token\" content=\"m2lbFJSLisYs2l56H0pQ4emz9t7J3Xs38EHWM2NQYl556hHLrKe0D4xdTPaeTMHCwbtSUM2jpxfP+YBMmE2MEQ==\" />\\n        <!-- Global site tag (gtag.js) - Google Analytics -->\\n        <script async src=\"https://www.googletagmanager.com/gtag/js?id=UA-1179606-29\"></script>\\n        <script>\\n          window.dataLayer = window.dataLayer || [];\\n          function gtag(){dataLayer.push(arguments);}\\n          gtag(\\'js\\', new Date());\\n          gtag(\\'config\\', \\'UA-1179606-29\\');\\n        </script>\\n\\n\\n        <script>\\n          window.fbAsyncInit = function() {\\n            FB.init({\\n              appId      : \\'483774921971842\\',\\n              cookie     : true,\\n              xfbml      : true,\\n              version    : \\'3.0\\'\\n            });\\n\\n            FB.AppEvents.logPageView();\\n\\n          };\\n\\n          (function(d, s, id){\\n             var js, fjs = d.getElementsByTagName(s)[0];\\n             if (d.getElementById(id)) {return;}\\n             js = d.createElement(s); js.id = id;\\n             js.src = \"https://connect.facebook.net/en_US/sdk.js\";\\n             fjs.parentNode.insertBefore(js, fjs);\\n           }(document, \\'script\\', \\'facebook-jssdk\\'));\\n        </script>\\n\\n        <meta property=\"og:site_name\" content=\"passiton.com\">\\n        <meta property=\"og:title\" content=\"Inspirational Quotes - Motivational Quotes - Leadership Quotes\" />\\n        <meta property=\"og:type\" content=\"website\" />\\n        <meta property=\"og:image\" content=\"https://www.passiton.com/passiton.jpg\" />\\n        <meta property=\"og:url\" content=\"https://www.passiton.com/inspirational-quotes\" />\\n        <meta property=\"og:description\" content=\"Find the perfect quotation from our hand-picked collection of inspiring quotes by hundreds of authors.\" />\\n        <meta property=\"fb:app_id\" content=\"483774921971842\" />\\n\\n        <meta name=\"twitter:card\" content=\"summary_large_image\" />\\n        <meta name=\"twitter:site\" content=\"@passiton\" />\\n        <meta name=\"twitter:creator\" content=\"@passiton\">\\n        <meta name=\"twitter:title\" content=\"Inspirational Quotes - Motivational Quotes - Leadership Quotes\" />\\n        <meta name=\"twitter:description\" content=\"Find the perfect quotation from our hand-picked collection of inspiring quotes by hundreds of authors.\" />\\n        <meta name=\"twitter:image\" content=\"https://www.passiton.com/passiton.jpg\" />\\n        <meta name=\"twitter:url\" content=\"https://www.passiton.com/inspirational-quotes\" />\\n\\n        <meta itemprop=\"name\" content=\"passiton.com\">\\n        <meta itemprop=\"description\" content=\"Find the perfect quotation from our hand-picked collection of inspiring quotes by hundreds of authors.\">\\n        <meta itemprop=\"image\" content=\"https://www.passiton.com/passiton.jpg\">\\n\\n        <link rel=\"apple-touch-icon\" sizes=\"180x180\" href=\"/apple-touch-icon.png\">\\n        <link rel=\"icon\" type=\"image/png\" sizes=\"32x32\" href=\"/favicon-32x32.png\">\\n        <link rel=\"icon\" type=\"image/png\" sizes=\"16x16\" href=\"/favicon-16x16.png\">\\n        <link rel=\"mask-icon\" href=\"/passiton_arrow.svg\" color=\"#C8102E\">\\n        <link rel=\"manifest\" href=\"/manifest.json\">\\n        <link rel=\"mask-icon\" href=\"/safari-pinned-tab.svg\" color=\"#5bbad5\">\\n        <meta name=\"apple-mobile-web-app-title\" content=\"passiton\">\\n        <meta name=\"application-name\" content=\"passiton\">\\n        <meta name=\"theme-color\" content=\"#f1f1f1\">\\n        \\n    </head>\\n    <body class=\\'no-transition quotes_index\\'>\\n        <header>\\n    <nav class=\"navbar navbar-default bootsnav navbar-fixed-top header-dark white-link background-transparent nav-box-width white-link navbar-expand-lg\">\\n        <div class=\"container-fluid nav-header-container\">\\n            <div class=\"col-auto pl-0\">\\n                <a class=\"logo\" title=\"Pass It On\\xc2\\xae\" href=\"/\"><img data-rjs=\"/assets/pofo/logo@2x-77b9f4fa1e4bafa6ff119f8f162b7bd9.png\" class=\"logo-dark\" alt=\"Pass It On\" src=\"/assets/pofo/logo-6d680decaadef58e4fbb586e147bc135.png\" /><img data-rjs=\"/assets/pofo/logo-white@2x-82bf2486063a48e9207811cc7f6d5e5f.png\" class=\"logo-light default\" alt=\"Pass It On\" src=\"/assets/pofo/logo-white-2d99f390ad2f6d3bbf59a52aadb55d60.png\" /></a>\\n            </div>\\n            <div class=\"col accordion-menu pr-0 pr-md-3\">\\n                <button type=\"button\" class=\"navbar-toggler collapsed\" data-toggle=\"collapse\" data-target=\"#navbar-collapse-toggle-1\">\\n                    <span class=\"sr-only\">toggle navigation</span>\\n                    <span class=\"icon-bar\"></span>\\n                    <span class=\"icon-bar\"></span>\\n                    <span class=\"icon-bar\"></span>\\n                </button>\\n                <div class=\"navbar-collapse collapse justify-content-end\" id=\"navbar-collapse-toggle-1\">\\n                    <ul id=\"accordion\" class=\"nav navbar-nav no-margin alt-font text-normal\" data-in=\"fadeIn\" data-out=\"fadeOut\">\\n                        <li><a href=\"/inspirational-quotes\">Quotes</a></li>\\n                        <li><a href=\"/inspirational-stories-tv-spots\">Videos</a></li>\\n                        <li class=\"dropdown simple-dropdown\"><a href=\"/inspirational-sayings-billboards\">Billboards <i class=\\'fas fa-angle-down dropdown-toggle\\' data-toggle=\\'dropdown\\' aria-hidden=\\'true\\'></i></a>\\n                            <ul class=\"dropdown-menu\" role=\"menu\">\\n                                <li><a href=\"/inspirational-sayings-billboards\">Official Billboards</a>\\n                                <li><a href=\"/your-billboards\">Create Your Own Billboard</a>\\n                            </ul>\\n                        </li>\\n                        <li><a href=\"/radio\">Radio Ads</a></li>\\n                        <li class=\"dropdown simple-dropdown\"><a href=\"#\">Language <i class=\"fas fa-angle-down dropdown-toggle\" data-toggle=\"dropdown\" aria-hidden=\"true\"></i></a>\\n                            <ul class=\"dropdown-menu\" role=\"menu\">\\n                                <li><a target=\"_blank\" href=\"https://www.pasala.org/\">Spanish | Espa\\xc3\\xb1ol</a>\\n                                <li><a target=\"_blank\" href=\"https://www.umavidamelhor.org/\">Portuguese | Portugu\\xc3\\xaas</a>\\n                                <li><a target=\"_blank\" href=\"https://www.values.cn.com/\">Chinese | \\xe4\\xb8\\xad\\xe6\\x96\\x87</a>\\n                            </ul>\\n                        </li>\\n                    </ul>\\n                </div>\\n            </div>\\n            <div class=\"col-auto pr-0\">\\n                <div class=\"header-searchbar\">\\n                    <a href=\"#search-header\" class=\"header-search-form\"><i class=\"fas fa-search search-button\"></i></a>\\n                    <form id=\"search-header\" method=\"post\" action=\"/search\" name=\"search-header\" class=\"mfp-hide search-form-result\">\\n                        <div class=\"search-form position-relative\">\\n                            <button type=\"submit\" class=\"fas fa-search close-search search-button\"></button>\\n                            <input type=\"text\" name=\"q\" class=\"search-input\" placeholder=\"Search passiton.com...\" autocomplete=\"off\">\\n                        </div>\\n                    </form>\\n                </div>\\n                <div class=\"header-social-icon d-none d-md-inline-block\">\\n                    <a href=\"https://www.facebook.com/valuescom\" title=\"Facebook\" target=\"_blank\"><i class=\"fab fa-facebook-f\" aria-hidden=\"true\"></i></a>\\n                    <a href=\"https://twitter.com/passiton_values\" title=\"Twitter\" target=\"_blank\"><i class=\"fab fa-twitter\"></i></a>\\n                    <a href=\"https://www.instagram.com/passiton_values/\" title=\"Instagram\" target=\"_blank\"><i class=\"fab fa-instagram\" aria-hidden=\"true\"></i></a>\\n                    <a href=\"https://www.pinterest.com/passiton_values/\" title=\"Pinterest\" target=\"_blank\"><i class=\"fab fa-pinterest\" aria-hidden=\"true\"></i></a>\\n                    <a href=\"https://www.youtube.com/c/passiton_values\" title=\"YouTube\" target=\"_blank\"><i class=\"fab fa-youtube no-margin-right\" aria-hidden=\"true\"></i></a>\\n                </div>\\n            </div>\\n        </div>\\n    </nav>\\n</header>\\n        \\n\\n    <section class=\"parallax bg-black\" data-stellar-background-ratio=\"0.5\" style=\"background-image:url(\\'/assets/pofo/flowers-8d19415bc3bc371f5beaed468d9a1970.jpg\\');\">\\n        <div class=\"container\">\\n            <div class=\"row justify-content-center\">\\n                <div class=\"col-12 col-lg-10 text-center\">\\n                    <div class=\"shadow bg-extra-dark-gray padding-eight-all border-radius-6 width-70 lg-width-80 mx-auto lg-padding-60px-all sm-padding-30px-all\">\\n                        <h6 class=\"font-weight-300 text-white-2 margin-20px-bottom sm-margin-15px-bottom\">Subscribe to our FREE daily quote emails!</h6>\\n                        <p class=\"text-medium width-70 mx-auto margin-40px-bottom sm-width-100 sm-margin-15px-bottom\">Get our daily inspirational quote & value idea in your inbox each weekday\\xe2\\x80\\x94it\\'s free!</p>\\n\\n                        <form class=\"simple_form search-box3 margin-30px-bottom\" novalidate=\"novalidate\" id=\"new_user\" action=\"/users\" accept-charset=\"UTF-8\" method=\"post\"><input name=\"utf8\" type=\"hidden\" value=\"&#x2713;\" /><input type=\"hidden\" name=\"authenticity_token\" value=\"HGTVVZAHqem36NCrSvqhwUXGVDf3/1TslfZMomdHMQn+55+KqCuXIBdvwifL/DDibc7wufOBiMyqThrdnFrfRg==\" />\\n                            <div class=\"input-group add-on width-75 mx-auto sm-width-100\">\\n                                <input label=\"false\" class=\"string email optional form-control\" type=\"text\" placeholder=\"Enter your email address\" name=\"user[email]\" id=\"user_email\" />\\n                                <div class=\"input-group-append\">\\n                                    <button type=\"submit\" class=\"btn btn-default\"><i class=\"ti-angle-right text-small m-0\"></i></button>\\n                                </div>\\n                            </div>\\n</form>\\n                        <hr />\\n\\n                                            <p class=\"text-medium width-70 mx-auto margin-40px-bottom sm-width-100 sm-margin-15px-bottom\">We also post our daily quotes on Instagram, Facebook & Twitter. You should follow us!</p>\\n\\n                    <div class=\\'row\\'>\\n                        <div class=\\'col-4\\'>\\n                            <a target=\"_blank\" href=\"https://www.instagram.com/passiton_values/\"><img alt=\"@passiton_values on Instagram\" src=\"/assets/pofo/instagram_glyph-3a42844bdfa0b6e1ff03e4baf2b978d1.png\" width=\"100\" height=\"100\" /></a>\\n                        </div>\\n                        <div class=\\'col-4\\'>\\n                            <a target=\"_blank\" href=\"https://www.facebook.com/valuescom\"><img alt=\"Facebook\" src=\"/assets/pofo/facebook_glyph-2aa185e76f313012536c98ffd6ae7bcf.png\" width=\"100\" height=\"100\" /></a>\\n                        </div>\\n                        <div class=\\'col-4\\'>\\n                            <a target=\"_blank\" href=\"https://twitter.com/passiton_values\"><img alt=\"Twitter\" src=\"/assets/pofo/twitter_glyph-79c7ef76202036934bd904f83a3b4ef5.png\" width=\"100\" height=\"100\" /></a>\\n                        </div>\\n                    </div>\\n\\n\\n                    </div>\\n                </div>\\n                <div class=\"col-12 col-lg-12 text-center sm-margin-30px-bottom margin-30px-top\">\\n                    <div class=\"text-center wow fadeIn\" data-wow-delay=\"1.5s\">\\n                        <a href=\"#section-quotes\" class=\"inner-link\"><i class=\"ti-arrow-down icon-extra-small text-white-2 bg-red padding-15px-all sm-padding-10px-all rounded-circle\"></i></a>\\n                    </div>\\n                </div>\\n            </div>\\n        </div>\\n    </section>\\n\\n\\n<section class=\"half-section bg-extra-dark-gray half-section\" id=\\'section-quotes\\'>\\n    <div class=\"container\">\\n        <div class=\"row m-0\">\\n            <div class=\"col-12 d-flex flex-column justify-content-center text-center wow fadeIn\" data-wow-delay=\"0.2s\">\\n                <h5 class=\"text-white alt-font font-weight-400 letter-spacing-1 margin-10px-bottom\">INSPIRATIONAL QUOTES</h5>\\n                <span class=\"text-white-2 opacity8 alt-font mb-0 padding-20px-bottom\">Find the perfect quote... and Pass It On\\xc2\\xae</span>\\n\\n                <form class=\"search-box2 margin-30px-bottom\" action=\"/inspirational-quotes\" method=\"get\">\\n                    <div class=\"input-group add-on width-75 mx-auto sm-width-100\">\\n                        <input name=\"q\" type=\"text\" value=\\'\\' placeholder=\"Search our collection of inspiring quotes...\" class=\"form-control\" />\\n                        <div class=\"input-group-append\">\\n                            <button type=\"submit\" class=\"btn btn-default\"><i class=\"ti-search text-small m-0\"></i></button>\\n                        </div>\\n                    </div>\\n                </form>\\n            </div>\\n        </div>\\n    </div>\\n</section>\\n\\n<section class=\"half-section bg-extra-dark-gray half-section\">\\n    <div class=\"container\">\\n\\n        <div class=\\'row\\' id=\\'all_quotes\\'>\\n            <div class=\"col-6 col-lg-3 text-center margin-30px-bottom sm-margin-30px-top\">\\n\\n        <a href=\"/inspirational-quotes/7991-i-will-love-the-light-for-it-shows-me-the-way\"><img alt=\"I will love the light for it shows me the way, yet I will endure the darkness because it shows me the stars #&lt;Author:0x00007fabd91b3028&gt;\" class=\"margin-10px-bottom shadow\" src=\"https://assets.passiton.com/quotes/quote_artwork/7991/medium/20191007_monday_quote.jpg?1570141391\" width=\"310\" height=\"310\" /></a>\\n        <h5 class=\\'value_on_red\\'><a href=\"/inspirational-quotes/7991-i-will-love-the-light-for-it-shows-me-the-way\">OVERCOMING</a></h5>\\n\\n</div><div class=\"col-6 col-lg-3 text-center margin-30px-bottom sm-margin-30px-top\">\\n\\n        <a href=\"/inspirational-quotes/7990-you-cannot-buy-loyalty-you-cannot-buy-the\"><img alt=\"You cannot buy loyalty; you cannot buy the devotion of hearts, minds, and souls. You have to earn these things. #&lt;Author:0x00007fabd91fcc00&gt;\" class=\"margin-10px-bottom shadow\" src=\"https://assets.passiton.com/quotes/quote_artwork/7990/medium/20191004_friday_quote.jpg?1569594621\" width=\"310\" height=\"310\" /></a>\\n        <h5 class=\\'value_on_red\\'><a href=\"/inspirational-quotes/7990-you-cannot-buy-loyalty-you-cannot-buy-the\">LOYALTY</a></h5>\\n\\n</div><div class=\"col-6 col-lg-3 text-center margin-30px-bottom sm-margin-30px-top\">\\n\\n        <a href=\"/inspirational-quotes/7989-trust-is-earned-respect-is-given-and-loyalty\"><img alt=\"Trust is earned, respect is given, and loyalty is demonstrated. Betrayal of any one of those is to lose all three. #&lt;Author:0x00007fabd927e318&gt;\" class=\"margin-10px-bottom shadow\" src=\"https://assets.passiton.com/quotes/quote_artwork/7989/medium/20191003_thursday_quote.jpg?1569594600\" width=\"310\" height=\"310\" /></a>\\n        <h5 class=\\'value_on_red\\'><a href=\"/inspirational-quotes/7989-trust-is-earned-respect-is-given-and-loyalty\">LOYALTY</a></h5>\\n\\n</div><div class=\"col-6 col-lg-3 text-center margin-30px-bottom sm-margin-30px-top\">\\n\\n        <a href=\"/inspirational-quotes/7988-everybody-wants-loyalty-consistency-and\"><img alt=\"Everybody wants loyalty, consistency and somebody who won&#39;t quit. But everybody forgets that to get that person, you have to be that person. #&lt;Author:0x00007fabd92d2f80&gt;\" class=\"margin-10px-bottom shadow\" src=\"https://assets.passiton.com/quotes/quote_artwork/7988/medium/20191002_wednesday_quote.jpg?1569594577\" width=\"310\" height=\"310\" /></a>\\n        <h5 class=\\'value_on_red\\'><a href=\"/inspirational-quotes/7988-everybody-wants-loyalty-consistency-and\">LOYALTY</a></h5>\\n\\n</div><div class=\"col-6 col-lg-3 text-center margin-30px-bottom sm-margin-30px-top\">\\n\\n        <a href=\"/inspirational-quotes/7987-loyalty-is-what-makes-us-trust-trust-is-what\"><img alt=\"Loyalty is what makes us trust, trust is what makes us stay, staying is what makes us love, and love is what gives us hope. #&lt;Author:0x00007fabd9372378&gt;\" class=\"margin-10px-bottom shadow\" src=\"https://assets.passiton.com/quotes/quote_artwork/7987/medium/20191001_tuesday_quote.jpg?1569594555\" width=\"310\" height=\"310\" /></a>\\n        <h5 class=\\'value_on_red\\'><a href=\"/inspirational-quotes/7987-loyalty-is-what-makes-us-trust-trust-is-what\">LOYALTY</a></h5>\\n\\n</div><div class=\"col-6 col-lg-3 text-center margin-30px-bottom sm-margin-30px-top\">\\n\\n        <a href=\"/inspirational-quotes/7986-loyalty-is-something-you-give-regardless-of\"><img alt=\"Loyalty is something you give regardless of what you get back, and in giving loyalty, you\\xe2\\x80\\x99re getting more loyalty; and out of loyalty flow other great qualities. #&lt;Author:0x00007fabd93e2510&gt;\" class=\"margin-10px-bottom shadow\" src=\"https://assets.passiton.com/quotes/quote_artwork/7986/medium/20190930_monday_quote.jpg?1569594529\" width=\"310\" height=\"310\" /></a>\\n        <h5 class=\\'value_on_red\\'><a href=\"/inspirational-quotes/7986-loyalty-is-something-you-give-regardless-of\">LOYALTY</a></h5>\\n\\n</div><div class=\"col-6 col-lg-3 text-center margin-30px-bottom sm-margin-30px-top\">\\n\\n        <a href=\"/inspirational-quotes/6881-whatever-you-can-do-or-dream-you-can-begin-it\"><img alt=\"Whatever you can do or dream you can, begin it. Boldness has genius, power, and magic in it. #&lt;Author:0x00007fabd9441fb0&gt;\" class=\"margin-10px-bottom shadow\" src=\"https://assets.passiton.com/quotes/quote_artwork/6881/medium/20190927_friday_quote.jpg?1569022621\" width=\"310\" height=\"310\" /></a>\\n        <h5 class=\\'value_on_red\\'><a href=\"/inspirational-quotes/6881-whatever-you-can-do-or-dream-you-can-begin-it\">LIVE YOUR DREAMS</a></h5>\\n\\n</div><div class=\"col-6 col-lg-3 text-center margin-30px-bottom sm-margin-30px-top\">\\n\\n        <a href=\"/inspirational-quotes/7065-every-great-dream-begins-with-a-dreamer-always\"><img alt=\"Every great dream begins with a dreamer. Always remember you have within you the strength, the patience and the passion to reach for the stars, to change the world. #&lt;Author:0x00007fabd94945f8&gt;\" class=\"margin-10px-bottom shadow\" src=\"https://assets.passiton.com/quotes/quote_artwork/7065/medium/20190926_thursday_quote.jpg?1569022585\" width=\"310\" height=\"310\" /></a>\\n        <h5 class=\\'value_on_red\\'><a href=\"/inspirational-quotes/7065-every-great-dream-begins-with-a-dreamer-always\">LIVE YOUR DREAMS</a></h5>\\n\\n</div><div class=\"col-6 col-lg-3 text-center margin-30px-bottom sm-margin-30px-top\">\\n\\n        <a href=\"/inspirational-quotes/4386-make-no-small-plans-for-they-have-no-power-to\"><img alt=\"Make no small plans for they have no power to stir the soul. #&lt;Author:0x00007fabd94cd240&gt;\" class=\"margin-10px-bottom shadow\" src=\"https://assets.passiton.com/quotes/quote_artwork/4386/medium/20190925_wednesday_quote.jpg?1569022553\" width=\"310\" height=\"310\" /></a>\\n        <h5 class=\\'value_on_red\\'><a href=\"/inspirational-quotes/4386-make-no-small-plans-for-they-have-no-power-to\">LIVE YOUR DREAMS</a></h5>\\n\\n</div><div class=\"col-6 col-lg-3 text-center margin-30px-bottom sm-margin-30px-top\">\\n\\n        <a href=\"/inspirational-quotes/6420-so-many-of-our-dreams-at-first-seem-impossible\"><img alt=\"So many of our dreams at first seem impossible, then they seem improbable, and then, when we summon the will, they soon become inevitable.  #&lt;Author:0x00007fabd953f390&gt;\" class=\"margin-10px-bottom shadow\" src=\"https://assets.passiton.com/quotes/quote_artwork/6420/medium/20190924_tuesday_quote.jpg?1569022530\" width=\"310\" height=\"310\" /></a>\\n        <h5 class=\\'value_on_red\\'><a href=\"/inspirational-quotes/6420-so-many-of-our-dreams-at-first-seem-impossible\">LIVE YOUR DREAMS</a></h5>\\n\\n</div><div class=\"col-6 col-lg-3 text-center margin-30px-bottom sm-margin-30px-top\">\\n\\n        <a href=\"/inspirational-quotes/6923-we-are-designed-with-a-dreaming-brain-and-a\"><img alt=\"We are designed with a dreaming brain and a hopeful spirit; it is our nature to envision the life of our dreams. And while dreaming comes easy to us, we must never forget that it takes strength, dedication, and courageous action to bring that dream to life. #&lt;Author:0x00007fabd95f6748&gt;\" class=\"margin-10px-bottom shadow\" src=\"https://assets.passiton.com/quotes/quote_artwork/6923/medium/20190923_monday_quote.jpg?1569022506\" width=\"310\" height=\"310\" /></a>\\n        <h5 class=\\'value_on_red\\'><a href=\"/inspirational-quotes/6923-we-are-designed-with-a-dreaming-brain-and-a\">LIVE YOUR DREAMS</a></h5>\\n\\n</div><div class=\"col-6 col-lg-3 text-center margin-30px-bottom sm-margin-30px-top\">\\n\\n        <a href=\"/inspirational-quotes/7984-failure-is-often-that-early-morning-hour-of\"><img alt=\"Failure is often that early morning hour of darkness which precedes the dawning of the day of success. #&lt;Author:0x00007fabd9675a48&gt;\" class=\"margin-10px-bottom shadow\" src=\"https://assets.passiton.com/quotes/quote_artwork/7984/medium/20190920_friday_quote.jpg?1568408574\" width=\"310\" height=\"310\" /></a>\\n        <h5 class=\\'value_on_red\\'><a href=\"/inspirational-quotes/7984-failure-is-often-that-early-morning-hour-of\">PERSEVERANCE</a></h5>\\n\\n</div><div class=\"col-6 col-lg-3 text-center margin-30px-bottom sm-margin-30px-top\">\\n\\n        <a href=\"/inspirational-quotes/7985-success-is-no-accident-it-is-hard-work\"><img alt=\"Success is no accident. It is hard work, perseverance, learning, studying, sacrifice and most of all, love of what you are doing or leading to do. #&lt;Author:0x00007fabd96bb700&gt;\" class=\"margin-10px-bottom shadow\" src=\"https://assets.passiton.com/quotes/quote_artwork/7985/medium/20190919_thursday_quote_alternate2.jpg?1568417133\" width=\"310\" height=\"310\" /></a>\\n        <h5 class=\\'value_on_red\\'><a href=\"/inspirational-quotes/7985-success-is-no-accident-it-is-hard-work\">PERSEVERANCE</a></h5>\\n\\n</div><div class=\"col-6 col-lg-3 text-center margin-30px-bottom sm-margin-30px-top\">\\n\\n        <a href=\"/inspirational-quotes/3195-permanence-perseverance-and-persistence-in\"><img alt=\"Permanence, perseverance and persistence in spite of all obstacles, discouragements, and impossibilities: It is this that in all things distinguishes the strong soul from the weak. #&lt;Author:0x00007fabd9753988&gt;\" class=\"margin-10px-bottom shadow\" src=\"https://assets.passiton.com/quotes/quote_artwork/3195/medium/20190918_wednesday_quote.jpg?1568408536\" width=\"310\" height=\"310\" /></a>\\n        <h5 class=\\'value_on_red\\'><a href=\"/inspirational-quotes/3195-permanence-perseverance-and-persistence-in\">PERSEVERANCE</a></h5>\\n\\n</div><div class=\"col-6 col-lg-3 text-center margin-30px-bottom sm-margin-30px-top\">\\n\\n        <a href=\"/inspirational-quotes/4804-when-obstacles-arise-you-change-your-direction\"><img alt=\"When obstacles arise, you change your direction to reach your goal, you do not change your decision to get there. #&lt;Author:0x00007fabd97b4378&gt;\" class=\"margin-10px-bottom shadow\" src=\"https://assets.passiton.com/quotes/quote_artwork/4804/medium/20190917_tuesday_quote.jpg?1568408515\" width=\"310\" height=\"310\" /></a>\\n        <h5 class=\\'value_on_red\\'><a href=\"/inspirational-quotes/4804-when-obstacles-arise-you-change-your-direction\">PERSEVERANCE</a></h5>\\n\\n</div><div class=\"col-6 col-lg-3 text-center margin-30px-bottom sm-margin-30px-top\">\\n\\n        <a href=\"/inspirational-quotes/3575-effort-only-fully-releases-its-reward-after-a\"><img alt=\"Effort only fully releases its reward after a person refuses to quit. #&lt;Author:0x00007fabd9828598&gt;\" class=\"margin-10px-bottom shadow\" src=\"https://assets.passiton.com/quotes/quote_artwork/3575/medium/20190916_monday_quote.jpg?1568408490\" width=\"310\" height=\"310\" /></a>\\n        <h5 class=\\'value_on_red\\'><a href=\"/inspirational-quotes/3575-effort-only-fully-releases-its-reward-after-a\">PERSEVERANCE</a></h5>\\n\\n</div><div class=\"col-6 col-lg-3 text-center margin-30px-bottom sm-margin-30px-top\">\\n\\n        <a href=\"/inspirational-quotes/7983-few-things-leave-a-deeper-mark-on-the-reader\"><img alt=\"Few things leave a deeper mark on the reader, than the first book that finds its way to her heart. #&lt;Author:0x00007fabd9860150&gt;\" class=\"margin-10px-bottom shadow\" src=\"https://assets.passiton.com/quotes/quote_artwork/7983/medium/20190913_friday_quote.jpg?1567805769\" width=\"310\" height=\"310\" /></a>\\n        <h5 class=\\'value_on_red\\'><a href=\"/inspirational-quotes/7983-few-things-leave-a-deeper-mark-on-the-reader\">LITERACY</a></h5>\\n\\n</div><div class=\"col-6 col-lg-3 text-center margin-30px-bottom sm-margin-30px-top\">\\n\\n        <a href=\"/inspirational-quotes/7982-life-seek-the-company-of-a-friendly-book-from\"><img alt=\"life, seek the company of a friendly book\\xe2\\x80\\xa6 from the reading of \\xe2\\x80\\x98good books\\xe2\\x80\\x99 there comes a richness of life that can be obtained in no other way. #&lt;Author:0x00007fabd98ecfd8&gt;\" class=\"margin-10px-bottom shadow\" src=\"https://assets.passiton.com/quotes/quote_artwork/7982/medium/20190912_thursday_quote.jpg?1567805308\" width=\"310\" height=\"310\" /></a>\\n        <h5 class=\\'value_on_red\\'><a href=\"/inspirational-quotes/7982-life-seek-the-company-of-a-friendly-book-from\">LITERACY</a></h5>\\n\\n</div><div class=\"col-6 col-lg-3 text-center margin-30px-bottom sm-margin-30px-top\">\\n\\n        <a href=\"/inspirational-quotes/7981-she-read-books-as-one-would-breathe-air-to\"><img alt=\"She read books as one would breathe air, to fill up and live. #&lt;Author:0x00007fabd9936728&gt;\" class=\"margin-10px-bottom shadow\" src=\"https://assets.passiton.com/quotes/quote_artwork/7981/medium/20190911_wednesday_quote.jpg?1567805235\" width=\"310\" height=\"310\" /></a>\\n        <h5 class=\\'value_on_red\\'><a href=\"/inspirational-quotes/7981-she-read-books-as-one-would-breathe-air-to\">LITERACY</a></h5>\\n\\n</div><div class=\"col-6 col-lg-3 text-center margin-30px-bottom sm-margin-30px-top\">\\n\\n        <a href=\"/inspirational-quotes/7533-the-more-that-you-read-the-more-things-you\"><img alt=\"The more that you read, the more things you will know. The more that you learn, the more places you&#39;ll go. #&lt;Author:0x00007fabd99c8ce0&gt;\" class=\"margin-10px-bottom shadow\" src=\"https://assets.passiton.com/quotes/quote_artwork/7533/medium/20190910_tuesday_quote.jpg?1567805212\" width=\"310\" height=\"310\" /></a>\\n        <h5 class=\\'value_on_red\\'><a href=\"/inspirational-quotes/7533-the-more-that-you-read-the-more-things-you\">LITERACY</a></h5>\\n\\n</div><div class=\"col-6 col-lg-3 text-center margin-30px-bottom sm-margin-30px-top\">\\n\\n        <a href=\"/inspirational-quotes/7980-in-the-case-of-good-books-the-point-is-not-to\"><img alt=\"In the case of good books, the point is not to see how many of them you can get through, but rather how many can get through to you.  #&lt;Author:0x00007fabd9a26368&gt;\" class=\"margin-10px-bottom shadow\" src=\"https://assets.passiton.com/quotes/quote_artwork/7980/medium/20190909_monday_quote.jpg?1567805176\" width=\"310\" height=\"310\" /></a>\\n        <h5 class=\\'value_on_red\\'><a href=\"/inspirational-quotes/7980-in-the-case-of-good-books-the-point-is-not-to\">LITERACY</a></h5>\\n\\n</div><div class=\"col-6 col-lg-3 text-center margin-30px-bottom sm-margin-30px-top\">\\n\\n        <a href=\"/inspirational-quotes/7979-between-stimulus-and-response-there-is-a-space\"><img alt=\"Between stimulus and response there is a space. In that space is our power to choose our response. In our response lies our growth and our freedom. #&lt;Author:0x00007fabd99bbc20&gt;\" class=\"margin-10px-bottom shadow\" src=\"https://assets.passiton.com/quotes/quote_artwork/7979/medium/20190906_friday_quote.jpg?1567121868\" width=\"310\" height=\"310\" /></a>\\n        <h5 class=\\'value_on_red\\'><a href=\"/inspirational-quotes/7979-between-stimulus-and-response-there-is-a-space\">MINDFULNESS</a></h5>\\n\\n</div><div class=\"col-6 col-lg-3 text-center margin-30px-bottom sm-margin-30px-top\">\\n\\n        <a href=\"/inspirational-quotes/7978-how-you-look-at-it-is-pretty-much-how-you-ll\"><img alt=\"How you look at it is pretty much how you\\xe2\\x80\\x99ll see it. #&lt;Author:0x00007fabd9adf340&gt;\" class=\"margin-10px-bottom shadow\" src=\"https://assets.passiton.com/quotes/quote_artwork/7978/medium/20190905_thursday_quote.jpg?1567121845\" width=\"310\" height=\"310\" /></a>\\n        <h5 class=\\'value_on_red\\'><a href=\"/inspirational-quotes/7978-how-you-look-at-it-is-pretty-much-how-you-ll\">MINDFULNESS</a></h5>\\n\\n</div><div class=\"col-6 col-lg-3 text-center margin-30px-bottom sm-margin-30px-top\">\\n\\n        <a href=\"/inspirational-quotes/7977-what-day-is-it-asked-pooh-it-s-today\"><img alt=\"\\xe2\\x80\\x9cWhat day is it?\\xe2\\x80\\x9d asked Pooh. \\xe2\\x80\\x9cIt\\xe2\\x80\\x99s today,\\xe2\\x80\\x9d squeaked Piglet. \\xe2\\x80\\x9cMy favorite day,\\xe2\\x80\\x9d said Pooh. #&lt;Author:0x00007fabd9b17f10&gt;\" class=\"margin-10px-bottom shadow\" src=\"https://assets.passiton.com/quotes/quote_artwork/7977/medium/20190904_wednesday_quote.jpg?1567121822\" width=\"310\" height=\"310\" /></a>\\n        <h5 class=\\'value_on_red\\'><a href=\"/inspirational-quotes/7977-what-day-is-it-asked-pooh-it-s-today\">MINDFULNESS</a></h5>\\n\\n</div><div class=\"col-6 col-lg-3 text-center margin-30px-bottom sm-margin-30px-top\">\\n\\n        <a href=\"/inspirational-quotes/7976-whatever-the-present-moment-contains-accept-it\"><img alt=\"Whatever the present moment contains, accept it as if you had chosen it. Always work with it, not against it. #&lt;Author:0x00007fabd9b4de58&gt;\" class=\"margin-10px-bottom shadow\" src=\"https://assets.passiton.com/quotes/quote_artwork/7976/medium/20190903_tuesday_quote.jpg?1567121779\" width=\"310\" height=\"310\" /></a>\\n        <h5 class=\\'value_on_red\\'><a href=\"/inspirational-quotes/7976-whatever-the-present-moment-contains-accept-it\">MINDFULNESS</a></h5>\\n\\n</div><div class=\"col-6 col-lg-3 text-center margin-30px-bottom sm-margin-30px-top\">\\n\\n        <a href=\"/inspirational-quotes/7975-mindfulness-is-simply-being-aware-of-what-is\"><img alt=\"Mindfulness is simply being aware of what is happening right now without wishing it were different; enjoying the pleasant without holding on when it changes (which it will); being with the unpleasant without fearing it will always be this way (which it won\\xe2\\x80\\x99t). #&lt;Author:0x00007fabd9bcb358&gt;\" class=\"margin-10px-bottom shadow\" src=\"https://assets.passiton.com/quotes/quote_artwork/7975/medium/20190902_monday_quote.jpg?1567121753\" width=\"310\" height=\"310\" /></a>\\n        <h5 class=\\'value_on_red\\'><a href=\"/inspirational-quotes/7975-mindfulness-is-simply-being-aware-of-what-is\">MINDFULNESS</a></h5>\\n\\n</div><div class=\"col-6 col-lg-3 text-center margin-30px-bottom sm-margin-30px-top\">\\n\\n        <a href=\"/inspirational-quotes/7564-they-say-a-person-needs-just-three-things-to-be\"><img alt=\"They say a person needs just three things to be truly happy in this world: someone to love, something to do, and something to hope for. #&lt;Author:0x00007fabd88e3ad8&gt;\" class=\"margin-10px-bottom shadow\" src=\"https://assets.passiton.com/quotes/quote_artwork/7564/medium/20190830_friday_quote.jpg?1566582836\" width=\"310\" height=\"310\" /></a>\\n        <h5 class=\\'value_on_red\\'><a href=\"/inspirational-quotes/7564-they-say-a-person-needs-just-three-things-to-be\">HOPE</a></h5>\\n\\n</div><div class=\"col-6 col-lg-3 text-center margin-30px-bottom sm-margin-30px-top\">\\n\\n        <a href=\"/inspirational-quotes/7974-chance-is-always-powerful-let-your-hook-be\"><img alt=\"Chance is always powerful. Let your hook be always cast; in the pool where you least expect it, there will be a fish. #&lt;Author:0x00007fabd911f828&gt;\" class=\"margin-10px-bottom shadow\" src=\"https://assets.passiton.com/quotes/quote_artwork/7974/medium/20190829_thursday_quote.jpg?1566582807\" width=\"310\" height=\"310\" /></a>\\n        <h5 class=\\'value_on_red\\'><a href=\"/inspirational-quotes/7974-chance-is-always-powerful-let-your-hook-be\">HOPE</a></h5>\\n\\n</div><div class=\"col-6 col-lg-3 text-center margin-30px-bottom sm-margin-30px-top\">\\n\\n        <a href=\"/inspirational-quotes/7973-the-best-way-to-not-feel-hopeless-is-to-get-up\"><img alt=\"The best way to not feel hopeless is to get up and do something. Don\\xe2\\x80\\x99t wait for good things to happen to you. If you go out and make some good things happen, you will fill the world with hope, you will fill yourself with hope. #&lt;Author:0x00007fabd5e7f120&gt;\" class=\"margin-10px-bottom shadow\" src=\"https://assets.passiton.com/quotes/quote_artwork/7973/medium/20190828_wednesday_quote.jpg?1566582774\" width=\"310\" height=\"310\" /></a>\\n        <h5 class=\\'value_on_red\\'><a href=\"/inspirational-quotes/7973-the-best-way-to-not-feel-hopeless-is-to-get-up\">HOPE</a></h5>\\n\\n</div><div class=\"col-6 col-lg-3 text-center margin-30px-bottom sm-margin-30px-top\">\\n\\n        <a href=\"/inspirational-quotes/5224-we-must-accept-finite-disappointment-but-we\"><img alt=\"We must accept finite disappointment, but we must never lose infinite hope. #&lt;Author:0x00007fabd97bc550&gt;\" class=\"margin-10px-bottom shadow\" src=\"https://assets.passiton.com/quotes/quote_artwork/5224/medium/20190827_tuesday_quote.jpg?1566582744\" width=\"310\" height=\"310\" /></a>\\n        <h5 class=\\'value_on_red\\'><a href=\"/inspirational-quotes/5224-we-must-accept-finite-disappointment-but-we\">HOPE</a></h5>\\n\\n</div><div class=\"col-6 col-lg-3 text-center margin-30px-bottom sm-margin-30px-top\">\\n\\n        <a href=\"/inspirational-quotes/7561-hope-can-be-a-powerful-force-maybe-theres-no\"><img alt=\"Hope can be a powerful force. Maybe there&#39;s no actual magic in it, but when you know what you hope for most and hold it like a light within you, you can make things happen, almost like magic. #&lt;Author:0x00007fabd9c29890&gt;\" class=\"margin-10px-bottom shadow\" src=\"https://assets.passiton.com/quotes/quote_artwork/7561/medium/20190826_monday_quote.jpg?1566582711\" width=\"310\" height=\"310\" /></a>\\n        <h5 class=\\'value_on_red\\'><a href=\"/inspirational-quotes/7561-hope-can-be-a-powerful-force-maybe-theres-no\">HOPE</a></h5>\\n\\n</div><div class=\"col-6 col-lg-3 text-center margin-30px-bottom sm-margin-30px-top\">\\n\\n        <a href=\"/inspirational-quotes/6469-most-people-are-like-you-and-me-or-the-people\"><img alt=\"Most people are like you and me, or the people across the street or around the world from you and me. Just like you and me, their hearts tell them that somewhere, somehow, they can make a positive difference in the world.  #&lt;Author:0x00007fabd9c5fc38&gt;\" class=\"margin-10px-bottom shadow\" src=\"https://assets.passiton.com/quotes/quote_artwork/6469/medium/20190823_friday_quote.jpg?1565804805\" width=\"310\" height=\"310\" /></a>\\n        <h5 class=\\'value_on_red\\'><a href=\"/inspirational-quotes/6469-most-people-are-like-you-and-me-or-the-people\">MAKING A DIFFERENCE</a></h5>\\n\\n</div>\\n        </div>\\n\\n        <div class=\"row\">\\n            <div class=\"col-12 text-center\">\\n                <div class=\"quotes_pagination\"><span class=\"previous_page disabled\">&#8592; Previous</span> <em class=\"current\">1</em> <a rel=\"next\" href=\"/inspirational-quotes?page=2\">2</a> <a href=\"/inspirational-quotes?page=3\">3</a> <a href=\"/inspirational-quotes?page=4\">4</a> <a href=\"/inspirational-quotes?page=5\">5</a> <a href=\"/inspirational-quotes?page=6\">6</a> <a href=\"/inspirational-quotes?page=7\">7</a> <a href=\"/inspirational-quotes?page=8\">8</a> <a href=\"/inspirational-quotes?page=9\">9</a> <span class=\"gap\">&hellip;</span> <a href=\"/inspirational-quotes?page=114\">114</a> <a href=\"/inspirational-quotes?page=115\">115</a> <a class=\"next_page\" rel=\"next\" href=\"/inspirational-quotes?page=2\">Next &#8594;</a></div>\\n            </div>\\n        </div>\\n\\n    </div>\\n</section>\\n        <footer class=\"footer-classic-dark bg-extra-dark-gray padding-five-bottom sm-padding-30px-bottom\">\\n    <div class=\"bg-dark-footer padding-50px-tb sm-padding-30px-tb\">\\n        <div class=\"container\">\\n            <div class=\"row align-items-center\">\\n\\n                <div class=\"col-lg-4 col-md-5 text-center alt-font sm-margin-15px-bottom\">\\n                    Pass It On<sup>\\xc2\\xae</sup>\\n                </div>\\n\\n                <div class=\"col-lg-4 col-md-2 text-center sm-margin-10px-bottom\">\\n                    <a href=\"/\"><img class=\"footer-logo\" data-rjs=\"/assets/pofo/fbl_logo-b50da7cb3567063fca4dec74f28f07c4.png\" alt=\"The Foundation for a Better Life\" src=\"/assets/pofo/fbl_logo-b50da7cb3567063fca4dec74f28f07c4.png\" /></a>\\n                </div>\\n\\n                <div class=\"col-lg-4 col-md-5 text-center\">\\n                    <span class=\"alt-font margin-20px-right\">Follow us on social</span>\\n                    <div class=\"social-icon-style-8 d-inline-block vertical-align-middle\">\\n                        <ul class=\"small-icon mb-0\">\\n                            <li><a class=\"facebook text-white-2\" href=\"https://www.facebook.com/valuescom\" target=\"_blank\"><i class=\"fab fa-facebook-f\" aria-hidden=\"true\"></i></a></li>\\n                            <li><a class=\"twitter text-white-2\" href=\"https://twitter.com/passiton_values\" target=\"_blank\"><i class=\"fab fa-twitter\"></i></a></li>\\n                            <li><a class=\"instagram text-white-2\" href=\"https://www.instagram.com/passiton_values/\" target=\"_blank\"><i class=\"fab fa-instagram no-margin-right\" aria-hidden=\"true\"></i></a></li>\\n                            <li><a class=\"pinterest text-white-2\" href=\"https://www.pinterest.com/passiton_values/\" target=\"_blank\"><i class=\"fab fa-pinterest no-margin-right\" aria-hidden=\"true\"></i></a></li>\\n                            <li><a class=\"youtube text-white-2\" href=\"https://www.youtube.com/c/passiton_values\" target=\"_blank\"><i class=\"fab fa-youtube no-margin-right\" aria-hidden=\"true\"></i></a></li>\\n                        </ul>\\n                    </div>\\n                </div>\\n\\n            </div>\\n        </div>\\n    </div>\\n    <div class=\"footer-widget-area padding-five-top padding-30px-bottom sm-padding-30px-top\">\\n        <div class=\"container\">\\n            <div class=\"row\">\\n\\n                <div class=\"col-lg-3 col-md-6 widget border-right border-color-medium-dark-gray padding-45px-left md-padding-15px-left md-no-border-right md-margin-30px-bottom text-center text-md-left\">\\n                    <div class=\"widget-title alt-font text-small text-medium-gray text-uppercase margin-10px-bottom font-weight-600\">About Us</div>\\n                    <ul class=\"list-unstyled\">\\n                        <li><a class=\"text-small\" href=\"/who-we-are\">About The Foundation for a Better Life</a></li>\\n                        <li><a class=\"text-small\" href=\"/faqs\">FAQs</a></li>\\n                        <li><a class=\"text-small\" href=\"/foundation-recognition\">Foundation Recognition</a></li>\\n                        <li><a class=\"text-small\" href=\"/contact-us\">Contact Us</a></li>\\n                    </ul>\\n                </div>\\n\\n                <div class=\"col-lg-3 col-md-6 widget border-right border-color-medium-dark-gray padding-45px-left md-padding-15px-left md-no-border-right md-margin-30px-bottom text-center text-md-left\">\\n                    <div class=\"widget-title alt-font text-small text-medium-gray text-uppercase margin-10px-bottom font-weight-600\">Be Inspired</div>\\n                    <ul class=\"list-unstyled\">\\n                        <li><a class=\"text-small\" href=\"/teaching-values\">Teaching Values</a></li>\\n                        <li><a class=\"text-small\" href=\"/inspirational-quotes\">Inspirational Quotations</a></li>\\n                        <li><a class=\"text-small\" href=\"/inspirational-stories-tv-spots\">Pass It On\\xc2\\xae Videos</a></li>\\n                        <li><a class=\"text-small\" href=\"/your-everyday-heroes\">Who&#39;s Your Hero Stories</a></li>\\n                        <li><a class=\"text-small\" href=\"/your-inspirational-stories\">Value Stories</a></li>\\n                        <li><a class=\"text-small\" href=\"/inspirational-sayings-billboards\">Official Billboard Campaign</a></li>\\n                        <li><a class=\"text-small\" href=\"/your-billboards\">Create Your Own Billboard</a></li>\\n                        <li><a class=\"text-small\" href=\"/radio\">Radio Ads</a></li>\\n                        <li><a class=\"text-small\" href=\"/inspirational-audio-stories\">Podcasts</a></li>\\n                        <li><a class=\"text-small\" href=\"/pass-it-on-ecards\">Send an Ecard</a></li>\\n                    </ul>\\n                </div>\\n\\n                <div class=\"col-lg-3 col-md-6 widget border-right border-color-medium-dark-gray padding-45px-left md-padding-15px-left md-no-border-right md-margin-30px-bottom text-center text-md-left\">\\n                    <div class=\"widget-title alt-font text-small text-medium-gray text-uppercase margin-10px-bottom font-weight-600\">For Schools</div>\\n                    <ul class=\"list-unstyled\">\\n                        <li><a class=\"text-small\" href=\"/poster-requests/new\">Free Posters &amp; DVD for Schools</a></li>\\n                        <li><a class=\"text-small\" href=\"/pass-it-on-downloads\">Downloads</a></li>\\n                    </ul>\\n                </div>\\n\\n                <div class=\"col-lg-3 col-md-6 widget padding-45px-left md-padding-15px-left md-no-border-right md-margin-30px-bottom text-center text-md-left\">\\n                    <div class=\"widget-title alt-font text-small text-medium-gray text-uppercase margin-10px-bottom font-weight-600\">For Media Companies</div>\\n                    <ul class=\"list-unstyled\">\\n                        <li><a class=\"text-small\" href=\"/for-media-companies\">For Media Companies</a></li>\\n                        <li><a class=\"text-small\" href=\"https://www.passiton-media.com\">Broadcast Quality PSA Downloads</a></li>\\n                        <li><a class=\"text-small\" href=\"https://www.passiton-media.com\">Pass It On Radio Ads</a></li>\\n                        <li><a class=\"text-small\" href=\"https://www.passiton-media.com\">Live Reads</a></li>\\n                        <li><a class=\"text-small\" href=\"https://www.passiton-media.com\">Out of Home Materials</a></li>\\n                    </ul>\\n                </div>\\n\\n            </div>\\n        </div>\\n    </div>\\n    <div class=\"container\">\\n        <div class=\"footer-bottom border-top border-color-medium-dark-gray padding-30px-top\">\\n            <div class=\"row\">\\n                <div class=\"col-lg-6 col-md-6 text-small text-md-left text-center\">\\xc2\\xa92000-2019 The Foundation for a Better Life.</div>\\n                <div class=\"col-lg-6 col-md-6 text-small text-md-right text-center\"><a href=\"/privacy-policy\">Privacy Policy</a>&nbsp;&nbsp;&nbsp;|&nbsp;&nbsp;&nbsp;<a href=\"/terms-of-use\">Terms of Use</a></div>\\n            </div>\\n        </div>\\n    </div>\\n</footer>\\n        <a class=\"scroll-top-arrow\" href=\"javascript:void(0);\"><i class=\"ti-arrow-up\"></i></a>\\n        <script src=\"https://cdnjs.cloudflare.com/ajax/libs/jquery/1.12.4/jquery.js\"></script>\\n        <script src=\"https://cdnjs.cloudflare.com/ajax/libs/popper.js/1.14.7/umd/popper.min.js\" integrity=\"sha384-UO2eT0CpHqdSJQ6hJty5KVphtPhzWj9WO1clHTMGa3JDZwrnQq4sF86dIHNDz0W1\" crossorigin=\"anonymous\"></script>\\n        <script src=\"https://stackpath.bootstrapcdn.com/bootstrap/4.3.1/js/bootstrap.min.js\" integrity=\"sha384-JjSmVgyd0p3pXB1rRibZUAYoIIy6OrQ6VrjIEaFf/nJGzIxFDsf4x0xIM+B07jRM\" crossorigin=\"anonymous\"></script>\\n        <script src=\"/assets/pofo-a1c0e578190874153411b6e8ce601e50.js\"></script>\\n        \\n    </body>\\n</html>'"
      ]
     },
     "execution_count": 37,
     "metadata": {},
     "output_type": "execute_result"
    }
   ],
   "source": [
    "response.content"
   ]
  },
  {
   "cell_type": "code",
   "execution_count": 38,
   "metadata": {},
   "outputs": [],
   "source": [
    "# the html parser\n",
    "soup=bs4.BeautifulSoup(response.content)"
   ]
  },
  {
   "cell_type": "code",
   "execution_count": 65,
   "metadata": {},
   "outputs": [
    {
     "name": "stdout",
     "output_type": "stream",
     "text": [
      "1\n",
      "<class 'bs4.element.ResultSet'>\n"
     ]
    }
   ],
   "source": [
    "article_data=soup.findAll('div',{\"class\":\"row\",\"id\":\"all_quotes\"})\n",
    "print(len(article_data))\n",
    "print(type(article_data))\n"
   ]
  },
  {
   "cell_type": "code",
   "execution_count": null,
   "metadata": {},
   "outputs": [],
   "source": []
  },
  {
   "cell_type": "code",
   "execution_count": 72,
   "metadata": {},
   "outputs": [
    {
     "name": "stdout",
     "output_type": "stream",
     "text": [
      "[<div class=\"col-6 col-lg-3 text-center margin-30px-bottom sm-margin-30px-top\">\n",
      "<a href=\"/inspirational-quotes/7991-i-will-love-the-light-for-it-shows-me-the-way\"><img alt=\"I will love the light for it shows me the way, yet I will endure the darkness because it shows me the stars #&lt;Author:0x00007fabd91b3028&gt;\" class=\"margin-10px-bottom shadow\" height=\"310\" src=\"https://assets.passiton.com/quotes/quote_artwork/7991/medium/20191007_monday_quote.jpg?1570141391\" width=\"310\"/></a>\n",
      "<h5 class=\"value_on_red\"><a href=\"/inspirational-quotes/7991-i-will-love-the-light-for-it-shows-me-the-way\">OVERCOMING</a></h5>\n",
      "</div>, <div class=\"col-6 col-lg-3 text-center margin-30px-bottom sm-margin-30px-top\">\n",
      "<a href=\"/inspirational-quotes/7990-you-cannot-buy-loyalty-you-cannot-buy-the\"><img alt=\"You cannot buy loyalty; you cannot buy the devotion of hearts, minds, and souls. You have to earn these things. #&lt;Author:0x00007fabd91fcc00&gt;\" class=\"margin-10px-bottom shadow\" height=\"310\" src=\"https://assets.passiton.com/quotes/quote_artwork/7990/medium/20191004_friday_quote.jpg?1569594621\" width=\"310\"/></a>\n",
      "<h5 class=\"value_on_red\"><a href=\"/inspirational-quotes/7990-you-cannot-buy-loyalty-you-cannot-buy-the\">LOYALTY</a></h5>\n",
      "</div>, <div class=\"col-6 col-lg-3 text-center margin-30px-bottom sm-margin-30px-top\">\n",
      "<a href=\"/inspirational-quotes/7989-trust-is-earned-respect-is-given-and-loyalty\"><img alt=\"Trust is earned, respect is given, and loyalty is demonstrated. Betrayal of any one of those is to lose all three. #&lt;Author:0x00007fabd927e318&gt;\" class=\"margin-10px-bottom shadow\" height=\"310\" src=\"https://assets.passiton.com/quotes/quote_artwork/7989/medium/20191003_thursday_quote.jpg?1569594600\" width=\"310\"/></a>\n",
      "<h5 class=\"value_on_red\"><a href=\"/inspirational-quotes/7989-trust-is-earned-respect-is-given-and-loyalty\">LOYALTY</a></h5>\n",
      "</div>, <div class=\"col-6 col-lg-3 text-center margin-30px-bottom sm-margin-30px-top\">\n",
      "<a href=\"/inspirational-quotes/7988-everybody-wants-loyalty-consistency-and\"><img alt=\"Everybody wants loyalty, consistency and somebody who won't quit. But everybody forgets that to get that person, you have to be that person. #&lt;Author:0x00007fabd92d2f80&gt;\" class=\"margin-10px-bottom shadow\" height=\"310\" src=\"https://assets.passiton.com/quotes/quote_artwork/7988/medium/20191002_wednesday_quote.jpg?1569594577\" width=\"310\"/></a>\n",
      "<h5 class=\"value_on_red\"><a href=\"/inspirational-quotes/7988-everybody-wants-loyalty-consistency-and\">LOYALTY</a></h5>\n",
      "</div>, <div class=\"col-6 col-lg-3 text-center margin-30px-bottom sm-margin-30px-top\">\n",
      "<a href=\"/inspirational-quotes/7987-loyalty-is-what-makes-us-trust-trust-is-what\"><img alt=\"Loyalty is what makes us trust, trust is what makes us stay, staying is what makes us love, and love is what gives us hope. #&lt;Author:0x00007fabd9372378&gt;\" class=\"margin-10px-bottom shadow\" height=\"310\" src=\"https://assets.passiton.com/quotes/quote_artwork/7987/medium/20191001_tuesday_quote.jpg?1569594555\" width=\"310\"/></a>\n",
      "<h5 class=\"value_on_red\"><a href=\"/inspirational-quotes/7987-loyalty-is-what-makes-us-trust-trust-is-what\">LOYALTY</a></h5>\n",
      "</div>, <div class=\"col-6 col-lg-3 text-center margin-30px-bottom sm-margin-30px-top\">\n",
      "<a href=\"/inspirational-quotes/7986-loyalty-is-something-you-give-regardless-of\"><img alt=\"Loyalty is something you give regardless of what you get back, and in giving loyalty, you’re getting more loyalty; and out of loyalty flow other great qualities. #&lt;Author:0x00007fabd93e2510&gt;\" class=\"margin-10px-bottom shadow\" height=\"310\" src=\"https://assets.passiton.com/quotes/quote_artwork/7986/medium/20190930_monday_quote.jpg?1569594529\" width=\"310\"/></a>\n",
      "<h5 class=\"value_on_red\"><a href=\"/inspirational-quotes/7986-loyalty-is-something-you-give-regardless-of\">LOYALTY</a></h5>\n",
      "</div>, <div class=\"col-6 col-lg-3 text-center margin-30px-bottom sm-margin-30px-top\">\n",
      "<a href=\"/inspirational-quotes/6881-whatever-you-can-do-or-dream-you-can-begin-it\"><img alt=\"Whatever you can do or dream you can, begin it. Boldness has genius, power, and magic in it. #&lt;Author:0x00007fabd9441fb0&gt;\" class=\"margin-10px-bottom shadow\" height=\"310\" src=\"https://assets.passiton.com/quotes/quote_artwork/6881/medium/20190927_friday_quote.jpg?1569022621\" width=\"310\"/></a>\n",
      "<h5 class=\"value_on_red\"><a href=\"/inspirational-quotes/6881-whatever-you-can-do-or-dream-you-can-begin-it\">LIVE YOUR DREAMS</a></h5>\n",
      "</div>, <div class=\"col-6 col-lg-3 text-center margin-30px-bottom sm-margin-30px-top\">\n",
      "<a href=\"/inspirational-quotes/7065-every-great-dream-begins-with-a-dreamer-always\"><img alt=\"Every great dream begins with a dreamer. Always remember you have within you the strength, the patience and the passion to reach for the stars, to change the world. #&lt;Author:0x00007fabd94945f8&gt;\" class=\"margin-10px-bottom shadow\" height=\"310\" src=\"https://assets.passiton.com/quotes/quote_artwork/7065/medium/20190926_thursday_quote.jpg?1569022585\" width=\"310\"/></a>\n",
      "<h5 class=\"value_on_red\"><a href=\"/inspirational-quotes/7065-every-great-dream-begins-with-a-dreamer-always\">LIVE YOUR DREAMS</a></h5>\n",
      "</div>, <div class=\"col-6 col-lg-3 text-center margin-30px-bottom sm-margin-30px-top\">\n",
      "<a href=\"/inspirational-quotes/4386-make-no-small-plans-for-they-have-no-power-to\"><img alt=\"Make no small plans for they have no power to stir the soul. #&lt;Author:0x00007fabd94cd240&gt;\" class=\"margin-10px-bottom shadow\" height=\"310\" src=\"https://assets.passiton.com/quotes/quote_artwork/4386/medium/20190925_wednesday_quote.jpg?1569022553\" width=\"310\"/></a>\n",
      "<h5 class=\"value_on_red\"><a href=\"/inspirational-quotes/4386-make-no-small-plans-for-they-have-no-power-to\">LIVE YOUR DREAMS</a></h5>\n",
      "</div>, <div class=\"col-6 col-lg-3 text-center margin-30px-bottom sm-margin-30px-top\">\n",
      "<a href=\"/inspirational-quotes/6420-so-many-of-our-dreams-at-first-seem-impossible\"><img alt=\"So many of our dreams at first seem impossible, then they seem improbable, and then, when we summon the will, they soon become inevitable.  #&lt;Author:0x00007fabd953f390&gt;\" class=\"margin-10px-bottom shadow\" height=\"310\" src=\"https://assets.passiton.com/quotes/quote_artwork/6420/medium/20190924_tuesday_quote.jpg?1569022530\" width=\"310\"/></a>\n",
      "<h5 class=\"value_on_red\"><a href=\"/inspirational-quotes/6420-so-many-of-our-dreams-at-first-seem-impossible\">LIVE YOUR DREAMS</a></h5>\n",
      "</div>, <div class=\"col-6 col-lg-3 text-center margin-30px-bottom sm-margin-30px-top\">\n",
      "<a href=\"/inspirational-quotes/6923-we-are-designed-with-a-dreaming-brain-and-a\"><img alt=\"We are designed with a dreaming brain and a hopeful spirit; it is our nature to envision the life of our dreams. And while dreaming comes easy to us, we must never forget that it takes strength, dedication, and courageous action to bring that dream to life. #&lt;Author:0x00007fabd95f6748&gt;\" class=\"margin-10px-bottom shadow\" height=\"310\" src=\"https://assets.passiton.com/quotes/quote_artwork/6923/medium/20190923_monday_quote.jpg?1569022506\" width=\"310\"/></a>\n",
      "<h5 class=\"value_on_red\"><a href=\"/inspirational-quotes/6923-we-are-designed-with-a-dreaming-brain-and-a\">LIVE YOUR DREAMS</a></h5>\n",
      "</div>, <div class=\"col-6 col-lg-3 text-center margin-30px-bottom sm-margin-30px-top\">\n",
      "<a href=\"/inspirational-quotes/7984-failure-is-often-that-early-morning-hour-of\"><img alt=\"Failure is often that early morning hour of darkness which precedes the dawning of the day of success. #&lt;Author:0x00007fabd9675a48&gt;\" class=\"margin-10px-bottom shadow\" height=\"310\" src=\"https://assets.passiton.com/quotes/quote_artwork/7984/medium/20190920_friday_quote.jpg?1568408574\" width=\"310\"/></a>\n",
      "<h5 class=\"value_on_red\"><a href=\"/inspirational-quotes/7984-failure-is-often-that-early-morning-hour-of\">PERSEVERANCE</a></h5>\n",
      "</div>, <div class=\"col-6 col-lg-3 text-center margin-30px-bottom sm-margin-30px-top\">\n",
      "<a href=\"/inspirational-quotes/7985-success-is-no-accident-it-is-hard-work\"><img alt=\"Success is no accident. It is hard work, perseverance, learning, studying, sacrifice and most of all, love of what you are doing or leading to do. #&lt;Author:0x00007fabd96bb700&gt;\" class=\"margin-10px-bottom shadow\" height=\"310\" src=\"https://assets.passiton.com/quotes/quote_artwork/7985/medium/20190919_thursday_quote_alternate2.jpg?1568417133\" width=\"310\"/></a>\n",
      "<h5 class=\"value_on_red\"><a href=\"/inspirational-quotes/7985-success-is-no-accident-it-is-hard-work\">PERSEVERANCE</a></h5>\n",
      "</div>, <div class=\"col-6 col-lg-3 text-center margin-30px-bottom sm-margin-30px-top\">\n",
      "<a href=\"/inspirational-quotes/3195-permanence-perseverance-and-persistence-in\"><img alt=\"Permanence, perseverance and persistence in spite of all obstacles, discouragements, and impossibilities: It is this that in all things distinguishes the strong soul from the weak. #&lt;Author:0x00007fabd9753988&gt;\" class=\"margin-10px-bottom shadow\" height=\"310\" src=\"https://assets.passiton.com/quotes/quote_artwork/3195/medium/20190918_wednesday_quote.jpg?1568408536\" width=\"310\"/></a>\n",
      "<h5 class=\"value_on_red\"><a href=\"/inspirational-quotes/3195-permanence-perseverance-and-persistence-in\">PERSEVERANCE</a></h5>\n",
      "</div>, <div class=\"col-6 col-lg-3 text-center margin-30px-bottom sm-margin-30px-top\">\n",
      "<a href=\"/inspirational-quotes/4804-when-obstacles-arise-you-change-your-direction\"><img alt=\"When obstacles arise, you change your direction to reach your goal, you do not change your decision to get there. #&lt;Author:0x00007fabd97b4378&gt;\" class=\"margin-10px-bottom shadow\" height=\"310\" src=\"https://assets.passiton.com/quotes/quote_artwork/4804/medium/20190917_tuesday_quote.jpg?1568408515\" width=\"310\"/></a>\n",
      "<h5 class=\"value_on_red\"><a href=\"/inspirational-quotes/4804-when-obstacles-arise-you-change-your-direction\">PERSEVERANCE</a></h5>\n",
      "</div>, <div class=\"col-6 col-lg-3 text-center margin-30px-bottom sm-margin-30px-top\">\n",
      "<a href=\"/inspirational-quotes/3575-effort-only-fully-releases-its-reward-after-a\"><img alt=\"Effort only fully releases its reward after a person refuses to quit. #&lt;Author:0x00007fabd9828598&gt;\" class=\"margin-10px-bottom shadow\" height=\"310\" src=\"https://assets.passiton.com/quotes/quote_artwork/3575/medium/20190916_monday_quote.jpg?1568408490\" width=\"310\"/></a>\n",
      "<h5 class=\"value_on_red\"><a href=\"/inspirational-quotes/3575-effort-only-fully-releases-its-reward-after-a\">PERSEVERANCE</a></h5>\n",
      "</div>, <div class=\"col-6 col-lg-3 text-center margin-30px-bottom sm-margin-30px-top\">\n",
      "<a href=\"/inspirational-quotes/7983-few-things-leave-a-deeper-mark-on-the-reader\"><img alt=\"Few things leave a deeper mark on the reader, than the first book that finds its way to her heart. #&lt;Author:0x00007fabd9860150&gt;\" class=\"margin-10px-bottom shadow\" height=\"310\" src=\"https://assets.passiton.com/quotes/quote_artwork/7983/medium/20190913_friday_quote.jpg?1567805769\" width=\"310\"/></a>\n",
      "<h5 class=\"value_on_red\"><a href=\"/inspirational-quotes/7983-few-things-leave-a-deeper-mark-on-the-reader\">LITERACY</a></h5>\n",
      "</div>, <div class=\"col-6 col-lg-3 text-center margin-30px-bottom sm-margin-30px-top\">\n",
      "<a href=\"/inspirational-quotes/7982-life-seek-the-company-of-a-friendly-book-from\"><img alt=\"life, seek the company of a friendly book… from the reading of ‘good books’ there comes a richness of life that can be obtained in no other way. #&lt;Author:0x00007fabd98ecfd8&gt;\" class=\"margin-10px-bottom shadow\" height=\"310\" src=\"https://assets.passiton.com/quotes/quote_artwork/7982/medium/20190912_thursday_quote.jpg?1567805308\" width=\"310\"/></a>\n",
      "<h5 class=\"value_on_red\"><a href=\"/inspirational-quotes/7982-life-seek-the-company-of-a-friendly-book-from\">LITERACY</a></h5>\n",
      "</div>, <div class=\"col-6 col-lg-3 text-center margin-30px-bottom sm-margin-30px-top\">\n",
      "<a href=\"/inspirational-quotes/7981-she-read-books-as-one-would-breathe-air-to\"><img alt=\"She read books as one would breathe air, to fill up and live. #&lt;Author:0x00007fabd9936728&gt;\" class=\"margin-10px-bottom shadow\" height=\"310\" src=\"https://assets.passiton.com/quotes/quote_artwork/7981/medium/20190911_wednesday_quote.jpg?1567805235\" width=\"310\"/></a>\n",
      "<h5 class=\"value_on_red\"><a href=\"/inspirational-quotes/7981-she-read-books-as-one-would-breathe-air-to\">LITERACY</a></h5>\n",
      "</div>, <div class=\"col-6 col-lg-3 text-center margin-30px-bottom sm-margin-30px-top\">\n",
      "<a href=\"/inspirational-quotes/7533-the-more-that-you-read-the-more-things-you\"><img alt=\"The more that you read, the more things you will know. The more that you learn, the more places you'll go. #&lt;Author:0x00007fabd99c8ce0&gt;\" class=\"margin-10px-bottom shadow\" height=\"310\" src=\"https://assets.passiton.com/quotes/quote_artwork/7533/medium/20190910_tuesday_quote.jpg?1567805212\" width=\"310\"/></a>\n",
      "<h5 class=\"value_on_red\"><a href=\"/inspirational-quotes/7533-the-more-that-you-read-the-more-things-you\">LITERACY</a></h5>\n",
      "</div>, <div class=\"col-6 col-lg-3 text-center margin-30px-bottom sm-margin-30px-top\">\n",
      "<a href=\"/inspirational-quotes/7980-in-the-case-of-good-books-the-point-is-not-to\"><img alt=\"In the case of good books, the point is not to see how many of them you can get through, but rather how many can get through to you.  #&lt;Author:0x00007fabd9a26368&gt;\" class=\"margin-10px-bottom shadow\" height=\"310\" src=\"https://assets.passiton.com/quotes/quote_artwork/7980/medium/20190909_monday_quote.jpg?1567805176\" width=\"310\"/></a>\n",
      "<h5 class=\"value_on_red\"><a href=\"/inspirational-quotes/7980-in-the-case-of-good-books-the-point-is-not-to\">LITERACY</a></h5>\n",
      "</div>, <div class=\"col-6 col-lg-3 text-center margin-30px-bottom sm-margin-30px-top\">\n",
      "<a href=\"/inspirational-quotes/7979-between-stimulus-and-response-there-is-a-space\"><img alt=\"Between stimulus and response there is a space. In that space is our power to choose our response. In our response lies our growth and our freedom. #&lt;Author:0x00007fabd99bbc20&gt;\" class=\"margin-10px-bottom shadow\" height=\"310\" src=\"https://assets.passiton.com/quotes/quote_artwork/7979/medium/20190906_friday_quote.jpg?1567121868\" width=\"310\"/></a>\n",
      "<h5 class=\"value_on_red\"><a href=\"/inspirational-quotes/7979-between-stimulus-and-response-there-is-a-space\">MINDFULNESS</a></h5>\n",
      "</div>, <div class=\"col-6 col-lg-3 text-center margin-30px-bottom sm-margin-30px-top\">\n",
      "<a href=\"/inspirational-quotes/7978-how-you-look-at-it-is-pretty-much-how-you-ll\"><img alt=\"How you look at it is pretty much how you’ll see it. #&lt;Author:0x00007fabd9adf340&gt;\" class=\"margin-10px-bottom shadow\" height=\"310\" src=\"https://assets.passiton.com/quotes/quote_artwork/7978/medium/20190905_thursday_quote.jpg?1567121845\" width=\"310\"/></a>\n",
      "<h5 class=\"value_on_red\"><a href=\"/inspirational-quotes/7978-how-you-look-at-it-is-pretty-much-how-you-ll\">MINDFULNESS</a></h5>\n",
      "</div>, <div class=\"col-6 col-lg-3 text-center margin-30px-bottom sm-margin-30px-top\">\n",
      "<a href=\"/inspirational-quotes/7977-what-day-is-it-asked-pooh-it-s-today\"><img alt=\"“What day is it?” asked Pooh. “It’s today,” squeaked Piglet. “My favorite day,” said Pooh. #&lt;Author:0x00007fabd9b17f10&gt;\" class=\"margin-10px-bottom shadow\" height=\"310\" src=\"https://assets.passiton.com/quotes/quote_artwork/7977/medium/20190904_wednesday_quote.jpg?1567121822\" width=\"310\"/></a>\n",
      "<h5 class=\"value_on_red\"><a href=\"/inspirational-quotes/7977-what-day-is-it-asked-pooh-it-s-today\">MINDFULNESS</a></h5>\n",
      "</div>, <div class=\"col-6 col-lg-3 text-center margin-30px-bottom sm-margin-30px-top\">\n",
      "<a href=\"/inspirational-quotes/7976-whatever-the-present-moment-contains-accept-it\"><img alt=\"Whatever the present moment contains, accept it as if you had chosen it. Always work with it, not against it. #&lt;Author:0x00007fabd9b4de58&gt;\" class=\"margin-10px-bottom shadow\" height=\"310\" src=\"https://assets.passiton.com/quotes/quote_artwork/7976/medium/20190903_tuesday_quote.jpg?1567121779\" width=\"310\"/></a>\n",
      "<h5 class=\"value_on_red\"><a href=\"/inspirational-quotes/7976-whatever-the-present-moment-contains-accept-it\">MINDFULNESS</a></h5>\n",
      "</div>, <div class=\"col-6 col-lg-3 text-center margin-30px-bottom sm-margin-30px-top\">\n",
      "<a href=\"/inspirational-quotes/7975-mindfulness-is-simply-being-aware-of-what-is\"><img alt=\"Mindfulness is simply being aware of what is happening right now without wishing it were different; enjoying the pleasant without holding on when it changes (which it will); being with the unpleasant without fearing it will always be this way (which it won’t). #&lt;Author:0x00007fabd9bcb358&gt;\" class=\"margin-10px-bottom shadow\" height=\"310\" src=\"https://assets.passiton.com/quotes/quote_artwork/7975/medium/20190902_monday_quote.jpg?1567121753\" width=\"310\"/></a>\n",
      "<h5 class=\"value_on_red\"><a href=\"/inspirational-quotes/7975-mindfulness-is-simply-being-aware-of-what-is\">MINDFULNESS</a></h5>\n",
      "</div>, <div class=\"col-6 col-lg-3 text-center margin-30px-bottom sm-margin-30px-top\">\n",
      "<a href=\"/inspirational-quotes/7564-they-say-a-person-needs-just-three-things-to-be\"><img alt=\"They say a person needs just three things to be truly happy in this world: someone to love, something to do, and something to hope for. #&lt;Author:0x00007fabd88e3ad8&gt;\" class=\"margin-10px-bottom shadow\" height=\"310\" src=\"https://assets.passiton.com/quotes/quote_artwork/7564/medium/20190830_friday_quote.jpg?1566582836\" width=\"310\"/></a>\n",
      "<h5 class=\"value_on_red\"><a href=\"/inspirational-quotes/7564-they-say-a-person-needs-just-three-things-to-be\">HOPE</a></h5>\n",
      "</div>, <div class=\"col-6 col-lg-3 text-center margin-30px-bottom sm-margin-30px-top\">\n",
      "<a href=\"/inspirational-quotes/7974-chance-is-always-powerful-let-your-hook-be\"><img alt=\"Chance is always powerful. Let your hook be always cast; in the pool where you least expect it, there will be a fish. #&lt;Author:0x00007fabd911f828&gt;\" class=\"margin-10px-bottom shadow\" height=\"310\" src=\"https://assets.passiton.com/quotes/quote_artwork/7974/medium/20190829_thursday_quote.jpg?1566582807\" width=\"310\"/></a>\n",
      "<h5 class=\"value_on_red\"><a href=\"/inspirational-quotes/7974-chance-is-always-powerful-let-your-hook-be\">HOPE</a></h5>\n",
      "</div>, <div class=\"col-6 col-lg-3 text-center margin-30px-bottom sm-margin-30px-top\">\n",
      "<a href=\"/inspirational-quotes/7973-the-best-way-to-not-feel-hopeless-is-to-get-up\"><img alt=\"The best way to not feel hopeless is to get up and do something. Don’t wait for good things to happen to you. If you go out and make some good things happen, you will fill the world with hope, you will fill yourself with hope. #&lt;Author:0x00007fabd5e7f120&gt;\" class=\"margin-10px-bottom shadow\" height=\"310\" src=\"https://assets.passiton.com/quotes/quote_artwork/7973/medium/20190828_wednesday_quote.jpg?1566582774\" width=\"310\"/></a>\n",
      "<h5 class=\"value_on_red\"><a href=\"/inspirational-quotes/7973-the-best-way-to-not-feel-hopeless-is-to-get-up\">HOPE</a></h5>\n",
      "</div>, <div class=\"col-6 col-lg-3 text-center margin-30px-bottom sm-margin-30px-top\">\n",
      "<a href=\"/inspirational-quotes/5224-we-must-accept-finite-disappointment-but-we\"><img alt=\"We must accept finite disappointment, but we must never lose infinite hope. #&lt;Author:0x00007fabd97bc550&gt;\" class=\"margin-10px-bottom shadow\" height=\"310\" src=\"https://assets.passiton.com/quotes/quote_artwork/5224/medium/20190827_tuesday_quote.jpg?1566582744\" width=\"310\"/></a>\n",
      "<h5 class=\"value_on_red\"><a href=\"/inspirational-quotes/5224-we-must-accept-finite-disappointment-but-we\">HOPE</a></h5>\n",
      "</div>, <div class=\"col-6 col-lg-3 text-center margin-30px-bottom sm-margin-30px-top\">\n",
      "<a href=\"/inspirational-quotes/7561-hope-can-be-a-powerful-force-maybe-theres-no\"><img alt=\"Hope can be a powerful force. Maybe there's no actual magic in it, but when you know what you hope for most and hold it like a light within you, you can make things happen, almost like magic. #&lt;Author:0x00007fabd9c29890&gt;\" class=\"margin-10px-bottom shadow\" height=\"310\" src=\"https://assets.passiton.com/quotes/quote_artwork/7561/medium/20190826_monday_quote.jpg?1566582711\" width=\"310\"/></a>\n",
      "<h5 class=\"value_on_red\"><a href=\"/inspirational-quotes/7561-hope-can-be-a-powerful-force-maybe-theres-no\">HOPE</a></h5>\n",
      "</div>, <div class=\"col-6 col-lg-3 text-center margin-30px-bottom sm-margin-30px-top\">\n",
      "<a href=\"/inspirational-quotes/6469-most-people-are-like-you-and-me-or-the-people\"><img alt=\"Most people are like you and me, or the people across the street or around the world from you and me. Just like you and me, their hearts tell them that somewhere, somehow, they can make a positive difference in the world.  #&lt;Author:0x00007fabd9c5fc38&gt;\" class=\"margin-10px-bottom shadow\" height=\"310\" src=\"https://assets.passiton.com/quotes/quote_artwork/6469/medium/20190823_friday_quote.jpg?1565804805\" width=\"310\"/></a>\n",
      "<h5 class=\"value_on_red\"><a href=\"/inspirational-quotes/6469-most-people-are-like-you-and-me-or-the-people\">MAKING A DIFFERENCE</a></h5>\n",
      "</div>]\n"
     ]
    }
   ],
   "source": [
    "quotes=soup.findAll('div',{\"class\":\"col-6 col-lg-3 text-center margin-30px-bottom sm-margin-30px-top\"})\n",
    "print(quotes)"
   ]
  },
  {
   "cell_type": "code",
   "execution_count": 73,
   "metadata": {},
   "outputs": [
    {
     "name": "stdout",
     "output_type": "stream",
     "text": [
      "32\n"
     ]
    }
   ],
   "source": [
    "print(len(quotes))"
   ]
  },
  {
   "cell_type": "code",
   "execution_count": 74,
   "metadata": {},
   "outputs": [
    {
     "data": {
      "text/plain": [
       "<div class=\"col-6 col-lg-3 text-center margin-30px-bottom sm-margin-30px-top\">\n",
       "<a href=\"/inspirational-quotes/7991-i-will-love-the-light-for-it-shows-me-the-way\"><img alt=\"I will love the light for it shows me the way, yet I will endure the darkness because it shows me the stars #&lt;Author:0x00007fabd91b3028&gt;\" class=\"margin-10px-bottom shadow\" height=\"310\" src=\"https://assets.passiton.com/quotes/quote_artwork/7991/medium/20191007_monday_quote.jpg?1570141391\" width=\"310\"/></a>\n",
       "<h5 class=\"value_on_red\"><a href=\"/inspirational-quotes/7991-i-will-love-the-light-for-it-shows-me-the-way\">OVERCOMING</a></h5>\n",
       "</div>"
      ]
     },
     "execution_count": 74,
     "metadata": {},
     "output_type": "execute_result"
    }
   ],
   "source": [
    "quotes[0]"
   ]
  },
  {
   "cell_type": "code",
   "execution_count": 78,
   "metadata": {},
   "outputs": [
    {
     "data": {
      "text/plain": [
       "<img alt=\"I will love the light for it shows me the way, yet I will endure the darkness because it shows me the stars #&lt;Author:0x00007fabd91b3028&gt;\" class=\"margin-10px-bottom shadow\" height=\"310\" src=\"https://assets.passiton.com/quotes/quote_artwork/7991/medium/20191007_monday_quote.jpg?1570141391\" width=\"310\"/>"
      ]
     },
     "execution_count": 78,
     "metadata": {},
     "output_type": "execute_result"
    }
   ],
   "source": [
    "quote_image=quotes[0]\n",
    "quote_image.img"
   ]
  },
  {
   "cell_type": "code",
   "execution_count": 82,
   "metadata": {},
   "outputs": [
    {
     "data": {
      "text/plain": [
       "{'alt': 'I will love the light for it shows me the way, yet I will endure the darkness because it shows me the stars #<Author:0x00007fabd91b3028>',\n",
       " 'class': ['margin-10px-bottom', 'shadow'],\n",
       " 'src': 'https://assets.passiton.com/quotes/quote_artwork/7991/medium/20191007_monday_quote.jpg?1570141391',\n",
       " 'width': '310',\n",
       " 'height': '310'}"
      ]
     },
     "execution_count": 82,
     "metadata": {},
     "output_type": "execute_result"
    }
   ],
   "source": [
    "quote_image.img.attrs\n",
    "#creates a dict of the attributes"
   ]
  },
  {
   "cell_type": "code",
   "execution_count": 84,
   "metadata": {},
   "outputs": [
    {
     "data": {
      "text/plain": [
       "'https://assets.passiton.com/quotes/quote_artwork/7991/medium/20191007_monday_quote.jpg?1570141391'"
      ]
     },
     "execution_count": 84,
     "metadata": {},
     "output_type": "execute_result"
    }
   ],
   "source": [
    "quote_image.img.attrs['src']"
   ]
  },
  {
   "cell_type": "code",
   "execution_count": 98,
   "metadata": {},
   "outputs": [],
   "source": [
    "with open('Inspiration1.jpg','wb') as file:\n",
    "    img_url=quote_image.img.attrs['src']\n",
    "    response=requests.get(img_url)\n",
    "    file.write(response.content)"
   ]
  },
  {
   "cell_type": "code",
   "execution_count": 102,
   "metadata": {},
   "outputs": [],
   "source": [
    "# for the rest we will iterate \n",
    "for i,quote in enumerate(quotes):\n",
    "    with open('Inspiration{}.jpg'.format(i),'wb') as file:\n",
    "        img_url=quote.img.attrs['src']\n",
    "        response=requests.get(img_url)\n",
    "        file.write(response.content)"
   ]
  },
  {
   "cell_type": "code",
   "execution_count": null,
   "metadata": {},
   "outputs": [],
   "source": []
  },
  {
   "cell_type": "code",
   "execution_count": null,
   "metadata": {},
   "outputs": [],
   "source": []
  },
  {
   "cell_type": "code",
   "execution_count": null,
   "metadata": {},
   "outputs": [],
   "source": []
  },
  {
   "cell_type": "code",
   "execution_count": null,
   "metadata": {},
   "outputs": [],
   "source": []
  },
  {
   "cell_type": "code",
   "execution_count": null,
   "metadata": {},
   "outputs": [],
   "source": []
  },
  {
   "cell_type": "code",
   "execution_count": null,
   "metadata": {},
   "outputs": [],
   "source": []
  },
  {
   "cell_type": "code",
   "execution_count": null,
   "metadata": {},
   "outputs": [],
   "source": []
  },
  {
   "cell_type": "code",
   "execution_count": null,
   "metadata": {},
   "outputs": [],
   "source": []
  },
  {
   "cell_type": "code",
   "execution_count": null,
   "metadata": {},
   "outputs": [],
   "source": []
  },
  {
   "cell_type": "code",
   "execution_count": null,
   "metadata": {},
   "outputs": [],
   "source": []
  },
  {
   "cell_type": "code",
   "execution_count": null,
   "metadata": {},
   "outputs": [],
   "source": []
  },
  {
   "cell_type": "code",
   "execution_count": null,
   "metadata": {},
   "outputs": [],
   "source": []
  },
  {
   "cell_type": "code",
   "execution_count": null,
   "metadata": {},
   "outputs": [],
   "source": []
  },
  {
   "cell_type": "code",
   "execution_count": null,
   "metadata": {},
   "outputs": [],
   "source": []
  },
  {
   "cell_type": "code",
   "execution_count": null,
   "metadata": {},
   "outputs": [],
   "source": []
  },
  {
   "cell_type": "code",
   "execution_count": null,
   "metadata": {},
   "outputs": [],
   "source": []
  },
  {
   "cell_type": "code",
   "execution_count": null,
   "metadata": {},
   "outputs": [],
   "source": []
  },
  {
   "cell_type": "code",
   "execution_count": null,
   "metadata": {},
   "outputs": [],
   "source": []
  },
  {
   "cell_type": "code",
   "execution_count": null,
   "metadata": {},
   "outputs": [],
   "source": []
  },
  {
   "cell_type": "code",
   "execution_count": null,
   "metadata": {},
   "outputs": [],
   "source": []
  },
  {
   "cell_type": "code",
   "execution_count": null,
   "metadata": {},
   "outputs": [],
   "source": []
  },
  {
   "cell_type": "code",
   "execution_count": null,
   "metadata": {},
   "outputs": [],
   "source": []
  },
  {
   "cell_type": "code",
   "execution_count": null,
   "metadata": {},
   "outputs": [],
   "source": []
  },
  {
   "cell_type": "code",
   "execution_count": null,
   "metadata": {},
   "outputs": [],
   "source": []
  },
  {
   "cell_type": "code",
   "execution_count": null,
   "metadata": {},
   "outputs": [],
   "source": []
  },
  {
   "cell_type": "code",
   "execution_count": null,
   "metadata": {},
   "outputs": [],
   "source": []
  },
  {
   "cell_type": "code",
   "execution_count": null,
   "metadata": {},
   "outputs": [],
   "source": []
  },
  {
   "cell_type": "code",
   "execution_count": null,
   "metadata": {},
   "outputs": [],
   "source": []
  },
  {
   "cell_type": "code",
   "execution_count": null,
   "metadata": {},
   "outputs": [],
   "source": []
  },
  {
   "cell_type": "code",
   "execution_count": null,
   "metadata": {},
   "outputs": [],
   "source": []
  },
  {
   "cell_type": "code",
   "execution_count": null,
   "metadata": {},
   "outputs": [],
   "source": []
  },
  {
   "cell_type": "code",
   "execution_count": null,
   "metadata": {},
   "outputs": [],
   "source": []
  },
  {
   "cell_type": "code",
   "execution_count": null,
   "metadata": {},
   "outputs": [],
   "source": []
  },
  {
   "cell_type": "code",
   "execution_count": null,
   "metadata": {},
   "outputs": [],
   "source": []
  },
  {
   "cell_type": "code",
   "execution_count": null,
   "metadata": {},
   "outputs": [],
   "source": []
  },
  {
   "cell_type": "code",
   "execution_count": null,
   "metadata": {},
   "outputs": [],
   "source": []
  }
 ],
 "metadata": {
  "kernelspec": {
   "display_name": "Python 3",
   "language": "python",
   "name": "python3"
  },
  "language_info": {
   "codemirror_mode": {
    "name": "ipython",
    "version": 3
   },
   "file_extension": ".py",
   "mimetype": "text/x-python",
   "name": "python",
   "nbconvert_exporter": "python",
   "pygments_lexer": "ipython3",
   "version": "3.7.3"
  }
 },
 "nbformat": 4,
 "nbformat_minor": 2
}
