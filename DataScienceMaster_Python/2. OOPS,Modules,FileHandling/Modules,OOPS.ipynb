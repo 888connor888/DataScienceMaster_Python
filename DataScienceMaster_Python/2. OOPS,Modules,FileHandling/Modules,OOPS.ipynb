{
 "cells": [
  {
   "cell_type": "code",
   "execution_count": 1,
   "metadata": {},
   "outputs": [
    {
     "name": "stdout",
     "output_type": "stream",
     "text": [
      "120\n"
     ]
    }
   ],
   "source": [
    "import math\n",
    "print(math.factorial(5))"
   ]
  },
  {
   "cell_type": "code",
   "execution_count": 2,
   "metadata": {},
   "outputs": [
    {
     "name": "stdout",
     "output_type": "stream",
     "text": [
      "2\n",
      "4.0\n",
      "2\n"
     ]
    }
   ],
   "source": [
    "print(math.floor(15/6))\n",
    "print(math.log(16,2))\n",
    "print(math.gcd(16,2))"
   ]
  },
  {
   "cell_type": "code",
   "execution_count": 3,
   "metadata": {},
   "outputs": [
    {
     "name": "stdout",
     "output_type": "stream",
     "text": [
      "21\n"
     ]
    }
   ],
   "source": [
    "print(sum([1,2,3,4,5,6]))"
   ]
  },
  {
   "cell_type": "markdown",
   "metadata": {},
   "source": [
    "# sys module\n",
    "some of the notes are in the_python_files folder"
   ]
  },
  {
   "cell_type": "code",
   "execution_count": 4,
   "metadata": {},
   "outputs": [
    {
     "name": "stdout",
     "output_type": "stream",
     "text": [
      "['C:\\\\Users\\\\H3RMIT\\\\Anaconda3\\\\lib\\\\site-packages\\\\ipykernel_launcher.py', '-f', 'C:\\\\Users\\\\H3RMIT\\\\AppData\\\\Roaming\\\\jupyter\\\\runtime\\\\kernel-fb8a8fa0-52cc-4d23-8661-4725a281082e.json']\n"
     ]
    }
   ],
   "source": [
    "import sys\n",
    "def print_func():\n",
    "    print(sys.argv)#gives us the list of cmd arguements \n",
    "print_func()    "
   ]
  },
  {
   "cell_type": "code",
   "execution_count": 8,
   "metadata": {},
   "outputs": [],
   "source": [
    "class person():\n",
    "    def __init__(self,pname,clg):\n",
    "        self.name=pname\n",
    "        self.college=clg\n",
    "    def __say_hi(self): # the two under scroles means that the method is PRIVATE\n",
    "        print(\"Hello \",self.name)\n",
    "    def Introduce(self):\n",
    "        print(\"My name is \",self.name)\n",
    "        print(\"I'm from\",self.college)\n",
    "        self.__say_hi()  # can be accessed through public method\n",
    "\n"
   ]
  },
  {
   "cell_type": "code",
   "execution_count": 9,
   "metadata": {},
   "outputs": [
    {
     "name": "stdout",
     "output_type": "stream",
     "text": [
      "My name is  Shubham\n",
      "I'm from NIT\n",
      "Hello  Shubham\n"
     ]
    }
   ],
   "source": [
    "p=person(\"Shubham\",\"NIT\")\n",
    "# p.say_hi()  it is a private method\n",
    "p.Introduce()   "
   ]
  },
  {
   "cell_type": "code",
   "execution_count": 10,
   "metadata": {},
   "outputs": [],
   "source": [
    "class Dog():\n",
    "    self.color = []  # this data member is same for all object\n",
    "    def __init__(self,breed):\n",
    "        self.activities=[]  # this data member is unique for every object\n",
    "        self.breed=breed\n",
    "    def addactivities(self,act):\n",
    "        self.activities.append(act)\n",
    "    def showactivities(self):\n",
    "        print(self.breed)\n",
    "        print(self.activities)\n",
    "    "
   ]
  },
  {
   "cell_type": "code",
   "execution_count": 11,
   "metadata": {},
   "outputs": [
    {
     "name": "stdout",
     "output_type": "stream",
     "text": [
      "Bull Dog\n",
      "['Jumps', 'Sleeps', 'Shits']\n"
     ]
    }
   ],
   "source": [
    "d= Dog(\"Bull Dog\")\n",
    "d.addactivities(\"Jumps\")\n",
    "d.addactivities(\"Sleeps\")\n",
    "d.addactivities(\"Shits\")\n",
    "d.showactivities()"
   ]
  },
  {
   "cell_type": "code",
   "execution_count": null,
   "metadata": {},
   "outputs": [],
   "source": []
  },
  {
   "cell_type": "code",
   "execution_count": null,
   "metadata": {},
   "outputs": [],
   "source": []
  },
  {
   "cell_type": "code",
   "execution_count": null,
   "metadata": {},
   "outputs": [],
   "source": []
  }
 ],
 "metadata": {
  "kernelspec": {
   "display_name": "Python 3",
   "language": "python",
   "name": "python3"
  },
  "language_info": {
   "codemirror_mode": {
    "name": "ipython",
    "version": 3
   },
   "file_extension": ".py",
   "mimetype": "text/x-python",
   "name": "python",
   "nbconvert_exporter": "python",
   "pygments_lexer": "ipython3",
   "version": "3.7.7"
  }
 },
 "nbformat": 4,
 "nbformat_minor": 2
}
